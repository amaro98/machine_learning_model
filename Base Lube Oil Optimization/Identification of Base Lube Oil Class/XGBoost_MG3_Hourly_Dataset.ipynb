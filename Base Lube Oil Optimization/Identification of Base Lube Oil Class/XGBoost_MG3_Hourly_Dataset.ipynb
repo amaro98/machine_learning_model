{
  "nbformat": 4,
  "nbformat_minor": 0,
  "metadata": {
    "colab": {
      "name": "XGBoost MG3 Hourly Dataset  ",
      "provenance": [],
      "collapsed_sections": []
    },
    "kernelspec": {
      "display_name": "Python 3",
      "name": "python3"
    },
    "language_info": {
      "name": "python"
    }
  },
  "cells": [
    {
      "cell_type": "markdown",
      "metadata": {
        "id": "Fc9WYmV3TIZH"
      },
      "source": [
        "#**XGBoost MISO for MG3 (Process Variable as Input)**"
      ]
    },
    {
      "cell_type": "markdown",
      "metadata": {
        "id": "4kBcDGGxK7gq"
      },
      "source": [
        "##Mount Google Drive & Install latest modules"
      ]
    },
    {
      "cell_type": "code",
      "metadata": {
        "id": "g5ycAJbE-Odl"
      },
      "source": [
        "from google.colab import drive\n",
        "drive.mount('/content/drive')"
      ],
      "execution_count": null,
      "outputs": []
    },
    {
      "cell_type": "code",
      "metadata": {
        "id": "bMMFXO5HOrHD"
      },
      "source": [
        "#!pip install optuna\n",
        "!pip install xgboost\n",
        "#uninstall 0.90, install 1.4.2"
      ],
      "execution_count": null,
      "outputs": []
    },
    {
      "cell_type": "markdown",
      "metadata": {
        "id": "ENAzQRCPY_6J"
      },
      "source": [
        "##Importing Libraries"
      ]
    },
    {
      "cell_type": "code",
      "metadata": {
        "id": "GawGoFBOztgF"
      },
      "source": [
        "'''\n",
        "from google.colab import files\n",
        "uploaded = files.upload()\n",
        "'''\n",
        "\n",
        "import pandas as pd\n",
        "import numpy as np\n",
        "\n",
        "from google.colab import data_table\n",
        "from numpy import absolute\n",
        "from pandas import read_csv\n",
        "from sklearn.model_selection import train_test_split\n",
        "from sklearn.model_selection import cross_val_score\n",
        "from sklearn.model_selection import RepeatedKFold\n",
        "from sklearn.multioutput import MultiOutputRegressor\n",
        "from xgboost import XGBClassifier\n",
        "from numpy import absolute\n",
        "from sklearn.metrics import r2_score\n",
        "from sklearn.metrics import mean_squared_error\n",
        "from sklearn.metrics import r2_score\n",
        "import xgboost as xgb\n",
        "import matplotlib.pyplot as plt\n",
        "import numpy as np\n",
        "import plotly.express"
      ],
      "execution_count": 1,
      "outputs": []
    },
    {
      "cell_type": "markdown",
      "metadata": {
        "id": "Ac2LhH3jTFb5"
      },
      "source": [
        "## Importing Datasets\n",
        "\n",
        "here, the data is imported into dataframes - `df`"
      ]
    },
    {
      "cell_type": "code",
      "metadata": {
        "id": "hQuDIHpDTmbM"
      },
      "source": [
        "%reload_ext google.colab.data_table\n",
        "df = pd.read_excel(\"/content/drive/MyDrive/00 MACHINE LEARNING/MG3/Dataset - Dataset_MG3_hourly_ID_Preprocessed_Auto_Manual_Input.xlsx\")"
      ],
      "execution_count": 2,
      "outputs": []
    },
    {
      "cell_type": "code",
      "metadata": {
        "colab": {
          "base_uri": "https://localhost:8080/"
        },
        "id": "4mr__fk4CpDT",
        "outputId": "f5fbf595-f628-4099-8e3e-891270f5eb53"
      },
      "source": [
        "'''\n",
        "-  Process Variables (Input) at Column 3 to Column 33\n",
        "-  Dependant Variables (Output) at last column\n",
        "'''\n",
        "\n",
        "X_PV = df.iloc[:,2:34]\n",
        "y = df.iloc[:,53]\n",
        "\n",
        "\n",
        "#Observe top 5 dataframe\n",
        "\n",
        "#X_PV.head()\n",
        "y.head()\n",
        "\n",
        "\n",
        "#Count how many elements in Dependent Variable column (y)\n",
        "unique, counts = np.unique(y, return_counts=True)\n",
        "dict(zip(unique, counts))"
      ],
      "execution_count": 3,
      "outputs": [
        {
          "output_type": "execute_result",
          "data": {
            "text/plain": [
              "{'C-1': 24409,\n",
              " 'C-2': 13784,\n",
              " 'C-3': 7917,\n",
              " 'T-12': 49,\n",
              " 'T-21': 8,\n",
              " 'T-23': 16,\n",
              " 'T-31': 11,\n",
              " 'T-32': 1}"
            ]
          },
          "metadata": {},
          "execution_count": 3
        }
      ]
    },
    {
      "cell_type": "markdown",
      "metadata": {
        "id": "3qAVCgr3TF-U"
      },
      "source": [
        "## Train Test Split"
      ]
    },
    {
      "cell_type": "code",
      "metadata": {
        "id": "xJuV0CvCaWXt"
      },
      "source": [
        "from sklearn.preprocessing import StandardScaler\n",
        "\n",
        "sc = StandardScaler()\n",
        "\n",
        "# Total Data                                               : 46194\n",
        "# Reserved for Train_Test (80%)                            : 36956\n",
        "# Reserved for Model Testing after development (20%)       : 9239\n",
        "\n",
        "# Input                                                    : X_PV or X_ALL\n",
        "# Output                                                   : y_he\n",
        "\n",
        "\n",
        "Xdev = X_PV.iloc[0:36956,:].values\n",
        "ydev = y.iloc[0:36956].values      \n",
        "\n",
        "Xdep = X_PV.iloc[36956:,:]\n",
        "ydep = y.iloc[36956:] \n",
        "\n",
        "\n",
        "\n",
        "X_train, X_test, y_train, y_test = train_test_split(Xdev,ydev, test_size=0.2, random_state = None)\n"
      ],
      "execution_count": 4,
      "outputs": []
    },
    {
      "cell_type": "code",
      "metadata": {
        "colab": {
          "base_uri": "https://localhost:8080/"
        },
        "id": "uNbeFJ_f2Ian",
        "outputId": "76b1cd39-1632-4556-844a-7b887cc43ee2"
      },
      "source": [
        "#Count how many elements in Dependent Variable column (y_train/y_test/ydep)\n",
        "\n",
        "unique, counts = np.unique(ydep, return_counts=True)\n",
        "dict(zip(unique, counts))"
      ],
      "execution_count": 39,
      "outputs": [
        {
          "output_type": "execute_result",
          "data": {
            "text/plain": [
              "{'C-1': 4566, 'C-2': 3077, 'C-3': 1591, 'T-31': 4, 'T-32': 1}"
            ]
          },
          "metadata": {},
          "execution_count": 39
        }
      ]
    },
    {
      "cell_type": "code",
      "metadata": {
        "colab": {
          "base_uri": "https://localhost:8080/"
        },
        "id": "GE4xnAvbeaLn",
        "outputId": "c51c104c-51fe-4eb3-b16e-d8118f2dfcc0"
      },
      "source": [
        "#List of all Input Variables\n",
        "for i in range (32):\n",
        "  print(i+1,X_PV.columns[i])"
      ],
      "execution_count": 38,
      
    {
      "cell_type": "markdown",
      "metadata": {
        "id": "1fst4s-5-Ffh"
      },
      "source": [
        "##Label Encoder\n",
        "\n",
        "This Label Encoder encodes categorical dependant variables"
      ]
    },
    {
      "cell_type": "code",
      "metadata": {
        "id": "ldT-LSr3hRLv"
      },
      "source": [
        "from sklearn.preprocessing import LabelEncoder\n",
        "from sklearn.preprocessing import OneHotEncoder\n",
        "import sys\n",
        "import numpy\n",
        "numpy.set_printoptions(threshold=sys.maxsize)\n",
        "\n",
        "#One Hot Encoding Training Data\n",
        "label_encoder = LabelEncoder()\n",
        "label_encoder = label_encoder.fit(y_train)\n",
        "label_encoded_y = label_encoder.transform(y_train)"
      ],
      "execution_count": 8,
      "outputs": []
    },
    {
      "cell_type": "code",
      "metadata": {
        "id": "Qw3dgqWDFOkm"
      },
      "source": [
        "#One Hot Encoding Test Data\n",
        "label_encoder = LabelEncoder()\n",
        "label_encoder = label_encoder.fit(y_test)\n",
        "label_encoded_y = label_encoder.transform(y_test)\n"
      ],
      "execution_count": 9,
      "outputs": []
    },
    {
      "cell_type": "code",
      "metadata": {
        "id": "ffBdMwmML56W"
      },
      "source": [
        "#One Hot Encoding Unseen Data\n",
        "label_encoder = LabelEncoder()\n",
        "label_encoder = label_encoder.fit(ydep)\n",
        "label_encoded_y = label_encoder.transform(ydep)"
      ],
      "execution_count": 10,
      "outputs": []
    },
    {
      "cell_type": "code",
      "metadata": {
        "colab": {
          "base_uri": "https://localhost:8080/"
        },
        "id": "R5kSrUg1NDrv",
        "outputId": "bc6bc061-11d3-4df6-e9bf-3d0677858198"
      },
      "source": [
        "#Verify Encoded output\n",
        "ydep"
      ],
      "execution_count": 33,
      "outputs": [
        {
          "output_type": "execute_result",
          "data": {
            "text/plain": [
              "36956    C-2\n",
              "36957    C-2\n",
              "36958    C-2\n",
              "36959    C-2\n",
              "36960    C-2\n",
              "        ... \n",
              "46190    C-3\n",
              "46191    C-3\n",
              "46192    C-3\n",
              "46193    C-3\n",
              "46194    C-3\n",
              "Name: CLASS, Length: 9239, dtype: object"
            ]
          },
          "metadata": {},
          "execution_count": 33
        }
      ]
    },
    {
      "cell_type": "markdown",
      "metadata": {
        "id": "6C-F2x4iJRuX"
      },
      "source": [
        "##Developing Model"
      ]
    },
    {
      "cell_type": "code",
      "metadata": {
        "colab": {
          "base_uri": "https://localhost:8080/",
          "height": 408
        },
        "id": "TSumb0QWiAG0",
        "outputId": "95fa32a5-751b-4813-943d-d8c260d70477"
      },
      "source": [
        "\n",
        "from sklearn.model_selection import RandomizedSearchCV\n",
        "from sklearn.model_selection import GridSearchCV\n",
        "\n",
        "regressor = XGBRegressor()\n",
        "\n",
        "params = {\n",
        "      'n_estimators' : [500],\n",
        "      'max_depth': [3],\n",
        "      'learning_rate': [0.01,0.1,0.300000012,0.5,0.9], #eta\n",
        "      #'reg_lambda': [1],\n",
        "      'colsample_bylevel'  : [0.25],\n",
        "      'colsample_bynode'   : [0],\n",
        "      'colsample_bytree'   : [1], #\n",
        "      #'gamma'              : [0], #\n",
        "   #'max_delta_step'     : [0],\n",
        "    \n",
        "   #'min_child_weight'   : [1],\n",
        "    #'reg_alpha'          : [0],\n",
        "   #'scale_pos_weight'   : [1],\n",
        "   #'subsample'          : [1],\n",
        "  # 'n_jobs'             : [2]\n",
        "}\n",
        "\n",
        "grid_regressor = GridSearchCV(estimator = regressor,\n",
        "                        param_grid = params,\n",
        "                        cv = 5, \n",
        "                        verbose = 1,\n",
        "                        n_jobs = -1)\n",
        "grid_regressor.fit(X_train,y_train)\n",
        "\n",
        "\n",
        "print(\"Best Estimator: \\n{}\\n\".format(grid_regressor.best_estimator_))\n",
        "print(\"Best Parameters: \\n{}\\n\".format(grid_regressor.best_params_))\n",
        "print(\"Best Test Score: \\n{}\\n\".format(grid_regressor.best_score_))\n",
        "print(\"All Test Scores: \\n{}\\n\".format(grid_regressor.cv_results_['mean_test_score']))\n",
        " \n",
        "cv_result = pd.DataFrame(grid_regressor.cv_results_)\n"
      ],
      "execution_count": null,
      "outputs": [
        {
          "name": "stdout",
          "output_type": "stream",
          "text": [
            "Fitting 5 folds for each of 5 candidates, totalling 25 fits\n"
          ]
        },
        {
          "name": "stderr",
          "output_type": "stream",
          "text": [
            "[Parallel(n_jobs=-1)]: Using backend LokyBackend with 2 concurrent workers.\n"
          ]
        },
        {
          "ename": "KeyboardInterrupt",
          "evalue": "ignored",
          "output_type": "error",
          "traceback": [
            "\u001b[0;31m---------------------------------------------------------------------------\u001b[0m",
            "\u001b[0;31mKeyboardInterrupt\u001b[0m                         Traceback (most recent call last)",
            "\u001b[0;32m<ipython-input-76-7eecc6495eb5>\u001b[0m in \u001b[0;36m<module>\u001b[0;34m()\u001b[0m\n\u001b[1;32m     28\u001b[0m                         \u001b[0mverbose\u001b[0m \u001b[0;34m=\u001b[0m \u001b[0;36m1\u001b[0m\u001b[0;34m,\u001b[0m\u001b[0;34m\u001b[0m\u001b[0;34m\u001b[0m\u001b[0m\n\u001b[1;32m     29\u001b[0m                         n_jobs = -1)\n\u001b[0;32m---> 30\u001b[0;31m \u001b[0mgrid_regressor\u001b[0m\u001b[0;34m.\u001b[0m\u001b[0mfit\u001b[0m\u001b[0;34m(\u001b[0m\u001b[0mX_train\u001b[0m\u001b[0;34m,\u001b[0m\u001b[0my_train\u001b[0m\u001b[0;34m)\u001b[0m\u001b[0;34m\u001b[0m\u001b[0;34m\u001b[0m\u001b[0m\n\u001b[0m\u001b[1;32m     31\u001b[0m \u001b[0;34m\u001b[0m\u001b[0m\n\u001b[1;32m     32\u001b[0m \u001b[0;34m\u001b[0m\u001b[0m\n",
            "\u001b[0;32m/usr/local/lib/python3.7/dist-packages/sklearn/model_selection/_search.py\u001b[0m in \u001b[0;36mfit\u001b[0;34m(self, X, y, groups, **fit_params)\u001b[0m\n\u001b[1;32m    708\u001b[0m                 \u001b[0;32mreturn\u001b[0m \u001b[0mresults\u001b[0m\u001b[0;34m\u001b[0m\u001b[0;34m\u001b[0m\u001b[0m\n\u001b[1;32m    709\u001b[0m \u001b[0;34m\u001b[0m\u001b[0m\n\u001b[0;32m--> 710\u001b[0;31m             \u001b[0mself\u001b[0m\u001b[0;34m.\u001b[0m\u001b[0m_run_search\u001b[0m\u001b[0;34m(\u001b[0m\u001b[0mevaluate_candidates\u001b[0m\u001b[0;34m)\u001b[0m\u001b[0;34m\u001b[0m\u001b[0;34m\u001b[0m\u001b[0m\n\u001b[0m\u001b[1;32m    711\u001b[0m \u001b[0;34m\u001b[0m\u001b[0m\n\u001b[1;32m    712\u001b[0m         \u001b[0;31m# For multi-metric evaluation, store the best_index_, best_params_ and\u001b[0m\u001b[0;34m\u001b[0m\u001b[0;34m\u001b[0m\u001b[0;34m\u001b[0m\u001b[0m\n",
            "\u001b[0;32m/usr/local/lib/python3.7/dist-packages/sklearn/model_selection/_search.py\u001b[0m in \u001b[0;36m_run_search\u001b[0;34m(self, evaluate_candidates)\u001b[0m\n\u001b[1;32m   1149\u001b[0m     \u001b[0;32mdef\u001b[0m \u001b[0m_run_search\u001b[0m\u001b[0;34m(\u001b[0m\u001b[0mself\u001b[0m\u001b[0;34m,\u001b[0m \u001b[0mevaluate_candidates\u001b[0m\u001b[0;34m)\u001b[0m\u001b[0;34m:\u001b[0m\u001b[0;34m\u001b[0m\u001b[0;34m\u001b[0m\u001b[0m\n\u001b[1;32m   1150\u001b[0m         \u001b[0;34m\"\"\"Search all candidates in param_grid\"\"\"\u001b[0m\u001b[0;34m\u001b[0m\u001b[0;34m\u001b[0m\u001b[0m\n\u001b[0;32m-> 1151\u001b[0;31m         \u001b[0mevaluate_candidates\u001b[0m\u001b[0;34m(\u001b[0m\u001b[0mParameterGrid\u001b[0m\u001b[0;34m(\u001b[0m\u001b[0mself\u001b[0m\u001b[0;34m.\u001b[0m\u001b[0mparam_grid\u001b[0m\u001b[0;34m)\u001b[0m\u001b[0;34m)\u001b[0m\u001b[0;34m\u001b[0m\u001b[0;34m\u001b[0m\u001b[0m\n\u001b[0m\u001b[1;32m   1152\u001b[0m \u001b[0;34m\u001b[0m\u001b[0m\n\u001b[1;32m   1153\u001b[0m \u001b[0;34m\u001b[0m\u001b[0m\n",
            "\u001b[0;32m/usr/local/lib/python3.7/dist-packages/sklearn/model_selection/_search.py\u001b[0m in \u001b[0;36mevaluate_candidates\u001b[0;34m(candidate_params)\u001b[0m\n\u001b[1;32m    687\u001b[0m                                \u001b[0;32mfor\u001b[0m \u001b[0mparameters\u001b[0m\u001b[0;34m,\u001b[0m \u001b[0;34m(\u001b[0m\u001b[0mtrain\u001b[0m\u001b[0;34m,\u001b[0m \u001b[0mtest\u001b[0m\u001b[0;34m)\u001b[0m\u001b[0;34m\u001b[0m\u001b[0;34m\u001b[0m\u001b[0m\n\u001b[1;32m    688\u001b[0m                                in product(candidate_params,\n\u001b[0;32m--> 689\u001b[0;31m                                           cv.split(X, y, groups)))\n\u001b[0m\u001b[1;32m    690\u001b[0m \u001b[0;34m\u001b[0m\u001b[0m\n\u001b[1;32m    691\u001b[0m                 \u001b[0;32mif\u001b[0m \u001b[0mlen\u001b[0m\u001b[0;34m(\u001b[0m\u001b[0mout\u001b[0m\u001b[0;34m)\u001b[0m \u001b[0;34m<\u001b[0m \u001b[0;36m1\u001b[0m\u001b[0;34m:\u001b[0m\u001b[0;34m\u001b[0m\u001b[0;34m\u001b[0m\u001b[0m\n",
            "\u001b[0;32m/usr/local/lib/python3.7/dist-packages/joblib/parallel.py\u001b[0m in \u001b[0;36m__call__\u001b[0;34m(self, iterable)\u001b[0m\n\u001b[1;32m   1052\u001b[0m \u001b[0;34m\u001b[0m\u001b[0m\n\u001b[1;32m   1053\u001b[0m             \u001b[0;32mwith\u001b[0m \u001b[0mself\u001b[0m\u001b[0;34m.\u001b[0m\u001b[0m_backend\u001b[0m\u001b[0;34m.\u001b[0m\u001b[0mretrieval_context\u001b[0m\u001b[0;34m(\u001b[0m\u001b[0;34m)\u001b[0m\u001b[0;34m:\u001b[0m\u001b[0;34m\u001b[0m\u001b[0;34m\u001b[0m\u001b[0m\n\u001b[0;32m-> 1054\u001b[0;31m                 \u001b[0mself\u001b[0m\u001b[0;34m.\u001b[0m\u001b[0mretrieve\u001b[0m\u001b[0;34m(\u001b[0m\u001b[0;34m)\u001b[0m\u001b[0;34m\u001b[0m\u001b[0;34m\u001b[0m\u001b[0m\n\u001b[0m\u001b[1;32m   1055\u001b[0m             \u001b[0;31m# Make sure that we get a last message telling us we are done\u001b[0m\u001b[0;34m\u001b[0m\u001b[0;34m\u001b[0m\u001b[0;34m\u001b[0m\u001b[0m\n\u001b[1;32m   1056\u001b[0m             \u001b[0melapsed_time\u001b[0m \u001b[0;34m=\u001b[0m \u001b[0mtime\u001b[0m\u001b[0;34m.\u001b[0m\u001b[0mtime\u001b[0m\u001b[0;34m(\u001b[0m\u001b[0;34m)\u001b[0m \u001b[0;34m-\u001b[0m \u001b[0mself\u001b[0m\u001b[0;34m.\u001b[0m\u001b[0m_start_time\u001b[0m\u001b[0;34m\u001b[0m\u001b[0;34m\u001b[0m\u001b[0m\n",
            "\u001b[0;32m/usr/local/lib/python3.7/dist-packages/joblib/parallel.py\u001b[0m in \u001b[0;36mretrieve\u001b[0;34m(self)\u001b[0m\n\u001b[1;32m    931\u001b[0m             \u001b[0;32mtry\u001b[0m\u001b[0;34m:\u001b[0m\u001b[0;34m\u001b[0m\u001b[0;34m\u001b[0m\u001b[0m\n\u001b[1;32m    932\u001b[0m                 \u001b[0;32mif\u001b[0m \u001b[0mgetattr\u001b[0m\u001b[0;34m(\u001b[0m\u001b[0mself\u001b[0m\u001b[0;34m.\u001b[0m\u001b[0m_backend\u001b[0m\u001b[0;34m,\u001b[0m \u001b[0;34m'supports_timeout'\u001b[0m\u001b[0;34m,\u001b[0m \u001b[0;32mFalse\u001b[0m\u001b[0;34m)\u001b[0m\u001b[0;34m:\u001b[0m\u001b[0;34m\u001b[0m\u001b[0;34m\u001b[0m\u001b[0m\n\u001b[0;32m--> 933\u001b[0;31m                     \u001b[0mself\u001b[0m\u001b[0;34m.\u001b[0m\u001b[0m_output\u001b[0m\u001b[0;34m.\u001b[0m\u001b[0mextend\u001b[0m\u001b[0;34m(\u001b[0m\u001b[0mjob\u001b[0m\u001b[0;34m.\u001b[0m\u001b[0mget\u001b[0m\u001b[0;34m(\u001b[0m\u001b[0mtimeout\u001b[0m\u001b[0;34m=\u001b[0m\u001b[0mself\u001b[0m\u001b[0;34m.\u001b[0m\u001b[0mtimeout\u001b[0m\u001b[0;34m)\u001b[0m\u001b[0;34m)\u001b[0m\u001b[0;34m\u001b[0m\u001b[0;34m\u001b[0m\u001b[0m\n\u001b[0m\u001b[1;32m    934\u001b[0m                 \u001b[0;32melse\u001b[0m\u001b[0;34m:\u001b[0m\u001b[0;34m\u001b[0m\u001b[0;34m\u001b[0m\u001b[0m\n\u001b[1;32m    935\u001b[0m                     \u001b[0mself\u001b[0m\u001b[0;34m.\u001b[0m\u001b[0m_output\u001b[0m\u001b[0;34m.\u001b[0m\u001b[0mextend\u001b[0m\u001b[0;34m(\u001b[0m\u001b[0mjob\u001b[0m\u001b[0;34m.\u001b[0m\u001b[0mget\u001b[0m\u001b[0;34m(\u001b[0m\u001b[0;34m)\u001b[0m\u001b[0;34m)\u001b[0m\u001b[0;34m\u001b[0m\u001b[0;34m\u001b[0m\u001b[0m\n",
            "\u001b[0;32m/usr/local/lib/python3.7/dist-packages/joblib/_parallel_backends.py\u001b[0m in \u001b[0;36mwrap_future_result\u001b[0;34m(future, timeout)\u001b[0m\n\u001b[1;32m    540\u001b[0m         AsyncResults.get from multiprocessing.\"\"\"\n\u001b[1;32m    541\u001b[0m         \u001b[0;32mtry\u001b[0m\u001b[0;34m:\u001b[0m\u001b[0;34m\u001b[0m\u001b[0;34m\u001b[0m\u001b[0m\n\u001b[0;32m--> 542\u001b[0;31m             \u001b[0;32mreturn\u001b[0m \u001b[0mfuture\u001b[0m\u001b[0;34m.\u001b[0m\u001b[0mresult\u001b[0m\u001b[0;34m(\u001b[0m\u001b[0mtimeout\u001b[0m\u001b[0;34m=\u001b[0m\u001b[0mtimeout\u001b[0m\u001b[0;34m)\u001b[0m\u001b[0;34m\u001b[0m\u001b[0;34m\u001b[0m\u001b[0m\n\u001b[0m\u001b[1;32m    543\u001b[0m         \u001b[0;32mexcept\u001b[0m \u001b[0mCfTimeoutError\u001b[0m \u001b[0;32mas\u001b[0m \u001b[0me\u001b[0m\u001b[0;34m:\u001b[0m\u001b[0;34m\u001b[0m\u001b[0;34m\u001b[0m\u001b[0m\n\u001b[1;32m    544\u001b[0m             \u001b[0;32mraise\u001b[0m \u001b[0mTimeoutError\u001b[0m \u001b[0;32mfrom\u001b[0m \u001b[0me\u001b[0m\u001b[0;34m\u001b[0m\u001b[0;34m\u001b[0m\u001b[0m\n",
            "\u001b[0;32m/usr/lib/python3.7/concurrent/futures/_base.py\u001b[0m in \u001b[0;36mresult\u001b[0;34m(self, timeout)\u001b[0m\n\u001b[1;32m    428\u001b[0m                 \u001b[0;32mreturn\u001b[0m \u001b[0mself\u001b[0m\u001b[0;34m.\u001b[0m\u001b[0m__get_result\u001b[0m\u001b[0;34m(\u001b[0m\u001b[0;34m)\u001b[0m\u001b[0;34m\u001b[0m\u001b[0;34m\u001b[0m\u001b[0m\n\u001b[1;32m    429\u001b[0m \u001b[0;34m\u001b[0m\u001b[0m\n\u001b[0;32m--> 430\u001b[0;31m             \u001b[0mself\u001b[0m\u001b[0;34m.\u001b[0m\u001b[0m_condition\u001b[0m\u001b[0;34m.\u001b[0m\u001b[0mwait\u001b[0m\u001b[0;34m(\u001b[0m\u001b[0mtimeout\u001b[0m\u001b[0;34m)\u001b[0m\u001b[0;34m\u001b[0m\u001b[0;34m\u001b[0m\u001b[0m\n\u001b[0m\u001b[1;32m    431\u001b[0m \u001b[0;34m\u001b[0m\u001b[0m\n\u001b[1;32m    432\u001b[0m             \u001b[0;32mif\u001b[0m \u001b[0mself\u001b[0m\u001b[0;34m.\u001b[0m\u001b[0m_state\u001b[0m \u001b[0;32min\u001b[0m \u001b[0;34m[\u001b[0m\u001b[0mCANCELLED\u001b[0m\u001b[0;34m,\u001b[0m \u001b[0mCANCELLED_AND_NOTIFIED\u001b[0m\u001b[0;34m]\u001b[0m\u001b[0;34m:\u001b[0m\u001b[0;34m\u001b[0m\u001b[0;34m\u001b[0m\u001b[0m\n",
            "\u001b[0;32m/usr/lib/python3.7/threading.py\u001b[0m in \u001b[0;36mwait\u001b[0;34m(self, timeout)\u001b[0m\n\u001b[1;32m    294\u001b[0m         \u001b[0;32mtry\u001b[0m\u001b[0;34m:\u001b[0m    \u001b[0;31m# restore state no matter what (e.g., KeyboardInterrupt)\u001b[0m\u001b[0;34m\u001b[0m\u001b[0;34m\u001b[0m\u001b[0m\n\u001b[1;32m    295\u001b[0m             \u001b[0;32mif\u001b[0m \u001b[0mtimeout\u001b[0m \u001b[0;32mis\u001b[0m \u001b[0;32mNone\u001b[0m\u001b[0;34m:\u001b[0m\u001b[0;34m\u001b[0m\u001b[0;34m\u001b[0m\u001b[0m\n\u001b[0;32m--> 296\u001b[0;31m                 \u001b[0mwaiter\u001b[0m\u001b[0;34m.\u001b[0m\u001b[0macquire\u001b[0m\u001b[0;34m(\u001b[0m\u001b[0;34m)\u001b[0m\u001b[0;34m\u001b[0m\u001b[0;34m\u001b[0m\u001b[0m\n\u001b[0m\u001b[1;32m    297\u001b[0m                 \u001b[0mgotit\u001b[0m \u001b[0;34m=\u001b[0m \u001b[0;32mTrue\u001b[0m\u001b[0;34m\u001b[0m\u001b[0;34m\u001b[0m\u001b[0m\n\u001b[1;32m    298\u001b[0m             \u001b[0;32melse\u001b[0m\u001b[0;34m:\u001b[0m\u001b[0;34m\u001b[0m\u001b[0;34m\u001b[0m\u001b[0m\n",
            "\u001b[0;31mKeyboardInterrupt\u001b[0m: "
          ]
        }
      ]
    },
    {
      "cell_type": "code",
      "metadata": {
        "colab": {
          "base_uri": "https://localhost:8080/"
        },
        "id": "VfUDWgfetR2B",
        "outputId": "1b0fd93f-068b-43e5-9717-1d24957b94f6"
      },
      "source": [
        "\n",
        "print(\"Best Estimator: \\n{}\\n\".format(grid_regressor.best_estimator_))\n",
        "print(\"Best Parameters: \\n{}\\n\".format(grid_regressor.best_params_))\n",
        "print(\"Best Test Score: \\n{}\\n\".format(grid_regressor.best_score_))\n",
        "print(\"All Test Scores: \\n{}\\n\".format(grid_regressor.cv_results_['mean_test_score']))\n",
        " \n",
        "cv_result = pd.DataFrame(grid_regressor.cv_results_)\n"
      ],
      "execution_count": null,
      "outputs": [
        {
          "name": "stdout",
          "output_type": "stream",
          "text": [
            "Best Estimator: \n",
            "XGBRegressor(base_score=0.5, booster='gbtree', colsample_bylevel=0.5,\n",
            "             colsample_bynode=0.5, colsample_bytree=0.25, gamma=0, gpu_id=-1,\n",
            "             importance_type='gain', interaction_constraints='',\n",
            "             learning_rate=0.5, max_delta_step=0, max_depth=1,\n",
            "             min_child_weight=1, missing=nan, monotone_constraints='()',\n",
            "             n_estimators=10, n_jobs=2, num_parallel_tree=1,\n",
            "             objective='reg:squarederror', random_state=0, reg_alpha=10,\n",
            "             reg_lambda=6, scale_pos_weight=1, subsample=1, tree_method='exact',\n",
            "             validate_parameters=1, verbosity=None)\n",
            "\n",
            "Best Parameters: \n",
            "{'colsample_bylevel': 0.5, 'colsample_bynode': 0.5, 'colsample_bytree': 0.25, 'gamma': None, 'learning_rate': 0.5, 'max_depth': 1, 'n_estimators': 10, 'reg_alpha': 10, 'reg_lambda': 6, 'scale_pos_weight': 1}\n",
            "\n",
            "Best Test Score: \n",
            "-0.1375917043312536\n",
            "\n",
            "All Test Scores: \n",
            "[-0.1375917 -0.1375917 -0.1375917 -0.1375917]\n",
            "\n"
          ]
        }
      ]
    },
    {
      "cell_type": "markdown",
      "metadata": {
        "id": "J0PsLethTGPg"
      },
      "source": [
        "## Training XGBoost on Training Set\n",
        "\n",
        "To train:\n",
        "\n",
        "`machine_learning_model.fit(input_training_Data, output_training_data)`\n",
        "\n",
        "To test:\n",
        "\n",
        "`output_prediction = machine_learning_model.predict(input_test_data)`"
      ]
    },
    {
      "cell_type": "code",
      "metadata": {
        "colab": {
          "base_uri": "https://localhost:8080/"
        },
        "id": "AT0G73V5bm3d",
        "outputId": "c548034e-b142-4b7f-ecc7-941c4f82b9fe"
      },
      "source": [
        "classifier = XGBClassifier()\n",
        "classifier.fit(X_train, y_train)"
      ],
      "execution_count": 11,
      "outputs": [
        {
          "output_type": "stream",
          "name": "stderr",
          "text": [
            "/usr/local/lib/python3.7/dist-packages/xgboost/sklearn.py:1146: UserWarning:\n",
            "\n",
            "The use of label encoder in XGBClassifier is deprecated and will be removed in a future release. To remove this warning, do the following: 1) Pass option use_label_encoder=False when constructing XGBClassifier object; and 2) Encode your labels (y) as integers starting with 0, i.e. 0, 1, 2, ..., [num_class - 1].\n",
            "\n"
          ]
        },
        {
          "output_type": "stream",
          "name": "stdout",
          "text": [
            "[06:37:47] WARNING: ../src/learner.cc:1095: Starting in XGBoost 1.3.0, the default evaluation metric used with the objective 'multi:softprob' was changed from 'merror' to 'mlogloss'. Explicitly set eval_metric if you'd like to restore the old behavior.\n"
          ]
        },
        {
          "output_type": "execute_result",
          "data": {
            "text/plain": [
              "XGBClassifier(base_score=0.5, booster='gbtree', colsample_bylevel=1,\n",
              "              colsample_bynode=1, colsample_bytree=1, gamma=0, gpu_id=-1,\n",
              "              importance_type='gain', interaction_constraints='',\n",
              "              learning_rate=0.300000012, max_delta_step=0, max_depth=6,\n",
              "              min_child_weight=1, missing=nan, monotone_constraints='()',\n",
              "              n_estimators=100, n_jobs=2, num_parallel_tree=1,\n",
              "              objective='multi:softprob', random_state=0, reg_alpha=0,\n",
              "              reg_lambda=1, scale_pos_weight=None, subsample=1,\n",
              "              tree_method='exact', use_label_encoder=True,\n",
              "              validate_parameters=1, verbosity=None)"
            ]
          },
          "metadata": {},
          "execution_count": 11
        }
      ]
    },
    {
      "cell_type": "markdown",
      "metadata": {
        "id": "C7ARPjziDfmB"
      },
      "source": [
        "## Evaluate Train Set"
      ]
    },
    {
      "cell_type": "code",
      "metadata": {
        "colab": {
          "base_uri": "https://localhost:8080/",
          "height": 598
        },
        "id": "7y64fT8iDh6Y",
        "outputId": "840ef455-d32d-4d6d-decb-d3bd4c95e880"
      },
      "source": [
        "from sklearn.metrics import confusion_matrix, accuracy_score\n",
        "from sklearn.metrics import plot_confusion_matrix\n",
        "\n",
        "fig, ax = plt.subplots(figsize=(10, 10))\n",
        "cm= plot_confusion_matrix(classifier,\n",
        "                      X_train,\n",
        "                      y_train,\n",
        "                      cmap=plt.cm.Blues,\n",
        "                      display_labels=[\"C-1\",\"C-2\",\"C-3\",\"T-12\",\"T-21\",\"T23\",\"T-31\"],\n",
        "                    values_format= '.0f',\n",
        "                    ax = ax)\n",
        "\n",
        "cm.ax_.set_title('Confusion Matrix for Training Data')\n",
        "plt.show()\n",
        "\n",
        "'''\n",
        "[TRAIN DATA COUNT]\n",
        "\n",
        " 'C-1': 15885,\n",
        " 'C-2': 8546,\n",
        " 'C-3': 5074,\n",
        " 'T-12': 34,\n",
        " 'T-21': 6,\n",
        " 'T-23': 12,\n",
        " 'T-31': 7}\n",
        "'''"
      ],
      "execution_count": 12,
      "outputs": [
        {
          "output_type": "display_data",
          "data": {
            "image/png": "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\n",
            "text/plain": [
              "<Figure size 720x720 with 2 Axes>"
            ]
          },
          "metadata": {
            "needs_background": "light"
          }
        },
        {
          "output_type": "execute_result",
          "data": {
            "application/vnd.google.colaboratory.intrinsic+json": {
              "type": "string"
            },
            "text/plain": [
              "\"\\n[TRAIN DATA COUNT]\\n\\n 'C-1': 15885,\\n 'C-2': 8546,\\n 'C-3': 5074,\\n 'T-12': 34,\\n 'T-21': 6,\\n 'T-23': 12,\\n 'T-31': 7}\\n\""
            ]
          },
          "metadata": {},
          "execution_count": 12
        }
      ]
    },
    {
      "cell_type": "markdown",
      "metadata": {
        "id": "v34oai4JDYvq"
      },
      "source": [
        "## Running Evaluate Test Set"
      ]
    },
    {
      "cell_type": "code",
      "metadata": {
        "colab": {
          "base_uri": "https://localhost:8080/",
          "height": 597
        },
        "id": "0PHWEi1XT9y2",
        "outputId": "fdfa58b2-7897-4551-fe47-9b243e8dd881"
      },
      "source": [
        "\n",
        "'''\n",
        "[TEST DATA COUNT]\n",
        "'C-1': 3958, \n",
        "'C-2': 2161, \n",
        "'C-3': 1252, \n",
        "'T-12': 15, \n",
        "'T-21': 2, \n",
        "'T-23': 4\n",
        "'''\n",
        "\n",
        "\n",
        "\n",
        "from sklearn.metrics import confusion_matrix, accuracy_score\n",
        "from sklearn.metrics import plot_confusion_matrix\n",
        "\n",
        "y_pred = classifier.predict(X_test)\n",
        "\n",
        "fig, ax = plt.subplots(figsize=(10, 10))\n",
        "cm= plot_confusion_matrix(classifier,\n",
        "                      X_test,\n",
        "                      y_test,\n",
        "                      cmap=plt.cm.Blues,\n",
        "                      display_labels=[\"C-1\",\"C-2\",\"C-3\",\"T-12\",\"T-21\",\"T23\",\"T-31\"],\n",
        "                    values_format= '.0f',\n",
        "                    ax = ax)\n",
        "\n",
        "cm.ax_.set_title('Confusion Matrix for Test Data')\n",
        "plt.show()\n",
        "\n",
        "print(\"Prediction Accuracy: \",accuracy_score(y_test, y_pred)*100,\"%\")\n"
      ],
      "execution_count": 13,
      "outputs": [
        {
          "output_type": "display_data",
          "data": {
            "image/png": "iVBORw0KGgoAAAANSUhEUgAAAk4AAAIzCAYAAAD25ZbqAAAABHNCSVQICAgIfAhkiAAAAAlwSFlzAAALEgAACxIB0t1+/AAAADh0RVh0U29mdHdhcmUAbWF0cGxvdGxpYiB2ZXJzaW9uMy4yLjIsIGh0dHA6Ly9tYXRwbG90bGliLm9yZy+WH4yJAAAgAElEQVR4nOzdeZzVZd3/8ddnGMANAQXZRHFNcSOkJClvl9xTU+8sM8Vu+6mllW0uaWUuLbZYltVtpeVSitudKeWSmbvGGJq45JILq6CgIoLMzOf3x/mCI8HMF2XOGTiv5+NxHsy5zvec7+c6B5nL93V9rxOZiSRJkjrWUOsCJEmSVhYOnCRJkkpy4CRJklSSAydJkqSSHDhJkiSV1FjrAiRJUtfXbe0NM5tfr8q58vWZN2bmXlU52XJy4CRJkjqUza/T812HVOVc8yee368qJ3obnKqTJEkqycRJkiSVEBDmLb4DkiRJJZk4SZKkjgUQUesqas7ESZIkqSQTJ0mSVI5rnEycJEmSyjJxkiRJ5bjGycRJkiSpLBMnSZJUgvs4gYmTJElSaSZOkiSpHNc4mThJkiSV5cBJkiSpJKfqJElSxwIXh2PiJEmSVJqJkyRJKiFcHI6JkyRJUmkmTpIkqRzXOJk4SZIklWXiJEmSynGNk4mTJElSWSZOkiSpBL/kF0ycJEmSSjNxkiRJHQtc44SJkyRJUmkmTpIkqRzXOJk4SZIklWXiJEmSSvCqOjBxkiRJKs2BkyRJUklO1UmSpHIa3I7AxEl6GyJi9Yj4Y0S8HBFXvoPXOSwiblqRtdVCRPwpIsa+zeeeFRGzImL6iq5LklY0B05apUXExyNiQkTMjYhpxS/496+Al/5vYACwbmZ+5O2+SGZelpl7rIB63iIido6IjIhrl2jfrmi/reTrnB4Rl3Z0XGbunZm/fRt1bgB8CRiemQOX9/lLvlbxOS+6ZUS81ub+B97Gaz4TER9s5/GdI6K1zTkmR8S4iHjPcpyj1Hss1VxQWRxejVsX1rWrk96BiPgi8CPgW1QGORsAPwMOWAEvvyHwr8xsXgGv1VlmAu+LiHXbtI0F/rWiThAV7+TfkQ2AFzPzhbdx7rcsNcjM5zJzrUW3onm7Nm13vIM62zO1OF8vYDTwGHBHROzWSeeTVEMOnLRKiojewBnAcZl5TWa+lpkLM/OPmfmV4pieEfGjiJha3H4UET2Lx3Yu0oMvRcQLRVr1yeKxbwJfBz5apAxHLZkaRMSwIvFoLO4fGRFPR8SrEfHviDisTfudbZ63Y0T8vZgC/HtE7Njmsdsi4syIuKt4nZsiol87b8MbwP8BHyue3w34KHDZEu/VjyPi+Yh4JSKaFiUzEbEX8NU2/XywTR1nR8RdwDxg46LtU8XjP4+Iq9u8/ncj4i8Rb/2uhiLJuRkYXLz+b4r2/SNiUkTMKV53yzbPeSYiToqIh4DXlhw8LUvxWX8/Ip6LiBkR8YuIWL14rF9EXF+c76WIuCMiGiLiEioDuz8W9Z3Y3jmyYnJmfh34FfDdd/AefzIiHi0+56cj4pgy/ZQ6XUR1bl2YAyetqt4HrAZc284xp1JJCEYA2wHvBU5r8/hAoDcwBDgKOD8i+mbmN6ikWFcUScav2yskItYEzgP2zsxewI7AxKUctw5wQ3HsusAPgRuWSIw+DnwSWA/oAXy5vXMDFwNHFD/vCTwMTF3imL9TeQ/WAX4HXBkRq2Xmn5fo53ZtnnM4cDSVlOXZJV7vS8A2xaDwA1Teu7GZmW0PysxbgL0pEpvMPDIiNgd+D5wA9AfGUxm49Gjz1EOBfYE+y5H4fQfYvOjnplQ+06+3qXdycb4BVAYymZmHA88B+xX1nVPyXADXACOLzx6W/z1+AfgQsDaVz/vciBi5HOeX1EkcOGlVtS4wq4NfrIcBZ2TmC5k5E/gmlQHBIguLxxdm5nhgLvCut1lPK7B1RKyemdMyc9JSjtkXeCIzL8nM5sz8PZVpn/3aHHNRZv4rM18HxlH5ZbxMmXk3sE5EvIvKAOripRxzaWa+WJzzB0BPOu7nbzJzUvGchUu83jwq7+MPgUuBz2bm5A5eb5GPAjdk5s3F634fWJ3KYHOR8zLz+eI96FCRdB0NfCEzX8rMV6kMVj5WHLIQGARsWHzWdyw5yHsbplJZEdIHlv89zswbMvOpIsX6G3ATsNxrtKQVK1zjhAMnrbpeBPp1MJUzmLemJc8WbYtfY4mB1zxgLZZTZr5GZUBwLDAtIm6IiC1K1LOopiFt7re98qxsPZcAxwO7sJQELiK+XEwLvRwRc6ikbO1NAQI8396DmXkf8DSVwcO4EjUu8pb3IDNbi3O1fQ/aPfdS9AfWAJqK6bg5wJ+LdoDvAU8CNxXTYicv5+svzRAggTmw/O9xROwdEfcWU4dzgH3aO15S9Thw0qrqHmAB8OF2jplKZZH3Ihvwn9NYZb1G5ZfzIm+5Qiwzb8zM3akkG48BvyxRz6KaprzNmha5BPgMML5IgxYrptJOBA4B+mZmH+BlKgMeqPzyX5p2E5mIOI5KqjK1eP2y3vIeFGnRUN76HixvGjQLeB3YKjP7FLfeixaQZ+armfmlzNwY2B/4Yry5sPvtJk8HAg9k5mvL+x5HZZ3d1VTStgHF8ePbHC/VjmucHDhp1ZSZL1NZw3J+RHw4ItaIiO7F/8kvWqvye+C0iOhfLLL+OpWppbdjIrBTVC6J7w2csuiBiBgQEQcU610WUJnya13Ka4wHNo/KFgqNEfFRYDhw/dusCYDM/DfwX1TWdC2pF9BM5Qq8xoj4OpV1NYvMAIbFclw5V6xTOgv4BJUpuxMjot0pxTbGAftGxG4R0Z3K+qMFwN1lz7+kIrX6JZV1QusVNQ6JiD2Lnz8UEZsWg7SXgRbe/HxmABuXOU9UDImIbwCforJWCpb/Pe5BZdA5E2iOiL2BFb5lhaS3x4GTVlnFWpIvUlnwPZPKFM/xVK40g8ov9wnAQ8A/gQeKtrdzrpuBK4rXauKtg52Goo6pwEtUBjGfXsprvEhlQfCXqEw1ngh8KDNnvZ2alnjtOzNzaWnajVSmrf5FZYpsPm+dClu0ueeLEfFAR+cppkYvBb6bmQ9m5hNUBhCXFElKR3U+TmXA9RMqSdF+VBZnv9HRcztwEpXpuHsj4hXgFt5cY7RZcX8ulaTyZ5n51+Kxb1MZXM+JiGUtxB8cEXOL5/8d2AbYOTMXbWy6XO9xsQbrc1QGkbOpXBBw3dvuubQiucaJeOdrICVJ0qquYe31s+foz1flXPNvPrEpM0dV5WTLye+qkyRJHVsJ1h9VQ9fOwyRJkroQEydJklROF19/VA2+A5IkSSWtMolTNK6e0aNXrcuomRFbblDrEmrKWXdJ9ebZZ59h1qxZ/vNXZavOwKlHL3q+65Bal1Ezd97zk1qXUFMNDf7bIam+jNmhBheduTjcqTpJkqSyVpnESZIkdaZwcTgmTpIkSaWZOEmSpHJc42TiJEmSVJaJkyRJ6ljgGidMnCRJ0komIlaLiPsj4sGImBQR3yzafxMR/46IicVtRNEeEXFeRDwZEQ9FxMg2rzU2Ip4obmM7OreJkyRJKqFLXVW3ANg1M+dGRHfgzoj4U/HYVzLzqiWO3xvYrLjtAPwc2CEi1gG+AYwCEmiKiOsyc/ayTtxl3gFJkqQysmJucbd7cct2nnIAcHHxvHuBPhExCNgTuDkzXyoGSzcDe7V3bgdOkiSpnIjq3KBfRExoczv6P0uJbhExEXiByuDnvuKhs4vpuHMjomfRNgR4vs3TJxdty2pfJqfqJElSVzMrM9v9TpnMbAFGREQf4NqI2Bo4BZgO9AAuAE4CzliRhZk4SZKkcqKhOrflkJlzgL8Ce2XmtGI6bgFwEfDe4rApwNA2T1u/aFtW+zI5cJIkSSuViOhfJE1ExOrA7sBjxbolIiKADwMPF0+5DjiiuLpuNPByZk4DbgT2iIi+EdEX2KNoWyan6iRJUjldZ+fwQcBvI6IblRBoXGZeHxG3RkR/KrtOTQSOLY4fD+wDPAnMAz4JkJkvRcSZwN+L487IzJfaO7EDJ0mStFLJzIeAdy+lfddlHJ/Acct47ELgwrLndqpOkiSpJBMnSZLUsehSG2DWjO+AJElSSSZOkiSpnK6zOLxmTJwkSZJKMnGSJEmlhImTiZMkSVJZJk6SJKlDgYkTmDhJkiSVZuIkSZI6FsWtzpk4SZIklWTitAw9ezRywwUn0LN7I90au3HdX/7Bdy4YzwdGbc6Znz+QHt27MfHR5/nsWZfR0tLK3jttw6nHfojWTJqbW/nqD6/i3gefBuBj++7Al/9nTwC+f+GNXH7DfbXs2jvW0tLKbkd+j0H9e/P7Hx5LZnL2L67nur/8g4ZuDXzyoPdzzEd3rnWZnW7y9Nl8+vSLmfnSqwQw9sAxHHvoLrUuq2qOP+NSbrzzYfr17cU9V5xa63Kq7pa7H+GUH1xFS2srhx+wI184co9al1RV9r8e+x+ucaLKA6eIGAj8CHgPMAeYAZyQmf9qc8xOxTHbAh/LzKuqWeMiC95o5oBPn8drr79BY7cG/vSrL3LrvY/y89MP54DP/ISnnnuBU47Zl0P33YFLr7uH2//+OH+6/Z8AbLXpYC789v+ww0fOos/aa3DS/9ubXY44h8zktktO4k+3P8TLr75ei26tEP97xW1sPmwAr742H4DfXX8fU2bM5t5xp9HQ0MDMl16tcYXV0djYwFknHMR2Wwzl1dfms8sR32XnHbZgi40H1bq0qjj0Q6P5f4f8F8d+4+Jal1J1LS2tfOWccVz70+MZPKAPu479HnvvtE3dfPb2v777X++qNlUXlWHqtcBtmblJZm4PnAIMWOLQ54Ajgd9Vq7Zlee31NwDo3tiN7o3daGlp5Y2FzTz13AsA3HbfY+y/64i3HAuwxuo9yaz8vNvoLbntvseY88o8Xn71dW677zE++L7h1e3ICjRlxmxuumsSnzjgfYvbLrrmDr5y1N40NFT+OvVfp1etyquqgf16s90WQwHoteZqbD5sINNmzqlxVdUzZuSm9F17jVqXURNNk55h46H9GLZ+P3p0b+Sg3Ucy/m8P1bqsqrH/9dv/iKjKrSurZuK0C7AwM3+xqCEzH1zyoMx8BiAiWqtX2tI1NAS3XXISG63fn19feTtNk56lsVs3Rmy5ARMffY79dxvBkAF9Fx+/787b8vXj9qd/31589AuVbg5arw+TZ8xefMyUF+YwaL0+Ve/LinLquddw+vEHMHfegsVtz0yexbW3PMANtz1Iv75r8e0v/jebbLBeDausvuemvshDj09m+62G1boUVcG0mS+/5b/9wQP60vTwM7UrqMrsf333v95Vc3H41kDTinzBiDg6IiZExIRsXvFTX62tyU6HfYet9j2NkVttyJabDOKoUy/iW184iFt+82XmvraAltY3x3c33PYQO3zkLD7xlQv46rH7rvB6au3GOx+m3zprMWLLDd7S/sbCZlbr0citvz2Rww/Ykc+ddVmNKqyNufMWcMRJv+LbXzyYtddavdblSFKnMXFayReHZ+YFwAUADWusl511nlfmvs4dTf9it/cN56eX/oV9jv4RALvssMVSk5W7//EUw4b0Y53eazLthTm8f/vNFj82ZL0+3Nn0RGeV2qnue/Bp/nz7w9xy9yMsWLCQV1+bzzHf+C2D1uvDh3bZDoAP7bwdnz2zfgZOC5tbGHvSL/nIXqPYr5i21apvUP/eTGmTJE+dMZtB/XvXsKLqsv/13f96V83EaRKw/ZKNEXF2REyMiIlVrKVD6/ZZa3F6sFrP7uzy3i144pkZ9Ou7FgA9ujfy+bG7c9E1dwKw0fr9Fj9323etT4/ujbz08mv85d5H2WWHLejda3V691qdXXbYgr/c+2j1O7QCfP24/Xn4+jOZ+H/f5JdnfZIPjNqc//3mWPb5r225c0JlMHjXA0/WzTRdZvLZMy9j82EDOe6w3Wpdjqpo5PANeeq5mTw7ZRZvLGzmmpsfYO+dtq11WVVj/+u7//WumonTrcC3IuLoIikiIrYF/pyZXe5a5oH91uZnpx9Ot4YGGhqCa295gBvvfJgzPvdh9nj/1jQ0BBdefQd3TKhcELj/riP46L470NzcwuvzF3LUVy8EYM4r8/jer//Mrb89EYBzfv1n5rwyr2b96gwnHLE7x3z9t/z88r+y5uo9+fFXD611SVVx74NPc8X4+xm+6WA+8PFvA/C14/ZnjzFb1biy6jjq1Iu4q+kJXpwzl632PY2Tj96Hww/YsdZlVUVjYzfOOfEQDv7c+bS0JIftP5otN6mfK6rsf/32v6tPo1VDZHbaDNd/nixiMJWtBrYH5gPPUNmO4Ik2x7yHytV3fYtjpmdmh7+JGtZYL3u+65DOKHul8OJ9P6l1CTXV0OB/zJLqy5gdRtHUNKFq//h1W2ejXGvPM6pyrlcuP6IpM0dV5WTLqaprnDJzKtDu6CYz/w6sX52KJElSKX7lCuBXrkiSJJW2Ul9VJ0mSqiP8yhXAxEmSJKk0EydJklSKiZOJkyRJUmkmTpIkqRQTJxMnSZKk0kycJElSKSZOJk6SJEmlmThJkqSOuXM4YOIkSZJUmomTJEkqxTVOJk6SJEmlmThJkqQO+V11FSZOkiRJJTlwkiRJKsmpOkmSVIpTdSZOkiRJpZk4SZKkcgycTJwkSZLKMnGSJEkdC9c4gYmTJElSaSZOkiSpFBMnEydJkqTSTJwkSVIpJk6r0MDp3VtuwF33/bTWZdTMp698qNYl1NTPP7JtrUuQJNWBVWbgJEmSOo9f8lvhGidJkqSSTJwkSVI5Bk4mTpIkSWWZOEmSpI65czhg4iRJklSaAydJkqSSnKqTJEmlOFVn4iRJklSaiZMkSSrFxMnESZIkqTQTJ0mSVI6Bk4mTJElSWQ6cJElSKRFRlVuJOlaLiPsj4sGImBQR3yzaN4qI+yLiyYi4IiJ6FO09i/tPFo8Pa/NapxTtj0fEnh2d24GTJEla2SwAds3M7YARwF4RMRr4LnBuZm4KzAaOKo4/CphdtJ9bHEdEDAc+BmwF7AX8LCK6tXdiB06SJKlD1UqbyiROWTG3uNu9uCWwK3BV0f5b4MPFzwcU9yke3y0qJzoAuDwzF2Tmv4Engfe2d24HTpIkqavpFxET2tyOXvKAiOgWEROBF4CbgaeAOZnZXBwyGRhS/DwEeB6gePxlYN227Ut5zlJ5VZ0kSSqlivs4zcrMUe0dkJktwIiI6ANcC2xRjcJMnCRJ0korM+cAfwXeB/SJiEWh0PrAlOLnKcBQgOLx3sCLbduX8pylcuAkSZJK6SprnCKif5E0ERGrA7sDj1IZQP13cdhY4A/Fz9cV9ykevzUzs2j/WHHV3UbAZsD97Z3bqTpJkrSyGQT8trgCrgEYl5nXR8QjwOURcRbwD+DXxfG/Bi6JiCeBl6hcSUdmToqIccAjQDNwXDEFuEwOnCRJUjldZOfwzHwIePdS2p9mKVfFZeZ84CPLeK2zgbPLntupOkmSpJIcOEmSJJXkVJ0kSSqlitsRdFkmTpIkSSWZOEmSpI6FiRM4cFpux59xKTfe+TD9+vbinitOBeBrP76WG+94mO7du7HR+v04/+ufoHevNWpc6dvXd/XujH3vUNZerZFMuPPpF/nrky8ycv3e7Dt8AAPX7sl3//Ikz81+ffFz9tyiPztutA6ZcMU/pvDojMpXCB0+an22GbQ2ry5o5syb/lWrLnWan/3uVi75v7shguGbDub8r3+C1Xp2r3VZVXHL3Y9wyg+uoqW1lcMP2JEvHLlHrUuqKvtv/+u5//WsqlN1ETEwIi6PiKcioikixkfE5ksc88WIeCQiHoqIv0TEhtWssSOHfmg0V5133FvadtlhC+6+/Kvc9fuvsskG6/HD39xUo+pWjJZMrn5wGmfc+C/OufVJ/mvTfgzs1ZOpL8/ngruf5cmZr73l+IG9ejJqaB/OvPFf/OT2pzl05JDFV6ze88xsfnLHv6vfiSqY+sIc/veKv3HrxSdyzxWn0trayjU3NdW6rKpoaWnlK+eM48off4Z7x53G1Tc18djT02pdVtXYf/tfj/0PIKI6t66sagOn4luIrwVuy8xNMnN74BRgwBKH/gMYlZnbUvkG43OqVWMZY0ZuSt+135om7Tp6SxobuwHwnq03YuqMObUobYV5ZX4zz8+ppEkLmluZ/sp8+qzenemvLmDG3AX/cfx2Q9ZmwvNzaG5NXpy3kJlz32DYOpX36MlZr/HaG83/8ZxVRXNzC/MXLKS5uYV5899gYP/etS6pKpomPcPGQ/sxbP1+9OjeyEG7j2T83x6qdVlVY//tfz33v95VM3HaBViYmb9Y1JCZD2bmHW0Pysy/Zua84u69VL43ZqVx6XX38MEdh9e6jBVmnTW6M7Tv6jzz0rxlHtNn9e7Mnrdw8f3Zry+kz+qr/nTV4PX68NlP7MY2+32NLfY+lbXXXJ1dR29Z67KqYtrMlxkyoO/i+4MH9GXazJdrWFF12X/7X5/9r87XrXT1dVTVHDhtDSzvPMZRwJ+W9WBEHB0REyJiwsxZM99RcSvC9y/8M42NDRyy93tqXcoK0bNbA8fsuCFXTpzK/ObWWpfT5cx5ZR7jb/8nE//wTR7909nMm/8GV4xv9yuOJEkruS67HUFEfAIYBXxvWcdk5gWZOSozR/Xv1796xS3F7/54Lzfd+TAXnHlklx8tl9EQcPSOG3L/s3OYOOWVdo+d8/pC+q7xZsLUd/XuzHl9YTvPWDXcdv9jbDh4Xfr17UX3xm7st8t23P/Qqrmea0mD+vdmyozZi+9PnTGbQXUyTQn23/7Xb/9d41TdgdMkYPslGyPi7IiYGBET27R9EDgV2D8z/3NRTRdzy92PcN4lt/C7HxzDGqv1qHU5K8Tho4Yy/ZX5/OWJWR0e+9DUVxg1tA+NDcG6a3RnvbV6tDu1t6pYf+A6TPjnv5k3/w0yk7/9/XHetdGSS/ZWTSOHb8hTz83k2SmzeGNhM9fc/AB777RtrcuqGvtv/+u5//WumtsR3Ap8KyKOzswLACJiW+DPmXnqooMi4t3A/wJ7ZeYLVayvlKNOvYi7mp7gxTlz2Wrf0zj56H049zc3seCNZg487qcAjNpmGOeecmiNK337Nll3DUYP68vkOa/z1d03A+AP/5xOY0Pw0XcPZq2ejRz3/mFMnjOfn9zxb6a9soCm51/m63tuTmvC5f+YShav9T87bMDm/ddkrZ6NfGvfLbh+0gzufmb2sk++Ehm19TD23+3d7PyJ79KtWwPbvmt9xh44ptZlVUVjYzfOOfEQDv7c+bS0JIftP5otNxlU67Kqxv7b/3rt/6owo/JORWZ2fNSKOlnEYOBHVJKn+cAzwAmZ+USbY24BtgEWXdv5XGbu39Frb7/9qLzrvgkrvOaVxaevrO8rOn7+Ef9vT1J9GbPDKJqaJlRtJLPawM1zw7E/qcq5/nXOXk2ZOaoqJ1tOVd0AMzOnAod0cMwHq1SOJEkqayVYf1QNXXZxuCRJUlfjV65IkqQOBdDQYORk4iRJklSSAydJkqSSnKqTJEmluDjcxEmSJKk0EydJklSKG2CaOEmSJJVm4iRJkjrmBpiAiZMkSVJpJk6SJKlDgWucwMRJkiSpNBMnSZJUQpg4YeIkSZJUmomTJEkqxcDJxEmSJKk0EydJklSKa5xMnCRJkkozcZIkSR1z53DAxEmSJKk0B06SJEklOVUnSZI65FeuVJg4SZIklWTiJEmSSjFwMnGSJEkqzcRJkiSV4honB06rjJ9/ZNtal1BTNz4yvdYl1NSewwfWugRJqgsOnCRJUikGTq5xkiRJKs3ESZIkdSxc4wQmTpIkSaWZOEmSpA5Vdg6vdRW1Z+IkSZJUkomTJEkqIVzjhImTJElSaSZOkiSpFAMnEydJkqTSHDhJkiSV5FSdJEkqxcXhJk6SJEmlmThJkqSOhYvDwcRJkiSpNBMnSZLUocpXrhg5mThJkiSVZOIkSZJKMXEycZIkSSuZiBgaEX+NiEciYlJEfL5oPz0ipkTExOK2T5vnnBIRT0bE4xGxZ5v2vYq2JyPi5I7ObeIkSZJK6UKBUzPwpcx8ICJ6AU0RcXPx2LmZ+f22B0fEcOBjwFbAYOCWiNi8ePh8YHdgMvD3iLguMx9Z1okdOEmSpJVKZk4DphU/vxoRjwJD2nnKAcDlmbkA+HdEPAm8t3jsycx8GiAiLi+OXebAyak6SZJUSkRU5Qb0i4gJbW5Ht1PTMODdwH1F0/ER8VBEXBgRfYu2IcDzbZ42uWhbVvsyOXCSJEldzazMHNXmdsHSDoqItYCrgRMy8xXg58AmwAgqidQPVnRhTtVJkqSOdbGdwyOiO5VB02WZeQ1AZs5o8/gvgeuLu1OAoW2evn7RRjvtS2XiJEmSVipRmc/7NfBoZv6wTfugNocdCDxc/Hwd8LGI6BkRGwGbAfcDfwc2i4iNIqIHlQXk17V3bhMnSZLUoWDx+qOuYAxwOPDPiJhYtH0VODQiRgAJPAMcA5CZkyJiHJVF383AcZnZAhARxwM3At2ACzNzUnsnduAkSZJWKpl5J5VvgVnS+HaeczZw9lLax7f3vCU5cFpOx59xKTfe+TD9+vbinitOBeA7F9zAxf93N+v2WQuArx23P3uM2aqWZVbF/AUL2ffoH7FgYTMtzS3sv9u7OeWYfWtd1grxi1/9kQcmPsHaa6/J9791DACXXn4LD0x8gsZu3RiwXl+O/dR+rLnmarwwcw5fOuUXDB60LgCbbTKETx25z1te73vnXsGMmXMWv9aq4Ja7H+GUH1xFS2srhx+wI184co9al1RV9dz/pf07WG/q+fOvd1UdOEXEQOBHwHuAOcAMKivh/9XmmGOB44AWYC5wdHsbUVXboR8azf875L849hsXv6X904fuwmcP/2CNqqqNnj0a+cPPP8daa/RkYXMLe3/qh3xwx+G8Z5uNal3aO/Zf79+WPT84ivMveHOqe5utNuLQj+xKt24NXHbFX/i/6+/isI/uBsCA9fry3TP/31Jf6/4Jj9FztR5VqbtaWlpa+co547j2p8czeEAfdh37PfbeaRu22HhQx09eBdR7/5f17/3bLJsAACAASURBVGC9qOfPv+vM1NVO1RaHFwu5rgVuy8xNMnN74BRgwBKH/i4zt8nMEcA5wA/pQsaM3JS+a69R6zK6hIhgrTV6ArCwuYWFzS1daf77Hdlyiw1Zc83V39K23Tab0K1b5T+ZzTYZwkuzX+nwdebPf4Mb/nwvB+3//k6ps1aaJj3DxkP7MWz9fvTo3shBu49k/N8eqnVZVVPv/a/3fwfr/fOvd9VMnHYBFmbmLxY1ZOaDSx5U7MOwyJpUFnh1eb+88nYuH38/795yA8464SD61Mk/Ki0trex8+Hf59+SZHPWRnRi19bBal1QVt93xIO977/DF92fOnMPJX/slq6/ek0MO3pkt37UBAFdcfRv77jWaHj2616rUTjFt5ssMGdB38f3BA/rS9PAztSuoyuq9//Wunj//hlXkf47fiWpuR7A10FTmwIg4LiKeopI4fa6d445etKvozFkzV1CZy+9/Dv4A/7j2dO647GQG9Fub0350Tc1qqbZu3Rq443enMOmGs3hg0rM88uTUWpfU6a697k66NTTw/h23BqBvn7X46bmf5Ttn/j8OP3R3fvKLa5n3+gKeeXY6L7wwm/eO2qLGFUuSVpQuuY9TZp6fmZsAJwGntXPcBYt2Fe3fr3/1ClzCeuuuTbduDTQ0NDD2w2NomvRszWqpld691uAD22/OX+7pMsvROsVtdzzIAxOf4PhjP7x4WrJ790Z6rVVJGDfeaBAD1uvLtOkv8q8np/D0M9M4/ks/4fSzf8u06S/yzW+vGmtCBvXvzZQZsxffnzpjNoP6965hRdVV7/2vd/X8+UdU59aVVXPgNAnYfsnGiDg7Iia22YehrcuBD3d6Ze/Q9FkvL/75+tseZMtNVv0FggCzZr/Ky6/OA+D1+W/w1/sfY7NhSy5ZW3VMfOgp/jj+Hr5ywiH07Pnm1Nsrr7xGa2srADNemM306bMZ0L8ve+y2PT//8Qn89Aef5fRTxzJo4Lp845QjalX+CjVy+IY89dxMnp0yizcWNnPNzQ+w907b1rqsqqn3/tc7P//6Vs01TrcC34qIoxd950xEbAv8OTMXX88aEZtl5hPF3X2BJ/7zpWrnqFMv4q6mJ3hxzly22vc0Tj56H+5seoJ//msyEcEGg9bh3K8eWusyq2L6rFf4zOmX0NLaSmtrcuAHR7LXB7apdVkrxHk/u4ZHHnuOV+fO4zMn/Jj/PnAn/nD93Sxsbubs7/0OeHPbgUcff44rr/kb3Rq7ERF86si9WWut1Ts4w8qtsbEb55x4CAd/7nxaWpLD9h9dN//DAPZ/af8OHn7AjrUuq2rq9fOvpEFdPA6qgsis3trriBhMZTuC7YH5VHb1PKHNQImI+DHwQWAhMBs4vqNdPAG2335U3nXfhM4oWyuBGx+ZXusSamrP4QNrXYKkKhuzwyiamiZUbSTTe8Mtc/RJv6nKuW46bnRTZo6qysmWU1X3ccrMqcAhHRzz+SqVI0mSlkODgVPXXBwuSZLUFfmVK5IkqRTXOJk4SZIklWbiJEmSSjFwMnGSJEkqzcRJkiR1KIDAyMnESZIkqSQHTpIkSSU5VSdJkkpxA0wTJ0mSpNJMnCRJUsci3AATEydJkqTSTJwkSVIpBk4mTpIkSaWZOEmSpA4F0GDkZOIkSZJUlomTJEkqxcDJxEmSJKk0EydJklSK+ziZOEmSJJVm4iRJkjoU4RonMHGSJEkqzcRJkiSV4j5OJk6SJEmlOXCSJEkqyak6rRL2HD6w1iVI0irPiToTJ0mSpNJMnCRJUilugGniJEmSVJqJkyRJ6lAADQZOJk6SJEllmThJkqSORbjGCRMnSZKk0kycJElSKQZOJk6SJEmlmThJkqRSXOPUzsApIn4C5LIez8zPdUpFkiRJXVR7idOEqlUhSZK6NPdxqljmwCkzf9v2fkSskZnzOr8kSZKkrqnDxeER8b6IeAR4rLi/XUT8rNMrkyRJXUoUezl19q0rK3NV3Y+APYEXATLzQWCnzixKkiSpKyq1HUFmPr9EU0sn1CJJktSlldmO4PmI2BHIiOgOfB54tHPLkiRJXU3XnkSrjjKJ07HAccAQYCoworgvSZJUVzpMnDJzFnBYFWqRJEldVAQ0dPGF29VQ5qq6jSPijxExMyJeiIg/RMTG1ShOkiSpKykzVfc7YBwwCBgMXAn8vjOLkiRJXU9EdW5dWZmB0xqZeUlmNhe3S4HVOrswSZKkrqa976pbp/jxTxFxMnA5le+u+ygwvgq1SZKkLqSrb05ZDe0tDm+iMlBa9C4d0+axBE7prKIkSZK6omVO1WXmRpm5cfHnkjcXh0uSVGe6yhqniBgaEX+NiEciYlJEfL5oXycibo6IJ4o/+xbtERHnRcSTEfFQRIxs81pji+OfiIixHZ27zAaYRMTWwHDarG3KzIvLPFeSJGkFawa+lJkPREQvoCkibgaOBP6Smd8plhmdDJwE7A1sVtx2AH4O7FAsS/oGMIrKbFpTRFyXmbOXdeIOB04R8Q1gZyoDp/HFye8EHDhJklQngugy+zhl5jRgWvHzqxHxKJWNug+gMmYB+C1wG5WB0wHAxZmZwL0R0SciBhXH3pyZLwEUg6+9aGf3gDJX1f03sBswPTM/CWwH9F6+LkqSJJXWLyImtLkdvawDI2IY8G7gPmBAMagCmA4MKH4eArT93t3JRduy2pepzFTd65nZGhHNEbE28AIwtMTzVnmTp8/m06dfzMyXXiWAsQeO4dhDd6l1WVVz/BmXcuOdD9Ovby/uueLUWpdTE7fc/Qin/OAqWlpbOfyAHfnCkXvUuqSq+dnvbuWS/7sbIhi+6WDO//onWK1n91qXVTX1/NmD/a/L/ld3j6VZmTmqo4MiYi3gauCEzHyl7VV/mZkRkSu6sDKJ04SI6AP8ksqVdg8A97T3hIhYNyImFrfpETGlzf0ebY75a0TMjYiftnnuGhFxQ0Q8Viz4+s476F+namxs4KwTDuLecadx00Vf5ldX3c5jT0/r+ImriEM/NJqrzqvfry1saWnlK+eM48off4Z7x53G1Tc11c3nP/WFOfzvFX/j1otP5J4rTqW1tZVrbmqqdVlVU8+fPdj/eu9/VxER3akMmi7LzGuK5hnFFBzFny8U7VN4a+izftG2rPZl6nDglJmfycw5mfkLYHdgbDFl195zXszMEZk5AvgFcO6i+5n5RnHYfOBrwJeX8hLfz8wtqERvYyJi747qrIWB/Xqz3RaV97vXmqux+bCBTJs5p8ZVVc+YkZvSd+01al1GzTRNeoaNh/Zj2Pr96NG9kYN2H8n4vz1U67Kqprm5hfkLFtLc3MK8+W8wsH/9zODX+2dv/+u3/xFRlVuJOgL4NfBoZv6wzUPXAYuujBsL/KFN+xHF1XWjgZeLKb0bgT0iom9xBd4eRdsytbcB5sj2HsvMBzroV7sy8zXgzojYdIn2ecBfi5/fiIgHqIwAu7Tnpr7IQ49PZvuthtW6FFXJtJkvM2RA38X3Bw/oS9PDz9SuoCoavF4fPvuJ3dhmv6+xWs8e7LLDFuw6estal1U19fzZg/2v9/53EWOAw4F/RsTEou2rwHeAcRFxFPAscEjx2HhgH+BJYB7wSYDMfCkizgT+Xhx3xqKF4svS3hqnH7TzWAK7tvfCK0IxRbgf8ONlPH40cDTA0A026OxylmnuvAUccdKv+PYXD2bttVavWR1Stcx5ZR7jb/8nE//wTXr3WoMjT/41V4y/n4/u895alyapE5VZ31MNmXknb27QvaTdlnJ8AktdW5KZFwIXlj33MgdOmVnTVc4R0UjlcsDzMvPppR2TmRcAFwBsv/2oFb4ArIyFzS2MPemXfGSvUey364halKAaGdS/N1NmvLnVx9QZsxlUJ9NVt93/GBsOXpd+fXsBsN8u23H/Q/+um4FTPX/2YP/rvf/1rmqDx4g4sM0C8Q5XylMZED2RmT/q7Nrerszks2dexubDBnLcYf8xwNUqbuTwDXnquZk8O2UWbyxs5pqbH2DvnbatdVlVsf7AdZjwz38zb/4bZCZ/+/vjvGujAR0/cRVRz5892P9673+9K7Vz+IqQmdcC15Y5NiLOorJX1Kc6tah36N4Hn+aK8fczfNPBfODj3wbga8ftzx5jtqpxZdVx1KkXcVfTE7w4Zy5b7XsaJx+9D4cfsGOty6qaxsZunHPiIRz8ufNpaUkO2380W24yqNZlVcWorYex/27vZudPfJdu3RrY9l3rM/bAMbUuq2rq+bMH+1+v/Q/8kl+AqEz7deIJIk4H5mbm95fy2DPA2kAPYA6V1eyvUNmM6jFgQXHoTzPzV+2dZ/vtR+Vd901YcYVLktSFjdlhFE1NE6o2khmw6db50e9fVZVz/eTALZvK7ONUC2W+ciWAw4CNM/OMiNgAGJiZ95c5QWae3s5jw5Z12jKvLUmSqqfB386l1jj9DHgfcGhx/1Xg/E6rSJIkqYsqs8Zph8wcGRH/AMjM2Yt2/5YkSfXDxKlc4rQwIrpR2buJiOgPtHZqVZIkSV1QmcTpPCpXw60XEWcD/w2c1qlVSZKkLiXCq+qgxMApMy+LiCYqO3EG8OHMfLTTK5MkSepiylxVtwGV73X5Y9u2zHyuMwuTJEldi2ucyk3V3UBlfVMAqwEbAY8D9bHLoyRJUqHMVN02be9HxEjgM51WkSRJ6pJc4vQ2vqsuMx8AduiEWiRJkrq0MmucvtjmbgMwEpjaaRVJkqQuJ4AGI6dSa5x6tfm5mcqap6s7pxxJkqSuq92BU7HxZa/M/HKV6pEkSV3Ucq/vWQUt8z2IiMbMbAHGVLEeSZKkLqu9xOl+KuuZJkbEdcCVwGuLHszMazq5NkmSpC6lzBqn1YAXgV15cz+nBBw4SZJUR1wb3v7Aab3iirqHeXPAtEh2alWSJEldUHsDp27AWrx1wLSIAydJkupIRLgdAe0PnKZl5hlVq0SSJKmLa2/g5LBSkiQtZuDU/pYMu1WtCkmSpJXAMhOnzHypmoVIkqSurcHEyU1AJUmSyiqzj5MkSapzfslvhYmTJElSSSZOkiSpFAMnEydJkqTSTJwkSVLHwqvqwMRJkiSpNBMnSZJUSvilIiZOkiRJZTlwkiRJKsmpOkmS1KHKBpi1rqL2TJwkSZJKMnGSJEmlmDiZOEmSJJVm4iRJkkoJv3PFxEmSJKksEydJktQhr6qrMHGSJEkqycRJkiR1LMAlTiZOkiRJpZk4SZKkUhqMnEycJEmSyjJxkiRJHfKqugoTJ0mSpJJMnCRJUikucTJxkiRJKs2BkyRJUklO1UmSpBKCBpyrM3GSJEkqycRJkiR1KHBxOJg4SZIklWbiJEmSOhZugAkmTpIkSaWZOL0Dk6fP5tOnX8zMl14lgLEHjuHYQ3epdVlVdcvdj3DKD66ipbWVww/YkS8cuUetS6qqeu5/Pfcd7L/9r8/++yW/nZQ4RcS6ETGxuE2PiClt7vcojtk9Ipoi4p/Fn7u2ef7ZEfF8RMztjPpWlMbGBs464SDuHXcaN130ZX511e089vS0WpdVNS0trXzlnHFc+ePPcO+407j6pib7Xyf9r+e+g/23//Xd/64gIi6MiBci4uE2bacvMd7Yp81jp0TEkxHxeETs2aZ9r6LtyYg4ucy5O2XglJkvZuaIzBwB/AI4d9H9zHyjOGwWsF9mbgOMBS5p8xJ/BN7bGbWtSAP79Wa7LYYC0GvN1dh82ECmzZxT46qqp2nSM2w8tB/D1u9Hj+6NHLT7SMb/7aFal1U19dz/eu472H/7X5/9X3RVXTVuJfwG2Gsp7W3HG+MBImI48DFgq+I5P4uIbhHRDTgf2BsYDhxaHNuumq1xysx/ZObU4u4kYPWI6Fk8dm9mrlTD9+emvshDj09m+62G1bqUqpk282WGDOi7+P7gAX2ZNvPlGlZUXfXc/3ruO9h/+1/f/e8KMvN24KWShx8AXJ6ZCzLz38CTVMKZ9wJPZubTRahzeXFsu7rK4vCDgQcyc8HyPCkijo6ICRExYeasmZ1UWsfmzlvAESf9im9/8WDWXmv1mtUhSVJnaoioyg3ot+j3e3E7umSJx0fEQ8VU3qLR7RDg+TbHTC7altXe/ntQspBOExFbAd8Fjlne52bmBZk5KjNH9e/Xf8UXV8LC5hbGnvRLPrLXKPbbdURNaqiVQf17M2XG7MX3p86YzaD+vWtYUXXVc//rue9g/+1/ffe/SmYt+v1e3C4o8ZyfA5sAI4BpwA86o7CqDZwi4sA2C7ZGFW3rA9cCR2TmU9WqZUXJTD575mVsPmwgxx22W63LqbqRwzfkqedm8uyUWbyxsJlrbn6AvXfattZlVU0997+e+w723/7Xb/+70Bqn/5CZMzKzJTNbgV/y5lrpKcDQNoeuX7Qtq71dVduOIDOvpTJIAiAi+gA3ACdn5l3VqmNFuvfBp7li/P0M33QwH/j4twH42nH7s8eYrWpcWXU0NnbjnBMP4eDPnU9LS3LY/qPZcpNBtS6rauq5//Xcd7D/9r+++99VRcSgNuujDwQWXXF3HfC7iPghMBjYDLifynr3zSJiIyoDpo8BH+/wPJm5omt/6wkiTgfmZub3l2g/DTgFeKJN8x6Z+UJEnEOl+MHAVOBXmXl6e+fZfvtRedd9E1Zk6ZIkdVljdhhFU9OEqm2stNGW2+Y3Lr6+Kuf65Hs3bMrMUct6PCJ+D+wM9ANmAN8o7o8AEngGOGbRQCoiTgX+B2gGTsjMPxXt+wA/AroBF2bm2R3V1umJ07IGPJl5FnDWMh47ETixE8uSJEkrqcw8dCnNv27n+LOB/xgUFVsWjF+ec9d8cbgkSdLKwq9ckSRJHQsIv3LFxEmSJKksEydJklSKeZOJkyRJUmkmTpIkqUMBi74Opa6ZOEmSJJVk4iRJkkoxbzJxkiRJKs3ESZIkleISJxMnSZKk0kycJElSCeHO4Zg4SZIklWbiJEmSOhSYtoDvgSRJUmkmTpIkqRTXOJk4SZIklebASZIkqSSn6iRJUilO1Jk4SZIklWbiJEmSOhYuDgcTJ0mSpNJMnCRJUofcALPC90CSJKkkEydJklSKa5xMnCRJkkozcZIkSaWYN5k4SZIklWbiJEmSSnGJk4mTJElSaSZOkiSpQ5V9nIycTJwkSZJKMnGSJEmluMbJxEmSJKk0B06SJEklOVUnSZJKCMLF4SZOkiRJZZk4SZKkUlwcbuIkSZJUmomTJEnqkBtgVpg4SZIklWTiJEmSOhaucQITJ0mSpNJMnCRJUikmTiZOkiRJpZk4SZKkUtw53MRJkiSpNBMnSZLUoQAaDJxMnCRJksoycZIkSaW4xsnESZIkqTQHTpIkSSU5VSdJkkpxA0wTJ0mSpNJMnN6hW+5+hFN+cBUtra0cfsCOfOHIPWpdUtVMnj6bT59+MTNfepUAxh44hmMP3aXWZVXN8Wdcyo13Pky/vr2454pTa11O1dXz332w//a/Pvvv4vAqJE4RsW5ETCxu0yNiSvHzUxHx14h4JCImRcTn2zznzIh4qDjupogY3Nl1vh0tLa185ZxxXPnjz3DvuNO4+qYmHnt6Wq3LqprGxgbOOuEg7h13Gjdd9GV+ddXtddX/Qz80mqvOO67WZdREvf/dt//2v577X+86feCUmS9m5ojMHAH8Aji3+Pn9wJcyczgwGjguIoYXT/teZm5bHHc98PXOrvPtaJr0DBsP7cew9fvRo3sjB+0+kvF/e6jWZVXNwH692W6LoQD0WnM1Nh82kGkz59S4quoZM3JT+q69Rq3LqIl6/7tv/+1/PfZ/0QaY1bh1ZTVb45SZ0zLzgeLnV4FHgSHF/VfaHLomkNWvsGPTZr7MkAF9F98fPKAv02a+XMOKaue5qS/y0OOT2X6rYbUuRVVQ73/37b/9r+f+17suscYpIoYB7wbua9N2NnAE8DKw1IUzEXE0cDTA0A026OwytQxz5y3giJN+xbe/eDBrr7V6rcuRJHWKcI0TXeCquohYC7gaOKFt0pSZp2bmUOAy4PilPTczL8jMUZk5qn+//tUpuI1B/XszZcbsxfenzpjNoP69q15HLS1sbmHsSb/kI3uNYr9dR9S6HFVJvf/dt//2v577X+9qOnCKiO5UBk2XZeY1yzjsMuDg6lVV3sjhG/LUczN5dsos3ljYzDU3P8DeO21b67KqJjP57JmXsfmwgRx32G61LkdVVO9/9+2//a/L/kdlH6dq3DosJeLCiHghIh5u07ZORNwcEU8Uf/Yt2iMizouIJ4sLz0a2ec7Y4vgnImJsmbehZlN1ERHAr4FHM/OHSzy2WWY+Udw9AHis2vWV0djYjXNOPISDP3c+LS3JYfuPZstNBtW6rKq598GnuWL8/QzfdDAf+Pi3Afjacfuzx5italxZdRx16kXc1fQEL86Zy1b7nsbJR+/D4QfsWOuyqqLe/+7bf/tfz/3vIn4D/BS4uE3bycBfMvM7EXFycf8kYG9gs+K2A/BzYIeIWAf4BjCKylrqpoi4LjNn047IrN6664g4HZibmd+PiPcDdwD/BFqLQ76ameMj4mrgXUX7s8CxmTmlvdfefvtRedd9EzqveEmSupAxO4yiqWlC1RYdbbHNu/PX19xalXO9f/N1mjJzVHvHFOujr8/MrYv7jwM7Z+a0iBgE3JaZ74qI/y1+/n3b4xbdMvOYov0txy1LVROnzDy9zc93wtJXmWVml5yakyRJVdEvItqmIRdk5gUdPGdAZi7aUGs6MKD4eQjwfJvjJhdty2pvV5e4qk6SJHVtlX2cqhZwzeoocWpPZmZEdMqUWs2vqpMkSVoBZhRTdBR/vlC0TwGGtjlu/aJtWe3tcuAkSZJKiSrd3qbrgEVXxo0F/tCm/Yji6rrRwMvFlN6NwB4R0be4Am+Poq1dTtVJkqSVSkT8nsri7n4RMZnK1XHfAcZFxFFULiw7pDh8PLAP8CQwD/gkQGa+FBFnAn8vjjsjM1/q6NwOnCRJ0kolMw9dxkP/salgVrYPWOo3smfmhcCFy3NuB06SJKkcv3HFNU6SJEllmThJkqRS/JJfEydJkqTSTJwkSVIp1dv/susycZIkSSrJxEmSJJVi4GTiJEmSVJqJkyRJKsfIycRJkiSpLBMnSZLUocoX8Bo5mThJkiSVZOIkSZI6Fu7jBCZOkiRJpZk4SZKkUgycTJwkSZJKc+AkSZJUklN1kiSpHOfqTJwkSZLKMnGSJEklhBtgYuIkSZJUmomTJEkqxQ0wTZwkSZJKM3GSJEkdCryoDkycJEmSSjNxkiRJ5Rg5mThJkiSVZeIkSZJKcR8nEydJkqTSTJwkSVIp7uNk4iRJklSaiZMkSSrFwMnESZIkqTQTJ0mS1DG3DgdMnCRJkkpz4CRJklSSU3WSJKkUN8A0cZIkSSrNxEmSJHUocANMMHGSJEkqzcRJkiSVYuBk4iRJklSaiZMkSSrHyMnESZIkqSwTJ0mSVIr7OJk4SZIklWbiJEmSSnEfJxMnSZKk0kyc3oHJ02fz6dMvZuZLrxLA2APHcOyhu9S6rKq65e5HOOUHV9HS2srhB+zIF47co9YlVVU997+e+w72v577f/wZl3LjnQ/Tr28v7rni1FqXU1UGTp2UOEXEuhExsbhNj4gpbe73KI55b5u2ByPiwDbPvzAiXoiIhzujvhWlsbGBs044iHvHncZNF32ZX111O489Pa3WZVVNS0srXzlnHFf++DPcO+40rr6pyf7XSf/rue9g/+u9/4d+aDRXnXdcrctQjXTKwCkzX8zMEZk5AvgFcO6i+5n5/9u7+2Cp6vuO4+9PeJBnggERgYoVDAEqT9eHasIgUQd1IhJj0mrUtmQIqWgSJ1PJmCbWNNUmTtJmYhKJsdHUaJoqKR0tYIgRpAXh3gLyoIMPqCAi+IBBUhH99o/9bdzcAe65l7vn3L37eTE7d89vz9nf97t7r/72e377O/vTbhuAhrTPdOA2SeUK2E9SW4d27MD+jB89HIC+vXtw0ohj2bHr9YKjyk/jxq388fCBjBg2kO7duvLxcybx4CPriw4rN/Wcfz3nDs6/3vM/c9JIBvTrVXQYxVBOtw6ssDlOEbEvIg6kzR5AVDy2DHi1kMDa6PkXX2H9k9uYPHZE0aHkZseuPQwdPOD328cNHsCOXXsKjChf9Zx/PecOzr/e87f6VujkcEmnSdoIPA7MqRhIZT1+tqQ1ktbs2r2rOkFmsHffW1xx3e3cdO3F9OvTs7A4zMzMrLoKHThFxKqIGAucAnxZUo9WHj8/IhoiomHQwEHVCbIFbx94hyuv+xGXTG/gY9MmFBJDUYYM6s/2na/9fvvFna8xZFD/AiPKVz3nX8+5g/Ov9/zrVeksWj7/OrLcBk6SZlZMBm+ofCwiNgN7gXF5xdMeIoKrv343J404lqsu+2jR4eRu0pjjefr5XTy3fTf73z7A/Q81cd6Uk4sOKzf1nH895w7Ov97zt/qW23IEEbEAWFDelnQC8EJEHJB0PDAa2JpXPO1h5bpn+PmDjzFm5HF85NKbAPjbqy7k3DPHFhxZPrp27cI3/+aTXHzNrbzzTnDZhafzoROHFB1Wbuo5/3rOHZx/vec/6/p/YUXjFl55fS9jL/gK82afz+Uzzig6rOqTF8AEUES0vNeRdCDdAOyNiFuatV8OzAPeBt4FboyIX6bH7gGmAgOBncDXIuLHh+tn8uSGWLFqTbvHb2Zm1hGdeVoDjY1rchvK/MmESbFgyYpc+ho1uFdjRDS0vGf+ql5xiogbDtH+U+Cnh3jsz6sZk5mZmbWeC06+5IqZmZlZZr7kipmZmWXjkpMrTmZmZmZZeeBkZmZmGeS1ilO2spakrZIeT8scrUltR0t6SNKW9HNAapek70p6StJ6SZPa+ip44GRmZma16qx0HdzyN/DmAUsjYhSwNG0DnAeMSrfZwA/a2qEHTmZmZpaJlM/tCMwA7kz37wQuqmi/K0pWAu+XV+IsMAAAC0VJREFU1KbFxzxwMjMzs45mYPlatOk2+yD7BLBEUmPF44MjYke6/xIwON0fCrxQcey21NZq/ladmZmZtUjk+qW63RkWwPxwRGyXdAzwkKQnKh+MiJDU7qt8u+JkZmZmNScitqefL1O6pNupwM7yKbj08+W0+3ZgeMXhw1Jbq3ngZGZmZtkop1tLYUi9JfUt3wfOBTYAC4Er025XAv+R7i8Erkjfrjsd2FNxSq9VfKrOzMzMas1gYIFKM8m7Aj+LiEWSVgP/JmkW8BzwybT/g8D5wFPAPuAv29qxB05mZmZWUyLiGWD8QdpfAT56kPYArmqPvj1wMjMzs0yyLk7ZmXmOk5mZmVlGrjiZmZlZJke4OGWn4IqTmZmZWUauOJmZmVkmLji54mRmZmaWmStOZmZm1rIjvwBvp+CKk5mZmVlGrjiZmZlZRi45ueJkZmZmlpErTmZmZtYi4TlO4IqTmZmZWWauOJmZmVkmLji54mRmZmaWWaepODU1Ne7u2U3PFRjCQGB3gf0XqZ5zB+fv/Os3/3rOHYrP//i8O/Qcp040cIqIQUX2L2lNRDQUGUNR6jl3cP7Ov37zr+fcwfnXK5+qMzMzM8uo01SczMzMrLrk6eGuOLWj+UUHUKB6zh2cv/OvX/WcOzj/uqSIKDoGMzMz6+DGT5wcix9ZmUtfQ/p3b+yo88dccTIzMzPLyHOczMzMLBPPcHLFqVUkHSvpXklPS2qU9KCkk5rtM0VSk6QDkj5RVKztLWPu10raJGm9pKWScl9jpFoy5j9H0uOS1kp6VNKYouI9UpI+kPJYK+klSdsrtrtX7POwpL2SvldxbC9JD0h6QtJGSTcXl0nbZMz/nPS78Hj6Oa3i+G9IekHS3uKyODKHeQ2eTu/7pvT+fr7imK+nv/+1kpZIOq7IHNoi43t/akXbOkkzK46/Q9LLkjYUl4VVk+c4ZSRJwH8Dd0bED1PbeKBfRCyv2G8E0A/4ErAwIv49/2jbVytyPwtYFRH7JH0OmBoRnyok6HbUivz7RcQb6f6FwF9HxPQiYm5Pkm4A9kbELc3aewMTgXHAuIiYm9p7AadFxMPpfzRLgX+IiP/KN/L2cZj8JwI7I+JFSeOAxRExND12OvAcsCUi+uQdc3urfA0kDQGGRESTpL5AI3BRRGxq9jdwDTAmIuYUF/mROcx73wvYHxEH0uuxDjgubU8B9gJ3RcS43IOuogmTJseSnOY4De7Xcec4+VRddmcBb5f/xwkQEeua7xQRWwEkvZtfaFWXNfeHKzZXAp/OIbY8ZM3/jYrN3kCn/lQSEW8Cj0oa2ax9H/Bwur9fUhMwrIAQqyoi/rdicyPQU9JREfFWRKwEUCdcZjkidgA70v3fStoMDAU21cvfQPodL+tBRZ4RsSx9gLZOygOn7MZR+mRVj9qS+yygJisMB5E5f0lXAdcC3YFpLeze6Ul6P/Ax4J+LjqXKLgaaIuKtogPJUxogTARWVbR9A7gC2EPpQ0enJOk04A5Klz25PCIOFBxSLryOk+c4WRVI+jTQAHyr6FjyFhG3RsSJwHXAV4qOp0iSugL3AN+NiGeKjqdaJI0F/hH4bNGx5ElSH+A+4AuVlaaIuD4ihgN3A3OLiq/aImJVRIwFTgG+LKlH0TFZPjxwym4jMLl5Y5oEulbS2gJiykvm3CWdDVwPXNiJPn235b2/F7io6pHlSNLMigmxWeYezKc0x+efqh1bHg6Wv6RhwALgioh4utgI8yOpG6VB090Rcf8hdrubUiWu5h3udz8iNlOa09Sp5jMdknK6dWAeOGX3a+AoSbPLDZJOBhZFxISImFBcaFWXKfc0WfY2SoOml4sJtSqy5j+q4pgLgC35hlldEbGgnG9ErDncvpL+HugPfCGf6Kqvef7pNOQDwLyIWFF0fHlJX5b4MbA5Ir7d7LHKv4EZwBN5xlYtB3nvT0gVVVT69vBoYGuhQVpuPHDKKEpfP5wJnJ2+jrsRuAl4qXI/SadI2gZcAtyW9qtpWXOndGquD/CL9MlsYc6hVkUr8p+bvp69ltI8pytzDjV3krYC3wb+QtI2SWNSFeZ6YAzQlH4XPlNknFUyFxgJfLWiGnEMgKRvpv8O9Eqvyw1FBtrOzgQuB6ZV5H1+euxmSRskrQfOBT5/yGepbR8G1qW/9QWUvkG7G0DSPcD/AB9M7/2sAuNsdy44eTkCMzMzy2DCpMnxq2WrWt6xHQzq283LEZiZmVlt64QrbLSaT9WZmZmZZeSBk5mZmVlGPlVnZmZmGcgLYOKKk5mZmVlmHjiZ1RhJ76SvgG+Q9It0wdG2PtdPJH0i3b9d0pjD7DtV0hlt6GOrpIFZ25vts7eVfd0g6UutjdHMWiZKk8PzuHVkHjiZ1Z7fpYX4xgH7gT+4+nx5Yb7WiojPRMSmw+wyFWj1wMnMrDPxwMmsti0HRqZq0PK06OgmSV0kfUvSaknrJX0WSqs+S/qepCcl/Qo4pvxEkn5TcSmR6ZKaJK2TtDRdzHUO8MVU7fqIpEGS7kt9rJZ0Zjr2A5KWpMVAbyfDenaSfimpMR0zu9lj30ntSyUNSm0nSlqUjlkuaXR7vJhmZi3x5HCzGpUqS+cBi1LTJGBcRDybBh97IuIUSUcBKyQtoXQl+w9SWtV7MLCJ0hXeK593EPAjYEp6rqMj4lVJPwT2RsQtab+fAd+JiEcl/RGwGPgQ8DXg0Yi4UdIFQJaVk/8q9dETWC3pvoh4BegNrImIL0r6anruuZSugzcnIraodJX67wPT2vAympm1igdOZrWnp967sPByStcNOwN4LCKeTe3nAieX5y9Rum7cKGAKcE9EvAO8KOnXB3n+04Fl5eeKiFcPEcfZwBi9NyGhn6Q+qY+Pp2MfkPRahpyukTQz3R+eYn0FeBf4eWr/V+D+1McZlC7tUz7+qAx9mNkR6ujzj/LggZNZ7fld84tKpwHEm5VNwNURsbjZfufTft4HnB4R/3eQWDKTNJXSIOxPI2KfpN8APQ6xe6R+X+/kF9Y2sw7Kc5zMOqfFwOckdQOQdJKk3sAy4FNpDtQQ4KyDHLsSmCLphHTs0an9t0Dfiv2WAFeXNySVBzLLgEtT23nAgBZi7Q+8lgZNoylVvMreB5SrZpdSOgX4BvCspEtSH5I0voU+zKwdKKd/HZkHTmad0+2U5i81SdoA3EapwrwA2JIeu4vSVdz/QETsAmZTOi22jvdOlf0nMLM8ORy4BmhIk8838d63+/6O0sBrI6VTds+3EOsioKukzcDNlAZuZW8Cp6YcpgE3pvbLgFkpvo3AjAyviZnZEVNEFB2DmZmZdXATJzfEIysey6Wv/j27NEZEQy6dtZIrTmZmZmYZeXK4mZmZtUhkWJStDrjiZGZmZpaRK05mZmaWjUtOrjiZmZmZZeWBk5mZmVlGPlVnZmZmmXT0xSnz4IqTmZmZWUauOJmZmVkmvsivK05mZmZmmbniZGZmZpm44OSKk5mZmVlmrjiZmZlZNi45ueJkZmZmlpUrTmZmZpaJ13FyxcnMzMxqkKTpkp6U9JSkeXn164qTmZmZtUh0nHWcJHUBbgXOAbYBqyUtjIhN1e7bFSczMzOrNacCT0XEMxGxH7gXmJFHx644mZmZWYuamhoX9+ymgTl110PSmort+RExv2J7KPBCxfY24LQ8AvPAyczMzFoUEdOLjqEj8Kk6MzMzqzXbgeEV28NSW9V54GRmZma1ZjUwStIJkroDfwYszKNjn6ozMzOzmhIRByTNBRYDXYA7ImJjHn0rIvLox8zMzKzm+VSdmZmZWUYeOJmZmZll5IGTmZmZWUYeOJmZmZll5IGTmZmZWUYeOJmZmZll5IGTmZmZWUb/D7rium+sHp+JAAAAAElFTkSuQmCC\n",
            "text/plain": [
              "<Figure size 720x720 with 2 Axes>"
            ]
          },
          "metadata": {
            "needs_background": "light"
          }
        },
        {
          "output_type": "stream",
          "name": "stdout",
          "text": [
            "Prediction Accuracy:  98.67424242424242 %\n"
          ]
        }
      ]
    },
    {
      "cell_type": "markdown",
      "metadata": {
        "id": "pwhgUmNtNuu2"
      },
      "source": [
        "##Testing on Unseen Data (Second Test Data)\n",
        "\n",
        "Assume people run the model to predict new data. Thus we simulate on how the outcome will be"
      ]
    },
    {
      "cell_type": "code",
      "metadata": {
        "id": "YYYlvZL7NzFJ"
      },
      "source": [
        "y_deploy = classifier.predict(Xdep)\n",
        "y_deploy"
      ],
      "execution_count": null,
      "outputs": []
    },
    {
      "cell_type": "code",
      "metadata": {
        "colab": {
          "base_uri": "https://localhost:8080/",
          "height": 615
        },
        "id": "c3SkIUAAG4zb",
        "outputId": "3d8cb30f-c4b5-4d74-ed49-23800db1ce82"
      },
      "source": [
        "fig, ax = plt.subplots(figsize=(10, 10))\n",
        "cm= plot_confusion_matrix(classifier,\n",
        "                      Xdep,\n",
        "                      ydep,\n",
        "                      cmap=plt.cm.Blues,\n",
        "                      display_labels=[\"C-1\",\"C-2\",\"C-3\",\"T-12\",\"T-21\",\"T23\",\"T-31\"],\n",
        "                    values_format= '.0f',\n",
        "                    ax = ax)\n",
        "\n",
        "cm.ax_.set_title('Confusion Matrix for Reserved Data')\n",
        "plt.show()\n",
        "\n",
        "print(\"Prediction Accuracy: \", accuracy_score(ydep, y_deploy)*100,\"%\")\n",
        "\n",
        "'''\n",
        "[UNSEEN DATA COUNT]\n",
        "'C-1': 4566, \n",
        "'C-2': 3077, \n",
        "'C-3': 1591, \n",
        "'T-31': 4, \n",
        "'T-32': 1\n",
        "'''"
      ],
      "execution_count": 15,
      "outputs": [
        {
          "output_type": "display_data",
          "data": {
            "image/png": "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\n",
            "text/plain": [
              "<Figure size 720x720 with 2 Axes>"
            ]
          },
          "metadata": {
            "needs_background": "light"
          }
        },
        {
          "output_type": "stream",
          "name": "stdout",
          "text": [
            "Prediction Accuracy:  91.36270159108129 %\n"
          ]
        },
        {
          "output_type": "execute_result",
          "data": {
            "application/vnd.google.colaboratory.intrinsic+json": {
              "type": "string"
            },
            "text/plain": [
              "\"\\n[UNSEEN DATA COUNT]\\n'C-1': 4566, \\n'C-2': 3077, \\n'C-3': 1591, \\n'T-31': 4, \\n'T-32': 1\\n\""
            ]
          },
          "metadata": {},
          "execution_count": 15
        }
      ]
    },
    {
      "cell_type": "markdown",
      "metadata": {
        "id": "oNIEb--bToTm"
      },
      "source": [
        "##SAVING MODELS\n",
        "\n",
        "This command export the model to be used in the future. This model will be saved as <b> xgb_MG3Hourly.model </b>"
      ]
    },
    {
      "cell_type": "code",
      "metadata": {
        "id": "tQySKdBWF6IY"
      },
      "source": [
        "from xgboost import Booster as bst\n",
        "classifier.save_model('/content/drive/MyDrive/00 MACHINE LEARNING/MG3/xgb_MG3Hourly.model')"
      ],
      "execution_count": 25,
      "outputs": []
    },
    {
      "cell_type": "markdown",
      "metadata": {
        "id": "EAMhSeK0-jiq"
      },
      "source": [
        "##LOAD MODELS\n",
        "\n",
        "Test on whether the loaded model works"
      ]
    },
    {
      "cell_type": "code",
      "metadata": {
        "colab": {
          "base_uri": "https://localhost:8080/"
        },
        "id": "hMlMkIcjYasf",
        "outputId": "eb1e7104-591a-4c85-9ed3-fe32cc612b6d"
      },
      "source": [
        "#y_deploy = classifier.predict(Xdep)\n",
        "\n",
        "#Booster.load_model()\n",
        "model_load = xgb.XGBClassifier()\n",
        "model_load.load_model('/content/drive/MyDrive/00 MACHINE LEARNING/MG3/xgb_MG3Hourly.model')\n",
        "\n",
        "\n",
        "model_load.predict(X_new)"
      ],
      "execution_count": 28,
      "outputs": [
        {
          "output_type": "execute_result",
          "data": {
            "text/plain": [
              "array(['C-3'], dtype='<U4')"
            ]
          },
          "metadata": {},
          "execution_count": 28
        }
      ]
    }
  ]
}
