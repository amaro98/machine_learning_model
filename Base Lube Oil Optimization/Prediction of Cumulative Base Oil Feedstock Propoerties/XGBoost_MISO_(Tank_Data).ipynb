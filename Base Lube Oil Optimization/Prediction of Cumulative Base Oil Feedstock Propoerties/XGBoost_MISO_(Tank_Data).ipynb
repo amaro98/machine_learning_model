{
  "nbformat": 4,
  "nbformat_minor": 0,
  "metadata": {
    "colab": {
      "name": "XGBoost_MISO_(Tank_Data).ipynb",
      "provenance": [],
      "collapsed_sections": []
    },
    "kernelspec": {
      "name": "python3",
      "display_name": "Python 3"
    },
    "language_info": {
      "name": "python"
    }
  },
  "cells": [
    {
      "cell_type": "markdown",
      "metadata": {
        "id": "Fc9WYmV3TIZH"
      },
      "source": [
        "#**XGBoost MISO**"
      ]
    },
    {
      "cell_type": "code",
      "metadata": {
        "colab": {
          "base_uri": "https://localhost:8080/"
        },
        "id": "g5ycAJbE-Odl",
        "outputId": "eb30895a-69a3-44d7-82c2-ade28777b578"
      },
      "source": [
        "from google.colab import drive\n",
        "drive.mount('/content/drive')"
      ],
      "execution_count": null,
      "outputs": [
        {
          "output_type": "stream",
          "text": [
            "Drive already mounted at /content/drive; to attempt to forcibly remount, call drive.mount(\"/content/drive\", force_remount=True).\n"
          ],
          "name": "stdout"
        }
      ]
    },
    {
      "cell_type": "code",
      "metadata": {
        "colab": {
          "base_uri": "https://localhost:8080/"
        },
        "id": "bMMFXO5HOrHD",
        "outputId": "4e4d68e5-0c05-4da3-ad80-870ab2315d72"
      },
      "source": [
        "!pip install xgboost\n",
        "#uninstall 0.90, install 1.4.2"
      ],
      "execution_count": null,
      "outputs": [
        {
          "output_type": "stream",
          "text": [
            "Collecting xgboost\n",
            "  Downloading xgboost-1.4.2-py3-none-manylinux2010_x86_64.whl (166.7 MB)\n",
            "\u001b[K     |████████████████████████████████| 166.7 MB 5.7 kB/s \n",
            "\u001b[?25hRequirement already satisfied: numpy in /usr/local/lib/python3.7/dist-packages (from xgboost) (1.19.5)\n",
            "Requirement already satisfied: scipy in /usr/local/lib/python3.7/dist-packages (from xgboost) (1.4.1)\n",
            "Installing collected packages: xgboost\n",
            "Successfully installed xgboost-1.4.2\n"
          ],
          "name": "stdout"
        }
      ]
    },
    {
      "cell_type": "markdown",
      "metadata": {
        "id": "ENAzQRCPY_6J"
      },
      "source": [
        "##Importing Libraries"
      ]
    },
    {
      "cell_type": "code",
      "metadata": {
        "id": "GawGoFBOztgF"
      },
      "source": [
        "'''\n",
        "from google.colab import files\n",
        "uploaded = files.upload()\n",
        "'''\n",
        "\n",
        "import pandas as pd\n",
        "import numpy as np\n",
        "\n",
        "from google.colab import data_table\n",
        "from numpy import absolute\n",
        "from pandas import read_csv\n",
        "from sklearn.model_selection import train_test_split\n",
        "from sklearn.model_selection import cross_val_score\n",
        "from sklearn.model_selection import RepeatedKFold\n",
        "from sklearn.multioutput import MultiOutputRegressor\n",
        "from xgboost import XGBRegressor\n",
        "from numpy import absolute\n",
        "from sklearn.metrics import r2_score\n",
        "from sklearn.metrics import mean_squared_error\n",
        "from sklearn.metrics import r2_score\n",
        "import xgboost as xgb\n",
        "import matplotlib.pyplot as plt\n",
        "import numpy as np"
      ],
      "execution_count": null,
      "outputs": []
    },
    {
      "cell_type": "code",
      "metadata": {
        "colab": {
          "base_uri": "https://localhost:8080/",
          "height": 35
        },
        "id": "REfj59KhOs8j",
        "outputId": "ad4045c2-4b82-4ed6-c462-9acbadf5904a"
      },
      "source": [
        "xgb.__version__"
      ],
      "execution_count": null,
      "outputs": [
        {
          "output_type": "execute_result",
          "data": {
            "application/vnd.google.colaboratory.intrinsic+json": {
              "type": "string"
            },
            "text/plain": [
              "'1.4.2'"
            ]
          },
          "metadata": {},
          "execution_count": 4
        }
      ]
    },
    {
      "cell_type": "markdown",
      "metadata": {
        "id": "Ac2LhH3jTFb5"
      },
      "source": [
        "## Importing Datasets\n",
        "\n",
        "here, the data is imported into dataframes - `df`"
      ]
    },
    {
      "cell_type": "code",
      "metadata": {
        "id": "hQuDIHpDTmbM"
      },
      "source": [
        "#importing datasets\n",
        "#Use workseet :alldata_allrows\"\n",
        "\n",
        "%reload_ext google.colab.data_table\n",
        "df = pd.read_excel(\"/content/drive/MyDrive/00 MACHINE LEARNING/Tank_Data/Merged T7245,T7246.xlsx\")\n",
        "#df = pd.read_excel(\"/content/drive/MyDrive/00 MACHINE LEARNING/alldata_homogen_modev.xlsx\")\n",
        "df"
      ],
      "execution_count": null,
      "outputs": []
    },
    {
      "cell_type": "markdown",
      "metadata": {
        "id": "crpBs4DCtOkf"
      },
      "source": [
        "##Missing Data\n",
        "\n",
        "NOTE:\n",
        "  This code can only run once, else it registers error\n",
        "  If you wish to run again, run the previous section first\n",
        "\n",
        "`SECTION 1` identify any columns which has missing data\n",
        "\n",
        "`SECTION 2` is where all columns contains NaN are replaced with median\n"
      ]
    },
    {
      "cell_type": "code",
      "metadata": {
        "colab": {
          "base_uri": "https://localhost:8080/"
        },
        "id": "BTXptlAztSU7",
        "outputId": "9330bccf-8762-44d0-9f49-baf806e08471"
      },
      "source": [
        "##############################################################################\n",
        "#                       SECTION 1 : PRELIMINARY CHECK                        #\n",
        "##############################################################################\n",
        "\n",
        "\n",
        "nullver = df.isnull().values.any()\n",
        "sumnull = df.isnull().sum().sum()\n",
        "\n",
        "columns_with_nan = df.columns[nullver].tolist()\n",
        "print(\"NaN Present: \", nullver)\n",
        "\n",
        "#The same code is in the next section to double check if all NaN are replaced\n",
        "\n",
        "\n",
        "\n",
        "##############################################################################\n",
        "# SECTION 2: REPLACING MISSING DATA WITH MEDIAN VALUE OF A PARTICULAR COLUMN #\n",
        "##############################################################################\n",
        "\n",
        "'''\n",
        "-  use: df['column name'] = df['column name'].replace(['old value'],'new value')\n",
        "\n",
        "-  Replace using median :\n",
        "\n",
        "      median = df_i['colname'].median()\n",
        "      df['colname'].fillna(median, inplace=True)\n",
        "\n",
        "      or\n",
        "\n",
        "       df_i['colname'].fillna(df_i['colname'].median(),inplace=True)\n",
        "\n",
        "\n",
        "\n",
        "'''\n",
        "\n",
        "df = df.replace(['LSWR_CDU_KV100'],np.NaN)\n",
        "\n",
        "\n",
        "\n",
        "\n"
      ],
      "execution_count": null,
      "outputs": [
        {
          "output_type": "stream",
          "text": [
            "NaN Present:  False\n"
          ],
          "name": "stdout"
        }
      ]
    },
    {
      "cell_type": "markdown",
      "metadata": {
        "id": "DO3bGx2N74Z3"
      },
      "source": [
        "##Verify Missing Data is Fixed"
      ]
    },
    {
      "cell_type": "code",
      "metadata": {
        "id": "9Vbnkib2N7wr"
      },
      "source": [
        "df.fillna(df.mean(),inplace=True)\n",
        "nullver = df.isnull().values.any()\n",
        "sumnull = df.isnull().sum().sum()\n",
        "\n",
        "columns_with_nan = df.columns[nullver].tolist()\n",
        "print(\"NaN Present: \", nullver)\n",
        "\n",
        "df\n"
      ],
      "execution_count": null,
      "outputs": []
    },
    {
      "cell_type": "markdown",
      "metadata": {
        "id": "3qAVCgr3TF-U"
      },
      "source": [
        "## Train Test Split"
      ]
    },
    {
      "cell_type": "code",
      "metadata": {
        "id": "xJuV0CvCaWXt",
        "colab": {
          "base_uri": "https://localhost:8080/",
          "height": 35
        },
        "outputId": "370bb812-a5a3-440a-f205-bfa32abac395"
      },
      "source": [
        "from sklearn.preprocessing import StandardScaler\n",
        "\n",
        "sc = StandardScaler()\n",
        "\n",
        "#Use workseet :alldata_allrows\", output in columns 22-27, inputs in columns 1-21. Minor changes from yesterday.\n",
        "#meaning approx rows 1-1220 for training and model development, final test data rows 1221 to last row 1700++\n",
        "\n",
        "X = df.iloc[0:104,1:18].values\n",
        "y = df.iloc[0:104,27].values\n",
        "\n",
        "Xdep = df.iloc[104:,1:18].values\n",
        "ydep = df.iloc[104:,27].values\n",
        "\n",
        "X_train, X_test, y_train, y_test = train_test_split(X,y, train_size=0.8, random_state = 0)\n",
        "\n",
        "'''\n",
        "X_train = sc.fit_transform(X_train)\n",
        "X_test = sc.transform(X_test)\n",
        "'''"
      ],
      "execution_count": null,
      "outputs": [
        {
          "output_type": "execute_result",
          "data": {
            "application/vnd.google.colaboratory.intrinsic+json": {
              "type": "string"
            },
            "text/plain": [
              "'\\nX_train = sc.fit_transform(X_train)\\nX_test = sc.transform(X_test)\\n'"
            ]
          },
          "metadata": {},
          "execution_count": 53
        }
      ]
    },
    {
      "cell_type": "markdown",
      "metadata": {
        "id": "uc2edcHwN7ig"
      },
      "source": [
        "##Feature Scaling"
      ]
    },
    {
      "cell_type": "code",
      "metadata": {
        "colab": {
          "base_uri": "https://localhost:8080/",
          "height": 52
        },
        "id": "ubS29HjnTgMM",
        "outputId": "992c4bf0-b180-4e2c-81ee-98a2b0c94744"
      },
      "source": [
        "\n",
        "'''\n",
        "from sklearn.preprocessing import StandardScaler\n",
        "sc = StandardScaler()\n",
        "X_train[:,:] = sc.fit_transform(X_train[:,:])\n",
        "X_test[:,:] = sc.transform(X_test[:,:])\n",
        "'''"
      ],
      "execution_count": null,
      "outputs": [
        {
          "output_type": "execute_result",
          "data": {
            "application/vnd.google.colaboratory.intrinsic+json": {
              "type": "string"
            },
            "text/plain": [
              "'\\nfrom sklearn.preprocessing import StandardScaler\\nsc = StandardScaler()\\nX_train[:,:] = sc.fit_transform(X_train[:,:])\\nX_test[:,:] = sc.transform(X_test[:,:])\\n'"
            ]
          },
          "metadata": {},
          "execution_count": 7
        }
      ]
    },
    {
      "cell_type": "code",
      "metadata": {
        "id": "tOZt9Q-um85J"
      },
      "source": [
        "\n"
      ],
      "execution_count": null,
      "outputs": []
    },
    {
      "cell_type": "markdown",
      "metadata": {
        "id": "6C-F2x4iJRuX"
      },
      "source": [
        "##Developing Model"
      ]
    },
    {
      "cell_type": "code",
      "metadata": {
        "id": "TSumb0QWiAG0",
        "colab": {
          "base_uri": "https://localhost:8080/"
        },
        "outputId": "ac58bf97-e1df-424c-eb57-dce4c3cbffcb"
      },
      "source": [
        "\n",
        "from sklearn.model_selection import RandomizedSearchCV\n",
        "from sklearn.model_selection import GridSearchCV\n",
        "'''\n",
        "base_score=0.5, booster='gbtree', colsample_bylevel=1,\n",
        "             colsample_bynode=1, colsample_bytree=1, gamma=0, gpu_id=-1,\n",
        "             importance_type='gain', interaction_constraints='',\n",
        "             learning_rate=0.300000012, max_delta_step=0, max_depth=6,\n",
        "             min_child_weight=1, missing=nan, monotone_constraints='()',\n",
        "             n_estimators=100, n_jobs=2, num_parallel_tree=1,\n",
        "             objective='reg:squarederror', random_state=0, reg_alpha=0,\n",
        "             reg_lambda=1, scale_pos_weight=1, subsample=1, tree_method='exact',\n",
        "             validate_parameters=1, verbosity=None\n",
        "'''\n",
        "regressor = XGBRegressor()\n",
        "\n",
        "params = {\n",
        "    'n_estimators' : [100],\n",
        "    'max_depth': [6],\n",
        "    'learning_rate': [0.300000012], #eta\n",
        "    'reg_lambda': [1],\n",
        "    'colsample_bylevel'  : [1],\n",
        "    'colsample_bynode'   : [1],\n",
        "    'colsample_bytree'   : [1], #\n",
        "    'gamma'              : [0], #\n",
        "   'max_delta_step'     : [0],\n",
        "    \n",
        "    'min_child_weight'   : [1],\n",
        "    'reg_alpha'          : [0],\n",
        "    'scale_pos_weight'   : [1],\n",
        "    'subsample'          : [1],\n",
        "    'n_jobs'             : [2]\n",
        "}\n",
        "\n",
        "grid_regressor = GridSearchCV(estimator = regressor,\n",
        "                        param_grid = params,\n",
        "                        cv = 5, \n",
        "                        verbose = 1,\n",
        "                        n_jobs = -1)\n",
        "grid_regressor.fit(X_train,y_train)\n"
      ],
      "execution_count": null,
      "outputs": [
        {
          "output_type": "stream",
          "text": [
            "Fitting 5 folds for each of 1 candidates, totalling 5 fits\n"
          ],
          "name": "stdout"
        },
        {
          "output_type": "stream",
          "text": [
            "[Parallel(n_jobs=-1)]: Using backend LokyBackend with 2 concurrent workers.\n",
            "[Parallel(n_jobs=-1)]: Done   5 out of   5 | elapsed:    6.2s finished\n"
          ],
          "name": "stderr"
        },
        {
          "output_type": "execute_result",
          "data": {
            "text/plain": [
              "GridSearchCV(cv=5, error_score=nan,\n",
              "             estimator=XGBRegressor(base_score=None, booster=None,\n",
              "                                    colsample_bylevel=None,\n",
              "                                    colsample_bynode=None,\n",
              "                                    colsample_bytree=None, gamma=None,\n",
              "                                    gpu_id=None, importance_type='gain',\n",
              "                                    interaction_constraints=None,\n",
              "                                    learning_rate=None, max_delta_step=None,\n",
              "                                    max_depth=None, min_child_weight=None,\n",
              "                                    missing=nan, monotone_constraints=None,\n",
              "                                    n_estima...\n",
              "             param_grid={'colsample_bylevel': [1], 'colsample_bynode': [1],\n",
              "                         'colsample_bytree': [1], 'gamma': [0],\n",
              "                         'learning_rate': [0.300000012], 'max_delta_step': [0],\n",
              "                         'max_depth': [6], 'min_child_weight': [1],\n",
              "                         'n_estimators': [100], 'n_jobs': [2], 'reg_alpha': [0],\n",
              "                         'reg_lambda': [1], 'scale_pos_weight': [1],\n",
              "                         'subsample': [1]},\n",
              "             pre_dispatch='2*n_jobs', refit=True, return_train_score=False,\n",
              "             scoring=None, verbose=1)"
            ]
          },
          "metadata": {},
          "execution_count": 9
        }
      ]
    },
    {
      "cell_type": "code",
      "metadata": {
        "id": "VfUDWgfetR2B",
        "colab": {
          "base_uri": "https://localhost:8080/"
        },
        "outputId": "485a545a-35a1-428c-f6b5-870b693342fa"
      },
      "source": [
        "\n",
        "print(\"Best Estimator: \\n{}\\n\".format(grid_regressor.best_estimator_))\n",
        "print(\"Best Parameters: \\n{}\\n\".format(grid_regressor.best_params_))\n",
        "print(\"Best Test Score: \\n{}\\n\".format(grid_regressor.best_score_))\n",
        "print(\"All Test Scores: \\n{}\\n\".format(grid_regressor.cv_results_['mean_test_score']))\n",
        " \n",
        "cv_result = pd.DataFrame(grid_regressor.cv_results_)\n"
      ],
      "execution_count": null,
      "outputs": [
        {
          "output_type": "stream",
          "text": [
            "Best Estimator: \n",
            "XGBRegressor(base_score=0.5, booster='gbtree', colsample_bylevel=1,\n",
            "             colsample_bynode=1, colsample_bytree=1, gamma=0, gpu_id=-1,\n",
            "             importance_type='gain', interaction_constraints='',\n",
            "             learning_rate=0.300000012, max_delta_step=0, max_depth=6,\n",
            "             min_child_weight=1, missing=nan, monotone_constraints='()',\n",
            "             n_estimators=100, n_jobs=2, num_parallel_tree=1,\n",
            "             objective='reg:squarederror', random_state=0, reg_alpha=0,\n",
            "             reg_lambda=1, scale_pos_weight=1, subsample=1, tree_method='exact',\n",
            "             validate_parameters=1, verbosity=None)\n",
            "\n",
            "Best Parameters: \n",
            "{'colsample_bylevel': 1, 'colsample_bynode': 1, 'colsample_bytree': 1, 'gamma': 0, 'learning_rate': 0.300000012, 'max_delta_step': 0, 'max_depth': 6, 'min_child_weight': 1, 'n_estimators': 100, 'n_jobs': 2, 'reg_alpha': 0, 'reg_lambda': 1, 'scale_pos_weight': 1, 'subsample': 1}\n",
            "\n",
            "Best Test Score: \n",
            "0.14284585286013182\n",
            "\n",
            "All Test Scores: \n",
            "[0.14284585]\n",
            "\n"
          ],
          "name": "stdout"
        }
      ]
    },
    {
      "cell_type": "markdown",
      "metadata": {
        "id": "J0PsLethTGPg"
      },
      "source": [
        "## Training XGBoost on Training Set\n",
        "\n",
        "To train:\n",
        "\n",
        "`machine_learning_model.fit(input_training_Data, output_training_data)`\n",
        "\n",
        "To test:\n",
        "\n",
        "`output_prediction = machine_learning_model.predict(input_test_data)`"
      ]
    },
    {
      "cell_type": "code",
      "metadata": {
        "id": "AT0G73V5bm3d",
        "colab": {
          "base_uri": "https://localhost:8080/"
        },
        "outputId": "09e82b79-4dfa-4515-c677-46ba033fb72d"
      },
      "source": [
        "#multioutputregressor = MultiOutputRegressor(xgb.XGBRegressor(objective='reg:linear')).fit(X, y)\n",
        "regressor = XGBRegressor()\n",
        "regressor.fit(X_train, y_train)\n",
        "y_pred = regressor.predict(X_test)\n",
        "\n",
        "\n",
        "r2_score(y_test,y_pred)\n",
        "\n",
        "\n",
        "mse = mean_squared_error(y_test, y_pred, sample_weight=None,squared=True)\n",
        "rmse = mean_squared_error(y_test, y_pred, sample_weight=None,squared=False)\n",
        "r2= r2_score(y_test, y_pred,sample_weight=None)\n",
        "\n",
        "\n",
        "print('MSE Value: {:.5f}'.format(mse))\n",
        "print('RMSE Value: {:.5f}'.format(rmse))\n",
        "print('R-squared Value: {:.2f}'.format(r2))"
      ],
      "execution_count": null,
      "outputs": [
        {
          "output_type": "stream",
          "text": [
            "MSE Value: 6.97618\n",
            "RMSE Value: 2.64125\n",
            "R-squared Value: 0.64\n"
          ],
          "name": "stdout"
        }
      ]
    },
    {
      "cell_type": "markdown",
      "metadata": {
        "id": "pwhgUmNtNuu2"
      },
      "source": [
        "##Plotting Predicted outpus vs. Actual Data (Test Set)\n",
        "\n",
        "Uncomment if you wish to plot Test Data vs. Predicted Data"
      ]
    },
    {
      "cell_type": "code",
      "metadata": {
        "id": "YYYlvZL7NzFJ"
      },
      "source": [
        "#print ypred and ytest in a single plot\n",
        "\n",
        "plt.plot(y_test,'#0474BE', y_pred,'#D95319')\n",
        "plt.legend(('Actual Data','Predicted Data'),\n",
        "           loc='lower right', shadow=True )\n",
        "plt.title('Abs wax')\n",
        "#plt.savefig('/content/drive/MyDrive/00 MACHINE LEARNING/Tank_Data/Base Model T7249,T7250/Plot/Sim_95',dpi=300)\n",
        "plt.show()"
      ],
      "execution_count": null,
      "outputs": []
    },
    {
      "cell_type": "markdown",
      "metadata": {
        "id": "j90gnzAe0ylr"
      },
      "source": [
        "##Save Model"
      ]
    },
    {
      "cell_type": "code",
      "metadata": {
        "id": "g1HaAlvpt_t4"
      },
      "source": [
        "\n",
        "from xgboost import Booster\n",
        "\n",
        "regressor.save_model('')\n",
        "\n",
        "\n",
        "\n",
        "\n"
      ],
      "execution_count": null,
      "outputs": []
    },
    {
      "cell_type": "markdown",
      "metadata": {
        "id": "JJowmctoIH8p"
      },
      "source": [
        "##Deploy"
      ]
    },
    {
      "cell_type": "code",
      "metadata": {
        "id": "9zVY_HERHf6t"
      },
      "source": [
        "y_dep = regressor.predict(Xdep)\n",
        "plt.plot(ydep,'#0474BE', y_dep,'#D95319')\n",
        "plt.legend(('Actual Data','Predicted Data'),\n",
        "           loc='lower right', shadow=True, bbox_to_anchor=(1.05, 1))\n",
        "plt.title('MABP')\n",
        "plt.show()"
      ],
      "execution_count": null,
      "outputs": []
    }
  ]
}