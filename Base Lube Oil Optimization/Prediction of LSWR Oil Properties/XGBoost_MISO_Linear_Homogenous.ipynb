{
  "nbformat": 4,
  "nbformat_minor": 0,
  "metadata": {
    "colab": {
      "name": "XGBoost_MISO_Linear Homogenous.ipynb",
      "provenance": [],
      "collapsed_sections": []
    },
    "kernelspec": {
      "name": "python3",
      "display_name": "Python 3"
    },
    "language_info": {
      "name": "python"
    }
  },
  "cells": [
    {
      "cell_type": "markdown",
      "metadata": {
        "id": "Fc9WYmV3TIZH"
      },
      "source": [
        "#**XGBoost MISO For Linear Homogenous**"
      ]
    },
    {
      "cell_type": "code",
      "metadata": {
        "colab": {
          "base_uri": "https://localhost:8080/"
        },
        "id": "g5ycAJbE-Odl",
        "outputId": "eb30895a-69a3-44d7-82c2-ade28777b578"
      },
      "source": [
        "from google.colab import drive\n",
        "drive.mount('/content/drive')"
      ],
      "execution_count": null,
      "outputs": [
        {
          "output_type": "stream",
          "text": [
            "Drive already mounted at /content/drive; to attempt to forcibly remount, call drive.mount(\"/content/drive\", force_remount=True).\n"
          ],
          "name": "stdout"
        }
      ]
    },
    {
      "cell_type": "code",
      "metadata": {
        "id": "bMMFXO5HOrHD"
      },
      "source": [
        "#!pip install xgboost\n"
      ],
      "execution_count": null,
      "outputs": []
    },
    {
      "cell_type": "markdown",
      "metadata": {
        "id": "ENAzQRCPY_6J"
      },
      "source": [
        "##Importing Libraries"
      ]
    },
    {
      "cell_type": "code",
      "metadata": {
        "id": "GawGoFBOztgF"
      },
      "source": [
        "'''\n",
        "from google.colab import files\n",
        "uploaded = files.upload()\n",
        "'''\n",
        "\n",
        "import pandas as pd\n",
        "import numpy as np\n",
        "\n",
        "from google.colab import data_table\n",
        "from numpy import absolute\n",
        "from pandas import read_csv\n",
        "from sklearn.model_selection import train_test_split\n",
        "from sklearn.model_selection import cross_val_score\n",
        "from sklearn.model_selection import RepeatedKFold\n",
        "from sklearn.multioutput import MultiOutputRegressor\n",
        "from xgboost import XGBRegressor\n",
        "from numpy import absolute\n",
        "from sklearn.metrics import r2_score\n",
        "from sklearn.metrics import mean_squared_error\n",
        "from sklearn.metrics import r2_score\n",
        "import xgboost as xgb"
      ],
      "execution_count": null,
      "outputs": []
    },
    {
      "cell_type": "code",
      "metadata": {
        "colab": {
          "base_uri": "https://localhost:8080/",
          "height": 35
        },
        "id": "REfj59KhOs8j",
        "outputId": "ed779bfb-c402-4e5a-99f0-ed887335240b"
      },
      "source": [
        "xgb.__version__"
      ],
      "execution_count": null,
      "outputs": [
        {
          "output_type": "execute_result",
          "data": {
            "application/vnd.google.colaboratory.intrinsic+json": {
              "type": "string"
            },
            "text/plain": [
              "'1.4.2'"
            ]
          },
          "metadata": {},
          "execution_count": 2
        }
      ]
    },
    {
      "cell_type": "markdown",
      "metadata": {
        "id": "Ac2LhH3jTFb5"
      },
      "source": [
        "## Importing Datasets\n",
        "\n",
        "here, the data is imported into dataframes - `df`"
      ]
    },
    {
      "cell_type": "code",
      "metadata": {
        "id": "hQuDIHpDTmbM"
      },
      "source": [
        "#importing datasets\n",
        "#Use workseet :alldata_allrows\"\n",
        "\n",
        "%reload_ext google.colab.data_table\n",
        "df = pd.read_excel(\"/content/drive/MyDrive/00 MACHINE LEARNING/alldata_homogen_modev (1).xlsx\",sheet_name=\"alldata_allrows\")\n",
        "#df = pd.read_excel(\"/content/drive/MyDrive/00 MACHINE LEARNING/alldata_homogen_modev.xlsx\")"
      ],
      "execution_count": null,
      "outputs": []
    },
    {
      "cell_type": "markdown",
      "metadata": {
        "id": "crpBs4DCtOkf"
      },
      "source": [
        "##Missing Data\n",
        "\n",
        "NOTE:\n",
        "  This code can only run once, else it registers error\n",
        "  If you wish to run again, run the previous section first\n",
        "\n",
        "`SECTION 1` identify any columns which has missing data\n",
        "\n",
        "`SECTION 2` is where all columns contains NaN are replaced with median\n"
      ]
    },
    {
      "cell_type": "code",
      "metadata": {
        "colab": {
          "base_uri": "https://localhost:8080/"
        },
        "id": "BTXptlAztSU7",
        "outputId": "58707a53-de85-4922-eb07-97709e20bc54"
      },
      "source": [
        "##############################################################################\n",
        "#                       SECTION 1 : PRELIMINARY CHECK                        #\n",
        "##############################################################################\n",
        "\n",
        "\n",
        "nullver = df.isnull().values.any()\n",
        "sumnull = df.isnull().sum().sum()\n",
        "\n",
        "columns_with_nan = df.columns[nullver].tolist()\n",
        "print(\"NaN Present: \", nullver)\n",
        "\n",
        "#The same code is in the next section to double check if all NaN are replaced\n",
        "\n",
        "\n",
        "\n",
        "##############################################################################\n",
        "# SECTION 2: REPLACING MISSING DATA WITH MEDIAN VALUE OF A PARTICULAR COLUMN #\n",
        "##############################################################################\n",
        "\n",
        "'''\n",
        "-  use: df['column name'] = df['column name'].replace(['old value'],'new value')\n",
        "\n",
        "-  Replace using median :\n",
        "\n",
        "      median = df_i['colname'].median()\n",
        "      df['colname'].fillna(median, inplace=True)\n",
        "\n",
        "      or\n",
        "\n",
        "       df_i['colname'].fillna(df_i['colname'].median(),inplace=True)\n",
        "\n",
        "\n",
        "\n",
        "'''\n",
        "\n",
        "df = df.replace(['LSWR_CDU_KV100'],np.NaN)\n",
        "\n",
        "\n",
        "\n",
        "\n"
      ],
      "execution_count": null,
      "outputs": [
        {
          "output_type": "stream",
          "text": [
            "NaN Present:  False\n"
          ],
          "name": "stdout"
        }
      ]
    },
    {
      "cell_type": "markdown",
      "metadata": {
        "id": "DO3bGx2N74Z3"
      },
      "source": [
        "##Verify Missing Data is Fixed"
      ]
    },
    {
      "cell_type": "code",
      "metadata": {
        "id": "9Vbnkib2N7wr"
      },
      "source": [
        "df.fillna(df.mean(),inplace=True)\n",
        "nullver = df.isnull().values.any()\n",
        "sumnull = df.isnull().sum().sum()\n",
        "\n",
        "columns_with_nan = df.columns[nullver].tolist()\n",
        "print(\"NaN Present: \", nullver)\n",
        "\n",
        "df\n"
      ],
      "execution_count": null,
      "outputs": []
    },
    {
      "cell_type": "markdown",
      "metadata": {
        "id": "3qAVCgr3TF-U"
      },
      "source": [
        "## Train Test Split"
      ]
    },
    {
      "cell_type": "code",
      "metadata": {
        "id": "xJuV0CvCaWXt"
      },
      "source": [
        "from sklearn.preprocessing import StandardScaler\n",
        "\n",
        "sc = StandardScaler()\n",
        "\n",
        "#Use workseet :alldata_allrows\", output in columns 22-27, inputs in columns 1-21. Minor changes from yesterday.\n",
        "#meaning approx rows 1-1220 for training and model development, final test data rows 1221 to last row 1700++\n",
        "\n",
        "X = df.iloc[:,0:21].values\n",
        "y = df.iloc[:,21].values \n",
        "\n",
        "'''\n",
        "X_train = df.iloc[0:1220, 0:21].values\n",
        "X_test = df.iloc[1220:,0:21].values\n",
        "\n",
        "\n",
        "#CHANGE HERE!!!\n",
        "y_train = df.iloc[0:1220,26].values\n",
        "y_test = df.iloc[1220:,26].values\n",
        "'''\n",
        "\n",
        "\n",
        "X_train, X_test, y_train, y_test = train_test_split(X,y, train_size=0.8, random_state = 42)\n"
      ],
      "execution_count": null,
      "outputs": []
    },
    {
      "cell_type": "markdown",
      "metadata": {
        "id": "uc2edcHwN7ig"
      },
      "source": [
        "##Feature Scaling"
      ]
    },
    {
      "cell_type": "code",
      "metadata": {
        "colab": {
          "base_uri": "https://localhost:8080/",
          "height": 52
        },
        "id": "ubS29HjnTgMM",
        "outputId": "992c4bf0-b180-4e2c-81ee-98a2b0c94744"
      },
      "source": [
        "\n",
        "'''\n",
        "from sklearn.preprocessing import StandardScaler\n",
        "sc = StandardScaler()\n",
        "X_train[:,:] = sc.fit_transform(X_train[:,:])\n",
        "X_test[:,:] = sc.transform(X_test[:,:])\n",
        "'''"
      ],
      "execution_count": null,
      "outputs": [
        {
          "output_type": "execute_result",
          "data": {
            "application/vnd.google.colaboratory.intrinsic+json": {
              "type": "string"
            },
            "text/plain": [
              "'\\nfrom sklearn.preprocessing import StandardScaler\\nsc = StandardScaler()\\nX_train[:,:] = sc.fit_transform(X_train[:,:])\\nX_test[:,:] = sc.transform(X_test[:,:])\\n'"
            ]
          },
          "metadata": {},
          "execution_count": 7
        }
      ]
    },
    {
      "cell_type": "markdown",
      "metadata": {
        "id": "6C-F2x4iJRuX"
      },
      "source": [
        "##Developing Model"
      ]
    },
    {
      "cell_type": "code",
      "metadata": {
        "id": "TSumb0QWiAG0",
        "colab": {
          "base_uri": "https://localhost:8080/"
        },
        "outputId": "0e3440f8-87e5-4f9a-dbbf-eecdd2a51425"
      },
      "source": [
        "'''\n",
        "\n",
        "# regressor with hyperparameter tuning\n",
        "\n",
        "RUN 1\n",
        "Best Parameters: \n",
        "{'learning_rate': 1, 'max_depth': 2, 'n_estimators': 100, 'reg_lambda': 100}\n",
        "\n",
        "Best Test Score: \n",
        "0.1918645064269362\n",
        "\n",
        "RUN 2\n",
        "Best Parameters: \n",
        "{'colsample_bynode': 0.5, 'colsample_bytree': 1, 'learning_rate': 1, 'max_depth': 2, 'n_estimators': 100, 'reg_lambda': 100}\n",
        "\n",
        "Best Test Score: \n",
        "0.1959296488122364\n",
        "\n",
        "RUN 3\n",
        "Best Parameters: \n",
        "{'Max_delta_step': 0, 'gamma': 0, 'learning_rate': 1, 'max_depth': 2, 'n_estimators': 100, 'reg_lambda': 100}\n",
        "\n",
        "Best Test Score: \n",
        "0.1918645064269362\n",
        "\n",
        "RUN 4\n",
        "Best Parameters: \n",
        "{'learning_rate': 1, 'max_depth': 2, 'n_estimators': 100, 'reg_lambda': 100}\n",
        "\n",
        "Best Test Score: \n",
        "0.1918645064269362\n",
        "\n",
        "RUn 4\n",
        "Best Parameters: \n",
        "{'learning_rate': 1, 'max_depth': 2, 'n_estimators': 100, 'reg_lambda': 100}\n",
        "\n",
        "Best Test Score: \n",
        "0.1918645064269362\n",
        "\n",
        "\n",
        "'''\n",
        "\n",
        "from sklearn.model_selection import RandomizedSearchCV\n",
        "from sklearn.model_selection import GridSearchCV\n",
        "\n",
        "regressor = XGBRegressor()\n",
        "\n",
        "params = {\n",
        "    'n_estimators' : [100],\n",
        "    'max_depth': [2],\n",
        "    'learning_rate': [1], #eta\n",
        "    'reg_lambda': [100],\n",
        "}\n",
        "\n",
        "grid_regressor = GridSearchCV(estimator = regressor,\n",
        "                        param_grid = params,\n",
        "                        cv = 5, \n",
        "                        verbose = 1,\n",
        "                        n_jobs = -1)\n",
        "grid_regressor.fit(X_train,y_train)\n"
      ],
      "execution_count": null,
      "outputs": [
        {
          "output_type": "stream",
          "text": [
            "Fitting 5 folds for each of 2 candidates, totalling 10 fits\n"
          ],
          "name": "stdout"
        },
        {
          "output_type": "stream",
          "text": [
            "[Parallel(n_jobs=-1)]: Using backend LokyBackend with 2 concurrent workers.\n",
            "[Parallel(n_jobs=-1)]: Done  10 out of  10 | elapsed:   27.2s finished\n"
          ],
          "name": "stderr"
        },
        {
          "output_type": "execute_result",
          "data": {
            "text/plain": [
              "GridSearchCV(cv=5, error_score=nan,\n",
              "             estimator=XGBRegressor(base_score=None, booster=None,\n",
              "                                    colsample_bylevel=None,\n",
              "                                    colsample_bynode=None,\n",
              "                                    colsample_bytree=None, gamma=None,\n",
              "                                    gpu_id=None, importance_type='gain',\n",
              "                                    interaction_constraints=None,\n",
              "                                    learning_rate=None, max_delta_step=None,\n",
              "                                    max_depth=None, min_child_weight=None,\n",
              "                                    missing=nan, monotone_constraints=None,\n",
              "                                    n_estima...\n",
              "                                    objective='reg:squarederror',\n",
              "                                    random_state=None, reg_alpha=None,\n",
              "                                    reg_lambda=None, scale_pos_weight=None,\n",
              "                                    subsample=None, tree_method=None,\n",
              "                                    validate_parameters=None, verbosity=None),\n",
              "             iid='deprecated', n_jobs=-1,\n",
              "             param_grid={'learning_rate': [1, 2], 'max_depth': [2],\n",
              "                         'n_estimators': [100], 'reg_lambda': [100]},\n",
              "             pre_dispatch='2*n_jobs', refit=True, return_train_score=False,\n",
              "             scoring=None, verbose=1)"
            ]
          },
          "metadata": {},
          "execution_count": 87
        }
      ]
    },
    {
      "cell_type": "code",
      "metadata": {
        "colab": {
          "base_uri": "https://localhost:8080/"
        },
        "id": "VfUDWgfetR2B",
        "outputId": "4a82433e-640d-49e8-bbec-6d4949547cb1"
      },
      "source": [
        "\n",
        "print(\"Best Estimator: \\n{}\\n\".format(grid_regressor.best_estimator_))\n",
        "print(\"Best Parameters: \\n{}\\n\".format(grid_regressor.best_params_))\n",
        "print(\"Best Test Score: \\n{}\\n\".format(grid_regressor.best_score_))\n",
        "print(\"All Test Scores: \\n{}\\n\".format(grid_regressor.cv_results_['mean_test_score']))\n",
        "\n",
        "cv_result = pd.DataFrame(grid_regressor.cv_results_)\n"
      ],
      "execution_count": null,
      "outputs": [
        {
          "output_type": "stream",
          "text": [
            "Best Estimator: \n",
            "XGBRegressor(base_score=0.5, booster='gbtree', colsample_bylevel=1,\n",
            "             colsample_bynode=1, colsample_bytree=1, gamma=0, gpu_id=-1,\n",
            "             importance_type='gain', interaction_constraints='',\n",
            "             learning_rate=1, max_delta_step=0, max_depth=2, min_child_weight=1,\n",
            "             missing=nan, monotone_constraints='()', n_estimators=100, n_jobs=2,\n",
            "             num_parallel_tree=1, objective='reg:squarederror', random_state=0,\n",
            "             reg_alpha=0, reg_lambda=100, scale_pos_weight=1, subsample=1,\n",
            "             tree_method='exact', validate_parameters=1, verbosity=None)\n",
            "\n",
            "Best Parameters: \n",
            "{'learning_rate': 1, 'max_depth': 2, 'n_estimators': 100, 'reg_lambda': 100}\n",
            "\n",
            "Best Test Score: \n",
            "0.1918645064269362\n",
            "\n",
            "All Test Scores: \n",
            "[0.19186451 0.15609239]\n",
            "\n"
          ],
          "name": "stdout"
        }
      ]
    },
    {
      "cell_type": "markdown",
      "metadata": {
        "id": "J0PsLethTGPg"
      },
      "source": [
        "## Training XGBoost on Training Set\n",
        "\n",
        "To train:\n",
        "\n",
        "`machine_learning_model.fit(input_training_Data, output_training_data)`\n",
        "\n",
        "To test:\n",
        "\n",
        "`output_prediction = machine_learning_model.predict(input_test_data)`"
      ]
    },
    {
      "cell_type": "code",
      "metadata": {
        "id": "AT0G73V5bm3d",
        "colab": {
          "base_uri": "https://localhost:8080/"
        },
        "outputId": "742654d9-ddcd-4752-da60-54920e784336"
      },
      "source": [
        "#multioutputregressor = MultiOutputRegressor(xgb.XGBRegressor(objective='reg:linear')).fit(X, y)\n",
        "regressor = XGBRegressor(max_depth = 2,n_estimators = 100,learning_rate=1,reg_lambda= 100)\n",
        "regressor.fit(X_train, y_train)\n",
        "\n",
        "\n"
      ],
      "execution_count": null,
      "outputs": [
        {
          "output_type": "execute_result",
          "data": {
            "text/plain": [
              "XGBRegressor(base_score=0.5, booster='gbtree', colsample_bylevel=1,\n",
              "             colsample_bynode=1, colsample_bytree=1, gamma=0, gpu_id=-1,\n",
              "             importance_type='gain', interaction_constraints='',\n",
              "             learning_rate=1, max_delta_step=0, max_depth=2, min_child_weight=1,\n",
              "             missing=nan, monotone_constraints='()', n_estimators=100, n_jobs=2,\n",
              "             num_parallel_tree=1, objective='reg:squarederror', random_state=0,\n",
              "             reg_alpha=0, reg_lambda=100, scale_pos_weight=1, subsample=1,\n",
              "             tree_method='exact', validate_parameters=1, verbosity=None)"
            ]
          },
          "metadata": {},
          "execution_count": 92
        }
      ]
    },
    {
      "cell_type": "markdown",
      "metadata": {
        "id": "Wpu5TS5ydolu"
      },
      "source": [
        "## Predict Test Result"
      ]
    },
    {
      "cell_type": "code",
      "metadata": {
        "id": "UN7aPPaJduo5"
      },
      "source": [
        "y_pred = regressor.predict(X_test)"
      ],
      "execution_count": null,
      "outputs": []
    },
    {
      "cell_type": "markdown",
      "metadata": {
        "id": "IB_ev92psGCZ"
      },
      "source": [
        ""
      ]
    },
    {
      "cell_type": "code",
      "metadata": {
        "colab": {
          "base_uri": "https://localhost:8080/"
        },
        "id": "TuHasIIQKbfy",
        "outputId": "43901e14-7a88-4c0b-be77-d7bb84f7b256"
      },
      "source": [
        "\n",
        "r2_score(y_test,y_pred)\n",
        "\n",
        "\n",
        "mse = mean_squared_error(y_test, y_pred, sample_weight=None,squared=True)\n",
        "rmse = mean_squared_error(y_test, y_pred, sample_weight=None,squared=False)\n",
        "r2= r2_score(y_test, y_pred,sample_weight=None)\n",
        "\n",
        "\n",
        "print('MSE Value: {:.5f}'.format(mse))\n",
        "print('RMSE Value: {:.5f}'.format(rmse))\n",
        "print('R-squared Value: {:.2f}'.format(r2))"
      ],
      "execution_count": null,
      "outputs": [
        {
          "output_type": "stream",
          "text": [
            "MSE Value: 82.27240\n",
            "RMSE Value: 9.07041\n",
            "R-squared Value: 0.12\n"
          ],
          "name": "stdout"
        }
      ]
    },
    {
      "cell_type": "markdown",
      "metadata": {
        "id": "pwhgUmNtNuu2"
      },
      "source": [
        "##Plotting Predicted outpus vs. Actual Data (Test Set)\n",
        "\n",
        "Uncomment if you wish to plot Test Data vs. Predicted Data"
      ]
    },
    {
      "cell_type": "code",
      "metadata": {
        "id": "YYYlvZL7NzFJ"
      },
      "source": [
        "#print ypred and ytest in a single plot\n",
        "\n",
        "import matplotlib.pyplot as plt\n",
        "import numpy as np\n",
        "\n",
        "#(row,co)\n",
        "X_train.shape\n",
        "X_test.shape\n",
        "y_test.shape\n",
        "\n",
        "\n",
        "plt.plot(y_test,'#0474BE', y_pred,'#D95319')\n",
        "plt.legend(('Actual Data','Predicted Data'),\n",
        "           loc='lower right', shadow=True )\n",
        "plt.title('Tuned LSWR_Combine_Sim5 (TrainTestSplit)')\n",
        "plt.savefig('Tuned LSWR_Combine_Sim5 ',dpi=300)\n",
        "plt.show()"
      ],
      "execution_count": null,
      "outputs": []
    },
    {
      "cell_type": "markdown",
      "metadata": {
        "id": "j90gnzAe0ylr"
      },
      "source": [
        "##Save Model"
      ]
    },
    {
      "cell_type": "code",
      "metadata": {
        "id": "g1HaAlvpt_t4"
      },
      "source": [
        "from xgboost import Booster\n",
        "\n",
        "regressor.save_model('Tuned LSWR_Combine_Sim5.model')\n",
        "\n",
        "\n",
        "#bst.save_model('LSWR trained.model')\n",
        "\n"
      ],
      "execution_count": null,
      "outputs": []
    },
    {
      "cell_type": "code",
      "metadata": {
        "id": "CgoyWLu_02az",
        "colab": {
          "base_uri": "https://localhost:8080/"
        },
        "outputId": "a01f4e25-336c-465a-f7a8-1dc0d2835d0c"
      },
      "source": [
        "import pickle\n",
        "\n",
        "filename = '/content/drive/MyDrive/00 MACHINE LEARNING/Linear Homogenous/XGBoost/MISO/Tuned/Tuned LSWR_Combine_Dens15.model'\n",
        "pickle.dump(regressor, open(filename, 'wb'))\n",
        "loaded_model = pickle.load(open(filename, 'rb'))\n",
        "loaded_model\n",
        "\n"
      ],
      "execution_count": null,
      "outputs": [
        {
          "output_type": "stream",
          "text": [
            "[01:37:58] WARNING: /workspace/src/objective/regression_obj.cu:152: reg:linear is now deprecated in favor of reg:squarederror.\n"
          ],
          "name": "stdout"
        },
        {
          "output_type": "execute_result",
          "data": {
            "text/plain": [
              "XGBRegressor(base_score=0.5, booster='gbtree', colsample_bylevel=1,\n",
              "             colsample_bynode=1, colsample_bytree=1, gamma=0,\n",
              "             importance_type='gain', learning_rate=0.1, max_delta_step=0,\n",
              "             max_depth=3, min_child_weight=1, missing=nan, n_estimators=100,\n",
              "             n_jobs=1, nthread=None, objective='reg:linear', random_state=0,\n",
              "             reg_alpha=0, reg_lambda=1, scale_pos_weight=1, seed=None,\n",
              "             silent=None, subsample=1, verbosity=1)"
            ]
          },
          "metadata": {},
          "execution_count": 74
        }
      ]
    },
    {
      "cell_type": "code",
      "metadata": {
        "colab": {
          "base_uri": "https://localhost:8080/"
        },
        "id": "76eJK8qBvPYq",
        "outputId": "c3738e1a-6349-4326-a876-27c6ca641c93"
      },
      "source": [
        "loaded_model"
      ],
      "execution_count": null,
      "outputs": [
        {
          "output_type": "execute_result",
          "data": {
            "text/plain": [
              "XGBRegressor(base_score=0.5, booster='gbtree', colsample_bylevel=1,\n",
              "             colsample_bynode=1, colsample_bytree=1, gamma=0,\n",
              "             importance_type='gain', learning_rate=0.1, max_delta_step=0,\n",
              "             max_depth=3, min_child_weight=1, missing=nan, n_estimators=100,\n",
              "             n_jobs=1, nthread=None, objective='reg:linear', random_state=0,\n",
              "             reg_alpha=0, reg_lambda=1, scale_pos_weight=1, seed=None,\n",
              "             silent=None, subsample=1, verbosity=1)"
            ]
          },
          "metadata": {},
          "execution_count": 30
        }
      ]
    },
    {
      "cell_type": "code",
      "metadata": {
        "colab": {
          "base_uri": "https://localhost:8080/"
        },
        "id": "HCMRzxeHK0Ea",
        "outputId": "a809106b-e318-4fdc-9330-997b00bdc1ba"
      },
      "source": [
        "loaded_model = pickle.load(open(filename, 'rb'))\n",
        "\n",
        "result = loaded_model.score(X_test, y_test)\n",
        "\n",
        "print(result)\n",
        "\n",
        "Ypredict = loaded_model.predict(X_test)  \n",
        "\n",
        "print(\"Predicted Dens15: \\n \", Ypredict.reshape(521,1))"
      ],
      "execution_count": null,
      "outputs": [
        {
          "output_type": "stream",
          "text": [
            "[14:13:03] WARNING: /workspace/src/objective/regression_obj.cu:152: reg:linear is now deprecated in favor of reg:squarederror.\n",
            "-0.710012676396357\n",
            "Predicted Dens15: \n",
            "  [[0.879659  ]\n",
            " [0.879659  ]\n",
            " [0.879659  ]\n",
            " [0.879659  ]\n",
            " [0.879659  ]\n",
            " [0.879659  ]\n",
            " [0.879659  ]\n",
            " [0.879659  ]\n",
            " [0.879659  ]\n",
            " [0.879659  ]\n",
            " [0.879659  ]\n",
            " [0.879659  ]\n",
            " [0.879659  ]\n",
            " [0.879659  ]\n",
            " [0.8797605 ]\n",
            " [0.879659  ]\n",
            " [0.88118273]\n",
            " [0.88118273]\n",
            " [0.88118273]\n",
            " [0.88118273]\n",
            " [0.88118273]\n",
            " [0.88118273]\n",
            " [0.88118273]\n",
            " [0.88118273]\n",
            " [0.8821015 ]\n",
            " [0.879659  ]\n",
            " [0.879659  ]\n",
            " [0.87984616]\n",
            " [0.87978566]\n",
            " [0.87978566]\n",
            " [0.87978566]\n",
            " [0.87978566]\n",
            " [0.87978566]\n",
            " [0.8795985 ]\n",
            " [0.8795985 ]\n",
            " [0.8795985 ]\n",
            " [0.8840507 ]\n",
            " [0.8840507 ]\n",
            " [0.8840507 ]\n",
            " [0.8840507 ]\n",
            " [0.8840507 ]\n",
            " [0.8840507 ]\n",
            " [0.8840507 ]\n",
            " [0.882527  ]\n",
            " [0.8849695 ]\n",
            " [0.88003564]\n",
            " [0.88003564]\n",
            " [0.88003564]\n",
            " [0.88003564]\n",
            " [0.88003564]\n",
            " [0.88071156]\n",
            " [0.88071156]\n",
            " [0.88071156]\n",
            " [0.88071156]\n",
            " [0.88071156]\n",
            " [0.88071156]\n",
            " [0.88071156]\n",
            " [0.88071156]\n",
            " [0.88071156]\n",
            " [0.88071156]\n",
            " [0.88071156]\n",
            " [0.88071156]\n",
            " [0.88071156]\n",
            " [0.88071156]\n",
            " [0.880575  ]\n",
            " [0.880575  ]\n",
            " [0.880575  ]\n",
            " [0.880575  ]\n",
            " [0.880575  ]\n",
            " [0.880575  ]\n",
            " [0.880575  ]\n",
            " [0.880575  ]\n",
            " [0.880575  ]\n",
            " [0.880575  ]\n",
            " [0.880575  ]\n",
            " [0.880575  ]\n",
            " [0.880575  ]\n",
            " [0.8799449 ]\n",
            " [0.8799449 ]\n",
            " [0.8799449 ]\n",
            " [0.8799449 ]\n",
            " [0.8799449 ]\n",
            " [0.8799449 ]\n",
            " [0.8799449 ]\n",
            " [0.8799449 ]\n",
            " [0.8799449 ]\n",
            " [0.8799449 ]\n",
            " [0.8799449 ]\n",
            " [0.8799449 ]\n",
            " [0.8799449 ]\n",
            " [0.8799449 ]\n",
            " [0.8799449 ]\n",
            " [0.8800961 ]\n",
            " [0.8800961 ]\n",
            " [0.8800961 ]\n",
            " [0.8800961 ]\n",
            " [0.8800961 ]\n",
            " [0.8800961 ]\n",
            " [0.8800961 ]\n",
            " [0.8800961 ]\n",
            " [0.8800961 ]\n",
            " [0.8800961 ]\n",
            " [0.8800961 ]\n",
            " [0.8800961 ]\n",
            " [0.8800961 ]\n",
            " [0.8800961 ]\n",
            " [0.8800961 ]\n",
            " [0.8800961 ]\n",
            " [0.8800961 ]\n",
            " [0.8800961 ]\n",
            " [0.8800961 ]\n",
            " [0.8800961 ]\n",
            " [0.8800961 ]\n",
            " [0.8800657 ]\n",
            " [0.8799089 ]\n",
            " [0.8799089 ]\n",
            " [0.8799089 ]\n",
            " [0.8799089 ]\n",
            " [0.8799089 ]\n",
            " [0.8799089 ]\n",
            " [0.8799089 ]\n",
            " [0.8799089 ]\n",
            " [0.8799089 ]\n",
            " [0.8799089 ]\n",
            " [0.8799089 ]\n",
            " [0.8799089 ]\n",
            " [0.87975776]\n",
            " [0.87975776]\n",
            " [0.87975776]\n",
            " [0.87975776]\n",
            " [0.87975776]\n",
            " [0.87975776]\n",
            " [0.87975776]\n",
            " [0.87975776]\n",
            " [0.87975776]\n",
            " [0.87975776]\n",
            " [0.87975776]\n",
            " [0.87975776]\n",
            " [0.87975776]\n",
            " [0.87975776]\n",
            " [0.87975776]\n",
            " [0.87975776]\n",
            " [0.87975776]\n",
            " [0.87975776]\n",
            " [0.87975776]\n",
            " [0.87975776]\n",
            " [0.87975776]\n",
            " [0.8799089 ]\n",
            " [0.8799089 ]\n",
            " [0.8799089 ]\n",
            " [0.8799089 ]\n",
            " [0.8799089 ]\n",
            " [0.8799089 ]\n",
            " [0.8799089 ]\n",
            " [0.8799089 ]\n",
            " [0.8799089 ]\n",
            " [0.8799089 ]\n",
            " [0.8799089 ]\n",
            " [0.8799089 ]\n",
            " [0.8799089 ]\n",
            " [0.8799089 ]\n",
            " [0.8799089 ]\n",
            " [0.8799089 ]\n",
            " [0.8799089 ]\n",
            " [0.8799089 ]\n",
            " [0.8799089 ]\n",
            " [0.87975776]\n",
            " [0.8799449 ]\n",
            " [0.88109434]\n",
            " [0.88109434]\n",
            " [0.88109434]\n",
            " [0.88109434]\n",
            " [0.88109434]\n",
            " [0.88109434]\n",
            " [0.88109434]\n",
            " [0.88109434]\n",
            " [0.88109434]\n",
            " [0.88109434]\n",
            " [0.8812455 ]\n",
            " [0.8812455 ]\n",
            " [0.8812455 ]\n",
            " [0.8812455 ]\n",
            " [0.8812455 ]\n",
            " [0.8812455 ]\n",
            " [0.8812455 ]\n",
            " [0.8812455 ]\n",
            " [0.8812455 ]\n",
            " [0.8812455 ]\n",
            " [0.8812455 ]\n",
            " [0.8812455 ]\n",
            " [0.88109434]\n",
            " [0.88109434]\n",
            " [0.88109434]\n",
            " [0.88109434]\n",
            " [0.88109434]\n",
            " [0.88109434]\n",
            " [0.88109434]\n",
            " [0.88109434]\n",
            " [0.8823874 ]\n",
            " [0.87975776]\n",
            " [0.8813034 ]\n",
            " [0.8805244 ]\n",
            " [0.88312364]\n",
            " [0.88312364]\n",
            " [0.88312364]\n",
            " [0.88312364]\n",
            " [0.88312364]\n",
            " [0.88312364]\n",
            " [0.88312364]\n",
            " [0.88312364]\n",
            " [0.88312364]\n",
            " [0.88312364]\n",
            " [0.88312364]\n",
            " [0.88312364]\n",
            " [0.88312364]\n",
            " [0.88312364]\n",
            " [0.88315403]\n",
            " [0.8799449 ]\n",
            " [0.8812815 ]\n",
            " [0.8812815 ]\n",
            " [0.8812815 ]\n",
            " [0.8812815 ]\n",
            " [0.8812815 ]\n",
            " [0.8812815 ]\n",
            " [0.8812815 ]\n",
            " [0.8812815 ]\n",
            " [0.8812815 ]\n",
            " [0.8812815 ]\n",
            " [0.8812815 ]\n",
            " [0.8812815 ]\n",
            " [0.8812815 ]\n",
            " [0.8812815 ]\n",
            " [0.8812815 ]\n",
            " [0.8812815 ]\n",
            " [0.8812815 ]\n",
            " [0.8824036 ]\n",
            " [0.8824036 ]\n",
            " [0.8824036 ]\n",
            " [0.8824036 ]\n",
            " [0.88106704]\n",
            " [0.88106704]\n",
            " [0.8834239 ]\n",
            " [0.88245296]\n",
            " [0.88245296]\n",
            " [0.88245296]\n",
            " [0.88245296]\n",
            " [0.88245296]\n",
            " [0.88245296]\n",
            " [0.88245296]\n",
            " [0.88245296]\n",
            " [0.88245296]\n",
            " [0.88245296]\n",
            " [0.8799089 ]\n",
            " [0.88038784]\n",
            " [0.88038784]\n",
            " [0.88038784]\n",
            " [0.88038784]\n",
            " [0.88038784]\n",
            " [0.88038784]\n",
            " [0.88038784]\n",
            " [0.88038784]\n",
            " [0.88038784]\n",
            " [0.88038784]\n",
            " [0.88038784]\n",
            " [0.88038784]\n",
            " [0.88038784]\n",
            " [0.88038784]\n",
            " [0.88038784]\n",
            " [0.88038784]\n",
            " [0.88038784]\n",
            " [0.88038784]\n",
            " [0.88038784]\n",
            " [0.8799089 ]\n",
            " [0.8799089 ]\n",
            " [0.8837382 ]\n",
            " [0.8800105 ]\n",
            " [0.8800657 ]\n",
            " [0.8800657 ]\n",
            " [0.8800657 ]\n",
            " [0.8800657 ]\n",
            " [0.8800657 ]\n",
            " [0.8800657 ]\n",
            " [0.8800657 ]\n",
            " [0.8800657 ]\n",
            " [0.8805446 ]\n",
            " [0.8805446 ]\n",
            " [0.8805446 ]\n",
            " [0.8805446 ]\n",
            " [0.8805446 ]\n",
            " [0.8805446 ]\n",
            " [0.8805446 ]\n",
            " [0.8805446 ]\n",
            " [0.8805446 ]\n",
            " [0.8805446 ]\n",
            " [0.8805446 ]\n",
            " [0.8805446 ]\n",
            " [0.8805446 ]\n",
            " [0.8805446 ]\n",
            " [0.8805446 ]\n",
            " [0.8805446 ]\n",
            " [0.8805446 ]\n",
            " [0.8805446 ]\n",
            " [0.8805446 ]\n",
            " [0.8805446 ]\n",
            " [0.8805446 ]\n",
            " [0.88041055]\n",
            " [0.8805446 ]\n",
            " [0.8805446 ]\n",
            " [0.8805446 ]\n",
            " [0.8805446 ]\n",
            " [0.8828303 ]\n",
            " [0.880575  ]\n",
            " [0.880575  ]\n",
            " [0.8829871 ]\n",
            " [0.8824935 ]\n",
            " [0.8824935 ]\n",
            " [0.8824935 ]\n",
            " [0.8824935 ]\n",
            " [0.8824935 ]\n",
            " [0.8824935 ]\n",
            " [0.8824935 ]\n",
            " [0.8824935 ]\n",
            " [0.8824935 ]\n",
            " [0.8824935 ]\n",
            " [0.8824935 ]\n",
            " [0.8824935 ]\n",
            " [0.8824935 ]\n",
            " [0.8824935 ]\n",
            " [0.8824935 ]\n",
            " [0.88250816]\n",
            " [0.88250816]\n",
            " [0.88250816]\n",
            " [0.88250816]\n",
            " [0.88250816]\n",
            " [0.8799089 ]\n",
            " [0.8799089 ]\n",
            " [0.8799089 ]\n",
            " [0.8799089 ]\n",
            " [0.8799089 ]\n",
            " [0.8799089 ]\n",
            " [0.8799089 ]\n",
            " [0.8799089 ]\n",
            " [0.8799089 ]\n",
            " [0.8799089 ]\n",
            " [0.8799089 ]\n",
            " [0.8799089 ]\n",
            " [0.8799089 ]\n",
            " [0.87975776]\n",
            " [0.87975776]\n",
            " [0.87975776]\n",
            " [0.87975776]\n",
            " [0.87975776]\n",
            " [0.87975776]\n",
            " [0.87975776]\n",
            " [0.87975776]\n",
            " [0.87975776]\n",
            " [0.87975776]\n",
            " [0.87975776]\n",
            " [0.87975776]\n",
            " [0.87975776]\n",
            " [0.87975776]\n",
            " [0.87975776]\n",
            " [0.87975776]\n",
            " [0.87975776]\n",
            " [0.87975776]\n",
            " [0.87975776]\n",
            " [0.87975776]\n",
            " [0.8802745 ]\n",
            " [0.8802745 ]\n",
            " [0.8802745 ]\n",
            " [0.8802745 ]\n",
            " [0.8802745 ]\n",
            " [0.8802745 ]\n",
            " [0.8802745 ]\n",
            " [0.8802745 ]\n",
            " [0.8802745 ]\n",
            " [0.8802745 ]\n",
            " [0.8802745 ]\n",
            " [0.8802745 ]\n",
            " [0.8802745 ]\n",
            " [0.8802745 ]\n",
            " [0.8802745 ]\n",
            " [0.8802745 ]\n",
            " [0.8802745 ]\n",
            " [0.8802745 ]\n",
            " [0.8802745 ]\n",
            " [0.8802745 ]\n",
            " [0.8802745 ]\n",
            " [0.879659  ]\n",
            " [0.879659  ]\n",
            " [0.879659  ]\n",
            " [0.879659  ]\n",
            " [0.879659  ]\n",
            " [0.879659  ]\n",
            " [0.879659  ]\n",
            " [0.879659  ]\n",
            " [0.8801379 ]\n",
            " [0.8801379 ]\n",
            " [0.8801379 ]\n",
            " [0.8801379 ]\n",
            " [0.8801379 ]\n",
            " [0.8801379 ]\n",
            " [0.8801379 ]\n",
            " [0.8801379 ]\n",
            " [0.8801379 ]\n",
            " [0.8801379 ]\n",
            " [0.8801379 ]\n",
            " [0.8801379 ]\n",
            " [0.8795078 ]\n",
            " [0.8795078 ]\n",
            " [0.8795078 ]\n",
            " [0.8795078 ]\n",
            " [0.87969494]\n",
            " [0.8798026 ]\n",
            " [0.8819405 ]\n",
            " [0.8819405 ]\n",
            " [0.8819405 ]\n",
            " [0.8819405 ]\n",
            " [0.8819405 ]\n",
            " [0.8819405 ]\n",
            " [0.8819405 ]\n",
            " [0.8819405 ]\n",
            " [0.8819405 ]\n",
            " [0.87969494]\n",
            " [0.87969494]\n",
            " [0.88195026]\n",
            " [0.88195026]\n",
            " [0.88195026]\n",
            " [0.87969494]\n",
            " [0.87969494]\n",
            " [0.87969494]\n",
            " [0.87969494]\n",
            " [0.87969494]\n",
            " [0.87969494]\n",
            " [0.87969494]\n",
            " [0.87969494]\n",
            " [0.87969494]\n",
            " [0.87969494]\n",
            " [0.87969494]\n",
            " [0.87969494]\n",
            " [0.8820518 ]\n",
            " [0.8803251 ]\n",
            " [0.8803251 ]\n",
            " [0.8803251 ]\n",
            " [0.8803251 ]\n",
            " [0.8803251 ]\n",
            " [0.8803251 ]\n",
            " [0.8803251 ]\n",
            " [0.8803251 ]\n",
            " [0.8803251 ]\n",
            " [0.8803251 ]\n",
            " [0.8803251 ]\n",
            " [0.8829871 ]\n",
            " [0.8829871 ]\n",
            " [0.8828303 ]\n",
            " [0.88038784]\n",
            " [0.880575  ]\n",
            " [0.880575  ]\n",
            " [0.880575  ]\n",
            " [0.880575  ]\n",
            " [0.880575  ]\n",
            " [0.880575  ]\n",
            " [0.880575  ]\n",
            " [0.880575  ]\n",
            " [0.880575  ]\n",
            " [0.880575  ]\n",
            " [0.880575  ]\n",
            " [0.880575  ]\n",
            " [0.8828303 ]\n",
            " [0.8802538 ]\n",
            " [0.8802538 ]\n",
            " [0.8802538 ]\n",
            " [0.8802538 ]\n",
            " [0.8802538 ]\n",
            " [0.8802538 ]\n",
            " [0.8802538 ]\n",
            " [0.8802538 ]\n",
            " [0.8802538 ]\n",
            " [0.8802538 ]\n",
            " [0.8802538 ]\n",
            " [0.88038784]\n",
            " [0.88038784]\n",
            " [0.88038784]\n",
            " [0.8832536 ]\n",
            " [0.88300365]\n",
            " [0.88300365]\n",
            " [0.88300365]\n",
            " [0.88300365]\n",
            " [0.88544613]\n",
            " [0.88544613]\n",
            " [0.88544613]\n",
            " [0.88544613]\n",
            " [0.88544613]\n",
            " [0.8843402 ]\n",
            " [0.88371015]\n",
            " [0.88371015]\n",
            " [0.88371015]\n",
            " [0.88371015]\n",
            " [0.88371015]\n",
            " [0.88371015]\n",
            " [0.88371015]\n",
            " [0.88371015]\n",
            " [0.88371015]\n",
            " [0.88371015]\n",
            " [0.88371015]\n",
            " [0.88371015]\n",
            " [0.88371015]\n",
            " [0.88371015]\n",
            " [0.88371015]\n",
            " [0.88371015]\n",
            " [0.88371015]\n",
            " [0.88371015]\n",
            " [0.88371015]\n",
            " [0.88371015]\n",
            " [0.88371015]\n",
            " [0.88371015]\n",
            " [0.88371015]\n",
            " [0.88371015]\n",
            " [0.8838613 ]\n",
            " [0.8838613 ]\n",
            " [0.8838613 ]]\n"
          ],
          "name": "stdout"
        }
      ]
    },
    {
      "cell_type": "code",
      "metadata": {
        "colab": {
          "base_uri": "https://localhost:8080/",
          "height": 86
        },
        "id": "rmVqTNwYMCZE",
        "outputId": "2d554e24-d1a0-4359-bcfc-8109fac92ac8"
      },
      "source": [
        "!pip install xgboost\n",
        "\n",
        "\n",
        "xgb.__version__"
      ],
      "execution_count": null,
      "outputs": [
        {
          "output_type": "stream",
          "text": [
            "Requirement already satisfied: xgboost in /usr/local/lib/python3.7/dist-packages (0.90)\n",
            "Requirement already satisfied: numpy in /usr/local/lib/python3.7/dist-packages (from xgboost) (1.19.5)\n",
            "Requirement already satisfied: scipy in /usr/local/lib/python3.7/dist-packages (from xgboost) (1.4.1)\n"
          ],
          "name": "stdout"
        },
        {
          "output_type": "execute_result",
          "data": {
            "application/vnd.google.colaboratory.intrinsic+json": {
              "type": "string"
            },
            "text/plain": [
              "'0.90'"
            ]
          },
          "metadata": {},
          "execution_count": 50
        }
      ]
    },
    {
      "cell_type": "markdown",
      "metadata": {
        "id": "VOOXuQzUQ65-"
      },
      "source": [
        "#**XGBOOST DEPLOYMENT**\n",
        "\n",
        "In this part, the trained model will be used to predict the whole datasets\n",
        "\n",
        "`y_pred = rgr.predict(Data that wants to be predicted)`\n",
        "\n",
        "In the next section, uncomment and create directory if you wish to save the plots\n",
        "\n",
        "`plt.savefig('your/directory/plot number' + str(n+1),dpi=300)`"
      ]
    },
    {
      "cell_type": "code",
      "metadata": {
        "id": "aoJ9tmgDQ8lz"
      },
      "source": [
        "'''\n",
        "y_pred = rgr.predict(X)\n",
        "\n",
        "mse = mean_squared_error(y_test, y_pred, squared=True)\n",
        "rmse = mean_squared_error(y_test, y_pred, squared=False)\n",
        "r2= r2_score(y_test, y_pred)\n",
        "\n",
        "print('Mean MAE: %.3f (%.3f)' % (scores.mean(), scores.std()) )\n",
        "print('MSE Value: {:.2f}'.format(mse))\n",
        "print('RMSE Value: {:.2f}'.format(rmse))\n",
        "print('R-squared Value: {:.2f}'.format(r2))\n",
        "'''"
      ],
      "execution_count": null,
      "outputs": []
    },
    {
      "cell_type": "code",
      "metadata": {
        "id": "GKhPpQeuRQzq"
      },
      "source": [
        "'''\n",
        "plt.plot(y_test,'#0474BE', y_pred,'#D95319')\n",
        "plt.legend(('Actual Data','Predicted Data'),\n",
        "           loc='lower right', shadow=True )\n",
        "plt.title('TestData  vs Predicted  Output')\n",
        "  #plt.savefig('/content/drive/MyDrive/00 MACHINE LEARNING/y_pred (test data) ' + str(i),dpi=300)\n",
        "plt.show()\n",
        "'''"
      ],
      "execution_count": null,
      "outputs": []
    }
  ]
}