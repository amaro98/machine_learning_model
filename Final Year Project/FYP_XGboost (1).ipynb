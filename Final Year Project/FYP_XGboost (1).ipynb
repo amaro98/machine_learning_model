{
  "nbformat": 4,
  "nbformat_minor": 0,
  "metadata": {
    "colab": {
      "name": "FYP_XGboost.ipynb",
      "provenance": [],
      "collapsed_sections": []
    },
    "kernelspec": {
      "name": "python3",
      "display_name": "Python 3"
    }
  },
  "cells": [
    {
      "cell_type": "markdown",
      "metadata": {
        "id": "8FLud1n-3pVm"
      },
      "source": [
        "# XGBoost"
      ]
    },
    {
      "cell_type": "markdown",
      "metadata": {
        "id": "sO8VPU6n3vES"
      },
      "source": [
        "## Importing the libraries"
      ]
    },
    {
      "cell_type": "code",
      "metadata": {
        "id": "clDSsF7P33NU"
      },
      "source": [
        "import numpy as np\n",
        "import matplotlib.pyplot as plt\n",
        "import pandas as pd\n",
        "from sklearn.model_selection import cross_val_score\n",
        "import optuna"
      ],
      "execution_count": null,
      "outputs": []
    },
    {
      "cell_type": "code",
      "metadata": {
        "id": "CznnzAOueC-i"
      },
      "source": [
        "!pip install optuna"
      ],
      "execution_count": null,
      "outputs": []
    },
    {
      "cell_type": "markdown",
      "metadata": {
        "id": "zGpwK5XD386E"
      },
      "source": [
        "## Importing the dataset"
      ]
    },
    {
      "cell_type": "code",
      "metadata": {
        "id": "Zcksk88u4Ae8",
        "colab": {
          "base_uri": "https://localhost:8080/"
        },
        "outputId": "60adaa56-d5a9-4255-91b8-5431f877493b"
      },
      "source": [
        "dataset = pd.read_excel('Data_10s_summary_icurve_noitae.xlsx')\n",
        "X = dataset.iloc[:, :-1].values\n",
        "y = dataset.iloc[:, -1].values\n",
        "\n",
        "print(dataset)\n",
        "\n"
      ],
      "execution_count": null,
      "outputs": [
        {
          "output_type": "stream",
          "name": "stdout",
          "text": [
            "       P     I           IAE           ISE          OS     STATUS\n",
            "0    0.0   0.4  1.319288e+17  1.393534e+33   14.497201  AGRESSIVE\n",
            "1    0.0   0.8  3.912662e+08  4.766471e+15    0.000000  AGRESSIVE\n",
            "2    0.0   1.2  1.695893e+05  4.557204e+08   39.411180  AGRESSIVE\n",
            "3    0.0   1.6  3.597283e+03  8.184215e+04   84.020967  AGRESSIVE\n",
            "4    0.0   2.0  5.898912e+02  1.458826e+03  305.966746  AGRESSIVE\n",
            "..   ...   ...           ...           ...         ...        ...\n",
            "620  6.0   8.4  3.700473e+01  5.538796e+01   47.970562   SLUGGISH\n",
            "621  6.0   8.8  3.801564e+01  5.550805e+01   47.786869   SLUGGISH\n",
            "622  6.0   9.2  3.903367e+01  5.564539e+01   47.623959   SLUGGISH\n",
            "623  6.0   9.6  4.005747e+01  5.579219e+01   47.479702   SLUGGISH\n",
            "624  6.0  10.0  4.108441e+01  5.594762e+01   47.352272   SLUGGISH\n",
            "\n",
            "[625 rows x 6 columns]\n"
          ]
        }
      ]
    },
    {
      "cell_type": "markdown",
      "metadata": {
        "id": "XNn2RnST6_Q-"
      },
      "source": [
        "## Splitting the dataset into the Training set and Test set"
      ]
    },
    {
      "cell_type": "code",
      "metadata": {
        "id": "ajhBL-er7Gry"
      },
      "source": [
        "from sklearn.model_selection import train_test_split\n",
        "X_train, X_test, y_train, y_test = train_test_split(X, y, test_size = 0.2, random_state = 0,stratify = y)\n",
        "\n",
        "\n",
        "print(X_test)\n",
        "\n",
        "\n",
        "\n",
        "from sklearn.preprocessing import LabelEncoder\n",
        "le = LabelEncoder()\n",
        "y_train = le.fit_transform(y_train)\n",
        "\n",
        "from tabulate import tabulate\n",
        "y_test = le.fit_transform(y_test)\n",
        "\n"
      ],
      "execution_count": null,
      "outputs": []
    },
    {
      "cell_type": "code",
      "metadata": {
        "id": "f2nQKU4zfTeK"
      },
      "source": [
        "def objective(trial,data=data,target=target):\n",
        "    \n",
        "    param = {\n",
        "        'tree_method':'gpu_hist',  # this parameter means using the GPU when training our model to speedup the training process\n",
        "        'lambda': trial.suggest_loguniform('lambda', 1e-3, 10.0),\n",
        "        'alpha': trial.suggest_loguniform('alpha', 1e-3, 10.0),\n",
        "        'colsample_bytree': trial.suggest_categorical('colsample_bytree', [0.3,0.4,0.5,0.6,0.7,0.8,0.9, 1.0]),\n",
        "        'subsample': trial.suggest_categorical('subsample', [0.4,0.5,0.6,0.7,0.8,1.0]),\n",
        "        'learning_rate': trial.suggest_categorical('learning_rate', [0.008,0.009,0.01,0.012,0.014,0.016,0.018, 0.02]),\n",
        "        'n_estimators': 4000,\n",
        "        'max_depth': trial.suggest_categorical('max_depth', [5,7,9,11,13,15,17,20]),\n",
        "        'random_state': trial.suggest_categorical('random_state', [24, 48,2020]),\n",
        "        'min_child_weight': trial.suggest_int('min_child_weight', 1, 300),\n",
        "    }\n",
        "    model = xgb.XGBClassifier(**param)  \n",
        "    \n",
        "    model.fit(X_train,y_train_y,eval_set=[(X_test,y_test)],early_stopping_rounds=10,verbose=False)\n",
        "    \n",
        "    preds = model.predict(X_test)\n",
        "    \n",
        "    scoring = 'roc_auc'\n",
        "    \n",
        "    return scoring"
      ],
      "execution_count": null,
      "outputs": []
    },
    {
      "cell_type": "markdown",
      "metadata": {
        "id": "1Y89ctGZ7Mcx"
      },
      "source": [
        "## Training XGBoost on the Training set"
      ]
    },
    {
      "cell_type": "code",
      "metadata": {
        "id": "ude1J0E47SKN",
        "colab": {
          "base_uri": "https://localhost:8080/"
        },
        "outputId": "d053054b-769b-48de-8568-cc16a8a647d9"
      },
      "source": [
        "from xgboost import XGBClassifier\n",
        "classifier = XGBClassifier(base_score=0.5, booster='gbtree', colsample_bylevel=1,\n",
        "              colsample_bynode=1, colsample_bytree=1, gamma=0.001,\n",
        "              learning_rate=1, max_delta_step=5, max_depth=3,\n",
        "              min_child_weight=1, n_estimators=150, n_jobs=1,\n",
        "              nthread=None, objective='multi:softprob', random_state=0,\n",
        "              reg_alpha=0, reg_lambda=8.6, scale_pos_weight=1, seed=42,\n",
        "              silent=None, subsample=1, verbosity=1)\n",
        "classifier.fit(X_train, y_train)"
      ],
      "execution_count": null,
      "outputs": [
        {
          "output_type": "stream",
          "name": "stdout",
          "text": [
            "[13:51:21] WARNING: ../src/learner.cc:573: \n",
            "Parameters: { \"scale_pos_weight\" } might not be used.\n",
            "\n",
            "  This may not be accurate due to some parameters are only used in language bindings but\n",
            "  passed down to XGBoost core.  Or some parameters are not used but slip through this\n",
            "  verification. Please open an issue if you find above cases.\n",
            "\n",
            "\n",
            "[13:51:21] WARNING: ../src/learner.cc:1095: Starting in XGBoost 1.3.0, the default evaluation metric used with the objective 'multi:softprob' was changed from 'merror' to 'mlogloss'. Explicitly set eval_metric if you'd like to restore the old behavior.\n"
          ]
        },
        {
          "output_type": "stream",
          "name": "stderr",
          "text": [
            "/usr/local/lib/python3.7/dist-packages/xgboost/sklearn.py:1146: UserWarning: The use of label encoder in XGBClassifier is deprecated and will be removed in a future release. To remove this warning, do the following: 1) Pass option use_label_encoder=False when constructing XGBClassifier object; and 2) Encode your labels (y) as integers starting with 0, i.e. 0, 1, 2, ..., [num_class - 1].\n",
            "  warnings.warn(label_encoder_deprecation_msg, UserWarning)\n"
          ]
        },
        {
          "output_type": "execute_result",
          "data": {
            "text/plain": [
              "XGBClassifier(base_score=0.5, booster='gbtree', colsample_bylevel=1,\n",
              "              colsample_bynode=1, colsample_bytree=1, gamma=0.001, gpu_id=-1,\n",
              "              importance_type='gain', interaction_constraints='',\n",
              "              learning_rate=1, max_delta_step=5, max_depth=3,\n",
              "              min_child_weight=1, missing=nan, monotone_constraints='()',\n",
              "              n_estimators=150, n_jobs=1, nthread=1, num_parallel_tree=1,\n",
              "              objective='multi:softprob', random_state=0, reg_alpha=0,\n",
              "              reg_lambda=8.6, scale_pos_weight=1, seed=42, silent=None,\n",
              "              subsample=1, tree_method='exact', use_label_encoder=True,\n",
              "              validate_parameters=1, ...)"
            ]
          },
          "metadata": {},
          "execution_count": 9
        }
      ]
    },
    {
      "cell_type": "markdown",
      "metadata": {
        "id": "ivqmubzW7dFJ"
      },
      "source": [
        "## Making the Confusion Matrix"
      ]
    },
    {
      "cell_type": "code",
      "metadata": {
        "id": "SUSZ3zm_7gRD",
        "colab": {
          "base_uri": "https://localhost:8080/",
          "height": 647
        },
        "outputId": "189d9135-f98a-4952-cb6c-c11ce28c042e"
      },
      "source": [
        "from sklearn.metrics import confusion_matrix, accuracy_score\n",
        "from sklearn.metrics import plot_confusion_matrix\n",
        "\n",
        "\n",
        "y_pred = classifier.predict(X_test)\n",
        "cm = confusion_matrix(y_test, y_pred)\n",
        "print(cm)\n",
        "\n",
        "\n",
        "titles_options = [(\"Confusion Matrix\", None),\n",
        "                    (\"Normalised Confusion Matrix\", 'true')]\n",
        "\n",
        "for title, normalize in titles_options:\n",
        "    disp = plot_confusion_matrix(classifier,\n",
        "                      X_test,\n",
        "                      y_test,\n",
        "                      cmap=plt.cm.Blues,\n",
        "                      display_labels=[\"Agressive\",\"Optimised\",\"Sluggish\"],\n",
        "                    normalize=normalize)\n",
        "\n",
        "\n",
        "    print(confusion_matrix)\n",
        "plt.show()\n",
        "print(accuracy_score(y_test, y_pred)*100,\"%\")\n",
        "\n",
        "\n"
      ],
      "execution_count": null,
      "outputs": [
        {
          "output_type": "stream",
          "name": "stdout",
          "text": [
            "[[55  0  1]\n",
            " [ 0 18  0]\n",
            " [ 0  0 51]]\n",
            "<function confusion_matrix at 0x7f8dcd394a70>\n",
            "<function confusion_matrix at 0x7f8dcd394a70>\n"
          ]
        },
        {
          "output_type": "display_data",
          "data": {
            "image/png": "[encoded data removed]",
            "text/plain": [
              "<Figure size 432x288 with 2 Axes>"
            ]
          },
          "metadata": {
            "needs_background": "light"
          }
        },
        {
          "output_type": "display_data",
          "data": {
            "image/png": "[encoded data removed]",
            "text/plain": [
              "<Figure size 432x288 with 2 Axes>"
            ]
          },
          "metadata": {
            "needs_background": "light"
          }
        },
        {
          "output_type": "stream",
          "name": "stdout",
          "text": [
            "99.2 %\n"
          ]
        }
      ]
    },
    {
      "cell_type": "markdown",
      "metadata": {
        "id": "EnbCjHgQ8XPn"
      },
      "source": [
        "## Applying k-Fold Cross Validation"
      ]
    },
    {
      "cell_type": "code",
      "metadata": {
        "id": "yYbfiITD8ZAz"
      },
      "source": [
        "\n",
        "accuracies = cross_val_score(estimator = classifier, X = X_train, y = y_train, cv = 5)\n",
        "print(\"Accuracy: {:.2f} %\".format(accuracies.mean()*100))\n",
        "print(\"Standard Deviation: {:.2f} %\".format(accuracies.std()*100))\n",
        "\n",
        "for title, normalize in titles_options:\n",
        "    disp = plot_confusion_matrix(classifier,\n",
        "                      X_train,\n",
        "                      y_train,\n",
        "                      cmap=plt.cm.Blues,\n",
        "                      display_labels=[\"Agressive\",\"Optimised\",\"Sluggish\"],\n",
        "                    normalize=normalize)\n",
        "\n",
        "    disp.ax_.set_title(title)\n",
        "    print(title)\n",
        "    print(confusion_matrix)\n",
        "plt.show()"
      ],
      "execution_count": null,
      "outputs": []
    }
  ]
}