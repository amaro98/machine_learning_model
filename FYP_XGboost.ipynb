{
  "nbformat": 4,
  "nbformat_minor": 0,
  "metadata": {
    "colab": {
      "name": "FYP_XGboost.ipynb",
      "provenance": [],
      "collapsed_sections": []
    },
    "kernelspec": {
      "name": "python3",
      "display_name": "Python 3"
    }
  },
  "cells": [
    {
      "cell_type": "markdown",
      "metadata": {
        "id": "8FLud1n-3pVm"
      },
      "source": [
        "# XGBoost"
      ]
    },
    {
      "cell_type": "markdown",
      "metadata": {
        "id": "sO8VPU6n3vES"
      },
      "source": [
        "## Importing the libraries"
      ]
    },
    {
      "cell_type": "code",
      "metadata": {
        "id": "clDSsF7P33NU"
      },
      "source": [
        "import numpy as np\n",
        "import matplotlib.pyplot as plt\n",
        "import pandas as pd\n",
        "from sklearn.model_selection import cross_val_score\n",
        "import optuna"
      ],
      "execution_count": null,
      "outputs": []
    },
    {
      "cell_type": "code",
      "metadata": {
        "colab": {
          "base_uri": "https://localhost:8080/"
        },
        "id": "CznnzAOueC-i",
        "outputId": "6c795c28-ee43-454c-8c86-d24f6f9e5fe2"
      },
      "source": [
        "!pip install optuna"
      ],
      "execution_count": null,
      "outputs": [
        {
          "output_type": "stream",
          "name": "stdout",
          "text": [
            "Collecting optuna\n",
            "  Downloading optuna-2.9.1-py3-none-any.whl (302 kB)\n",
            "\u001b[K     |████████████████████████████████| 302 kB 5.2 MB/s \n",
            "\u001b[?25hCollecting cmaes>=0.8.2\n",
            "  Downloading cmaes-0.8.2-py3-none-any.whl (15 kB)\n",
            "Requirement already satisfied: scipy!=1.4.0 in /usr/local/lib/python3.7/dist-packages (from optuna) (1.4.1)\n",
            "Requirement already satisfied: numpy in /usr/local/lib/python3.7/dist-packages (from optuna) (1.19.5)\n",
            "Requirement already satisfied: sqlalchemy>=1.1.0 in /usr/local/lib/python3.7/dist-packages (from optuna) (1.4.22)\n",
            "Collecting cliff\n",
            "  Downloading cliff-3.9.0-py3-none-any.whl (80 kB)\n",
            "\u001b[K     |████████████████████████████████| 80 kB 8.1 MB/s \n",
            "\u001b[?25hRequirement already satisfied: packaging>=20.0 in /usr/local/lib/python3.7/dist-packages (from optuna) (21.0)\n",
            "Requirement already satisfied: tqdm in /usr/local/lib/python3.7/dist-packages (from optuna) (4.62.0)\n",
            "Requirement already satisfied: PyYAML in /usr/local/lib/python3.7/dist-packages (from optuna) (3.13)\n",
            "Collecting alembic\n",
            "  Downloading alembic-1.7.1-py3-none-any.whl (208 kB)\n",
            "\u001b[K     |████████████████████████████████| 208 kB 69.2 MB/s \n",
            "\u001b[?25hCollecting colorlog\n",
            "  Downloading colorlog-6.4.1-py2.py3-none-any.whl (11 kB)\n",
            "Requirement already satisfied: pyparsing>=2.0.2 in /usr/local/lib/python3.7/dist-packages (from packaging>=20.0->optuna) (2.4.7)\n",
            "Requirement already satisfied: importlib-metadata in /usr/local/lib/python3.7/dist-packages (from sqlalchemy>=1.1.0->optuna) (4.6.4)\n",
            "Requirement already satisfied: greenlet!=0.4.17 in /usr/local/lib/python3.7/dist-packages (from sqlalchemy>=1.1.0->optuna) (1.1.1)\n",
            "Requirement already satisfied: importlib-resources in /usr/local/lib/python3.7/dist-packages (from alembic->optuna) (5.2.2)\n",
            "Collecting Mako\n",
            "  Downloading Mako-1.1.5-py2.py3-none-any.whl (75 kB)\n",
            "\u001b[K     |████████████████████████████████| 75 kB 3.5 MB/s \n",
            "\u001b[?25hRequirement already satisfied: PrettyTable>=0.7.2 in /usr/local/lib/python3.7/dist-packages (from cliff->optuna) (2.1.0)\n",
            "Collecting autopage>=0.4.0\n",
            "  Downloading autopage-0.4.0-py3-none-any.whl (20 kB)\n",
            "Collecting pbr!=2.1.0,>=2.0.0\n",
            "  Downloading pbr-5.6.0-py2.py3-none-any.whl (111 kB)\n",
            "\u001b[K     |████████████████████████████████| 111 kB 68.8 MB/s \n",
            "\u001b[?25hCollecting cmd2>=1.0.0\n",
            "  Downloading cmd2-2.1.2-py3-none-any.whl (141 kB)\n",
            "\u001b[K     |████████████████████████████████| 141 kB 72.6 MB/s \n",
            "\u001b[?25hCollecting stevedore>=2.0.1\n",
            "  Downloading stevedore-3.4.0-py3-none-any.whl (49 kB)\n",
            "\u001b[K     |████████████████████████████████| 49 kB 5.3 MB/s \n",
            "\u001b[?25hCollecting pyperclip>=1.6\n",
            "  Downloading pyperclip-1.8.2.tar.gz (20 kB)\n",
            "Collecting colorama>=0.3.7\n",
            "  Downloading colorama-0.4.4-py2.py3-none-any.whl (16 kB)\n",
            "Requirement already satisfied: typing-extensions in /usr/local/lib/python3.7/dist-packages (from cmd2>=1.0.0->cliff->optuna) (3.7.4.3)\n",
            "Requirement already satisfied: attrs>=16.3.0 in /usr/local/lib/python3.7/dist-packages (from cmd2>=1.0.0->cliff->optuna) (21.2.0)\n",
            "Requirement already satisfied: wcwidth>=0.1.7 in /usr/local/lib/python3.7/dist-packages (from cmd2>=1.0.0->cliff->optuna) (0.2.5)\n",
            "Requirement already satisfied: zipp>=0.5 in /usr/local/lib/python3.7/dist-packages (from importlib-metadata->sqlalchemy>=1.1.0->optuna) (3.5.0)\n",
            "Requirement already satisfied: MarkupSafe>=0.9.2 in /usr/local/lib/python3.7/dist-packages (from Mako->alembic->optuna) (2.0.1)\n",
            "Building wheels for collected packages: pyperclip\n",
            "  Building wheel for pyperclip (setup.py) ... \u001b[?25l\u001b[?25hdone\n",
            "  Created wheel for pyperclip: filename=pyperclip-1.8.2-py3-none-any.whl size=11136 sha256=e9b55d79cb99c8a2bf3e7d4c8f19a6fe558e89e95ca1e6621da45ac3bf53196c\n",
            "  Stored in directory: /root/.cache/pip/wheels/9f/18/84/8f69f8b08169c7bae2dde6bd7daf0c19fca8c8e500ee620a28\n",
            "Successfully built pyperclip\n",
            "Installing collected packages: pyperclip, pbr, colorama, stevedore, Mako, cmd2, autopage, colorlog, cmaes, cliff, alembic, optuna\n",
            "Successfully installed Mako-1.1.5 alembic-1.7.1 autopage-0.4.0 cliff-3.9.0 cmaes-0.8.2 cmd2-2.1.2 colorama-0.4.4 colorlog-6.4.1 optuna-2.9.1 pbr-5.6.0 pyperclip-1.8.2 stevedore-3.4.0\n"
          ]
        }
      ]
    },
    {
      "cell_type": "markdown",
      "metadata": {
        "id": "zGpwK5XD386E"
      },
      "source": [
        "## Importing the dataset"
      ]
    },
    {
      "cell_type": "code",
      "metadata": {
        "id": "Zcksk88u4Ae8",
        "colab": {
          "base_uri": "https://localhost:8080/"
        },
        "outputId": "60adaa56-d5a9-4255-91b8-5431f877493b"
      },
      "source": [
        "dataset = pd.read_excel('Data_10s_summary_icurve_noitae.xlsx')\n",
        "X = dataset.iloc[:, :-1].values\n",
        "y = dataset.iloc[:, -1].values\n",
        "\n",
        "print(dataset)\n",
        "\n"
      ],
      "execution_count": null,
      "outputs": [
        {
          "output_type": "stream",
          "name": "stdout",
          "text": [
            "       P     I           IAE           ISE          OS     STATUS\n",
            "0    0.0   0.4  1.319288e+17  1.393534e+33   14.497201  AGRESSIVE\n",
            "1    0.0   0.8  3.912662e+08  4.766471e+15    0.000000  AGRESSIVE\n",
            "2    0.0   1.2  1.695893e+05  4.557204e+08   39.411180  AGRESSIVE\n",
            "3    0.0   1.6  3.597283e+03  8.184215e+04   84.020967  AGRESSIVE\n",
            "4    0.0   2.0  5.898912e+02  1.458826e+03  305.966746  AGRESSIVE\n",
            "..   ...   ...           ...           ...         ...        ...\n",
            "620  6.0   8.4  3.700473e+01  5.538796e+01   47.970562   SLUGGISH\n",
            "621  6.0   8.8  3.801564e+01  5.550805e+01   47.786869   SLUGGISH\n",
            "622  6.0   9.2  3.903367e+01  5.564539e+01   47.623959   SLUGGISH\n",
            "623  6.0   9.6  4.005747e+01  5.579219e+01   47.479702   SLUGGISH\n",
            "624  6.0  10.0  4.108441e+01  5.594762e+01   47.352272   SLUGGISH\n",
            "\n",
            "[625 rows x 6 columns]\n"
          ]
        }
      ]
    },
    {
      "cell_type": "markdown",
      "metadata": {
        "id": "XNn2RnST6_Q-"
      },
      "source": [
        "## Splitting the dataset into the Training set and Test set"
      ]
    },
    {
      "cell_type": "code",
      "metadata": {
        "id": "ajhBL-er7Gry",
        "colab": {
          "base_uri": "https://localhost:8080/"
        },
        "outputId": "1f9aa1c0-efc8-4471-dd72-4d17a14dd736"
      },
      "source": [
        "from sklearn.model_selection import train_test_split\n",
        "X_train, X_test, y_train, y_test = train_test_split(X, y, test_size = 0.2, random_state = 0,stratify = y)\n",
        "\n",
        "\n",
        "print(X_test)\n",
        "\n",
        "\n",
        "\n",
        "from sklearn.preprocessing import LabelEncoder\n",
        "le = LabelEncoder()\n",
        "y_train = le.fit_transform(y_train)\n",
        "\n",
        "from tabulate import tabulate\n",
        "y_test = le.fit_transform(y_test)\n",
        "\n"
      ],
      "execution_count": null,
      "outputs": [
        {
          "output_type": "stream",
          "name": "stdout",
          "text": [
            "[[3.25000000e+00 6.80000000e+00 2.16411336e+01 4.62055693e+01\n",
            "  7.38910897e+00]\n",
            " [5.00000000e+00 8.00000000e+00 3.03569788e+01 4.75011472e+01\n",
            "  3.27134025e+01]\n",
            " [3.25000000e+00 8.00000000e+00 2.48147190e+01 4.70177661e+01\n",
            "  5.69973042e+00]\n",
            " [1.75000000e+00 2.40000000e+00 2.93575776e+01 6.34265914e+01\n",
            "  3.16953092e+01]\n",
            " [3.75000000e+00 1.60000000e+00 2.17227107e+01 5.35185455e+01\n",
            "  4.72870160e+01]\n",
            " [3.00000000e+00 2.00000000e+00 2.09263796e+01 5.19932973e+01\n",
            "  3.38463733e+01]\n",
            " [4.75000000e+00 1.20000000e+00 2.78555310e+01 6.38108391e+01\n",
            "  6.84082727e+01]\n",
            " [3.75000000e+00 4.40000000e+00 1.77818977e+01 4.46302646e+01\n",
            "  1.90636683e+01]\n",
            " [1.75000000e+00 1.60000000e+00 3.99182833e+01 7.96738019e+01\n",
            "  5.27959284e+01]\n",
            " [4.00000000e+00 4.40000000e+00 1.84458715e+01 4.45921515e+01\n",
            "  2.28576987e+01]\n",
            " [4.25000000e+00 2.80000000e+00 1.84606001e+01 4.64062505e+01\n",
            "  3.44627661e+01]\n",
            " [2.50000000e-01 3.60000000e+00 7.85376119e+01 1.38067862e+02\n",
            "  5.11185870e+01]\n",
            " [2.00000000e+00 8.40000000e+00 2.51999944e+01 5.59470105e+01\n",
            "  0.00000000e+00]\n",
            " [4.25000000e+00 7.20000000e+00 2.58285528e+01 4.54541348e+01\n",
            "  2.19973875e+01]\n",
            " [4.50000000e+00 4.80000000e+00 2.07662211e+01 4.52151790e+01\n",
            "  2.99629699e+01]\n",
            " [3.25000000e+00 1.20000000e+00 2.87731670e+01 6.61865536e+01\n",
            "  5.94742180e+01]\n",
            " [2.50000000e-01 4.00000000e+00 7.30908945e+01 1.30917025e+02\n",
            "  4.65296985e+01]\n",
            " [1.50000000e+00 7.20000000e+00 2.31792868e+01 6.20742677e+01\n",
            "  9.91677373e-01]\n",
            " [4.75000000e+00 4.40000000e+00 2.09460438e+01 4.59154073e+01\n",
            "  3.48019535e+01]\n",
            " [5.00000000e-01 6.40000000e+00 4.68881764e+01 9.68607256e+01\n",
            "  2.06123997e+01]\n",
            " [4.25000000e+00 8.00000000e+00 2.79747262e+01 4.58794224e+01\n",
            "  2.12055353e+01]\n",
            " [1.25000000e+00 1.20000000e+00 1.11159837e+02 1.91884423e+02\n",
            "  8.29385661e+01]\n",
            " [2.50000000e-01 4.80000000e+00 6.64106785e+01 1.23009837e+02\n",
            "  3.92585019e+01]\n",
            " [4.75000000e+00 4.00000000e-01 8.10178318e+08 2.28254420e+16\n",
            "  5.27005069e+01]\n",
            " [7.50000000e-01 6.80000000e+00 3.77986687e+01 8.34189628e+01\n",
            "  1.27372317e+01]\n",
            " [4.75000000e+00 2.80000000e+00 1.98839126e+01 4.75959626e+01\n",
            "  4.20498330e+01]\n",
            " [3.75000000e+00 6.80000000e+00 2.31699104e+01 4.52349037e+01\n",
            "  1.37600985e+01]\n",
            " [6.00000000e+00 7.20000000e+00 3.40892715e+01 5.51725265e+01\n",
            "  4.86744883e+01]\n",
            " [5.25000000e+00 3.20000000e+00 2.21701972e+01 4.96867030e+01\n",
            "  4.63506858e+01]\n",
            " [4.75000000e+00 9.60000000e+00 3.39668092e+01 4.76127254e+01\n",
            "  2.79546932e+01]\n",
            " [1.75000000e+00 8.40000000e+00 2.51999995e+01 5.92420115e+01\n",
            "  0.00000000e+00]\n",
            " [5.75000000e+00 4.40000000e+00 2.65933289e+01 5.29336382e+01\n",
            "  4.77407573e+01]\n",
            " [4.75000000e+00 4.80000000e+00 2.16628858e+01 4.58414280e+01\n",
            "  3.37428991e+01]\n",
            " [1.00000000e+00 3.60000000e+00 3.76604701e+01 7.67561661e+01\n",
            "  2.79878139e+01]\n",
            " [5.00000000e+00 8.40000000e+00 3.14317180e+01 4.76824995e+01\n",
            "  3.23908157e+01]\n",
            " [2.00000000e+00 1.20000000e+00 4.96395501e+01 9.69717367e+01\n",
            "  6.77486141e+01]\n",
            " [1.50000000e+00 8.40000000e+00 2.52000000e+01 6.34127010e+01\n",
            "  0.00000000e+00]\n",
            " [2.50000000e-01 2.40000000e+00 1.27147098e+02 2.08979295e+02\n",
            "  7.06176198e+01]\n",
            " [4.50000000e+00 4.40000000e+00 2.00416655e+01 4.52762637e+01\n",
            "  3.10338902e+01]\n",
            " [4.25000000e+00 5.60000000e+00 2.17718000e+01 4.48506675e+01\n",
            "  2.42672201e+01]\n",
            " [2.50000000e-01 8.00000000e+00 5.75784280e+01 1.18191766e+02\n",
            "  2.16925773e+01]\n",
            " [1.00000000e+00 8.00000000e-01 1.44165396e+05 3.10806217e+08\n",
            "  4.30901221e+02]\n",
            " [1.00000000e+00 9.60000000e+00 3.12055750e+01 7.75977734e+01\n",
            "  1.30022931e+00]\n",
            " [2.75000000e+00 8.40000000e+00 2.51996624e+01 4.95782014e+01\n",
            "  0.00000000e+00]\n",
            " [3.00000000e+00 8.00000000e+00 2.42059576e+01 4.79660989e+01\n",
            "  2.09824986e+00]\n",
            " [6.00000000e+00 4.00000000e+00 2.80545389e+01 5.61749504e+01\n",
            "  5.28165742e+01]\n",
            " [3.75000000e+00 4.80000000e+00 1.85239217e+01 4.46010562e+01\n",
            "  1.76943292e+01]\n",
            " [2.50000000e+00 6.00000000e+00 1.80964191e+01 4.93725563e+01\n",
            "  8.90272302e-01]\n",
            " [3.00000000e+00 2.40000000e+00 1.99355376e+01 4.94799509e+01\n",
            "  2.68448302e+01]\n",
            " [3.00000000e+00 1.60000000e+00 2.37628839e+01 5.68933461e+01\n",
            "  4.41131000e+01]\n",
            " [6.00000000e+00 2.00000000e+00 3.06755044e+01 6.35642122e+01\n",
            "  6.47804908e+01]\n",
            " [4.75000000e+00 6.40000000e+00 2.52853486e+01 4.60616116e+01\n",
            "  3.08295160e+01]\n",
            " [5.00000000e-01 4.00000000e+00 5.47570736e+01 1.03139994e+02\n",
            "  3.72971137e+01]\n",
            " [5.00000000e+00 9.60000000e+00 3.47253389e+01 4.83185696e+01\n",
            "  3.15994467e+01]\n",
            " [3.25000000e+00 4.00000000e+00 1.61012850e+01 4.55665969e+01\n",
            "  1.52345442e+01]\n",
            " [2.50000000e+00 4.00000000e+00 1.83845920e+01 4.91693580e+01\n",
            "  9.58405257e+00]\n",
            " [1.50000000e+00 8.80000000e+00 2.63999999e+01 6.39139950e+01\n",
            "  0.00000000e+00]\n",
            " [5.00000000e+00 4.80000000e+00 2.28330236e+01 4.69614274e+01\n",
            "  3.73094925e+01]\n",
            " [3.00000000e+00 4.00000000e+00 1.61633877e+01 4.64195315e+01\n",
            "  1.24645013e+01]\n",
            " [4.25000000e+00 9.60000000e+00 3.23807484e+01 4.68646410e+01\n",
            "  2.00307185e+01]\n",
            " [1.25000000e+00 7.60000000e+00 2.67393762e+01 6.77837793e+01\n",
            "  2.47381344e+00]\n",
            " [1.50000000e+00 9.20000000e+00 2.75999998e+01 6.44362557e+01\n",
            "  0.00000000e+00]\n",
            " [3.00000000e+00 4.80000000e+00 1.66412517e+01 4.62797992e+01\n",
            "  8.79077641e+00]\n",
            " [4.00000000e+00 5.60000000e+00 2.10107250e+01 4.46750702e+01\n",
            "  2.00419204e+01]\n",
            " [5.50000000e+00 8.40000000e+00 3.39978582e+01 5.07386159e+01\n",
            "  3.90122787e+01]\n",
            " [5.75000000e+00 2.00000000e+00 2.78733846e+01 5.95597206e+01\n",
            "  6.22497512e+01]\n",
            " [1.75000000e+00 1.20000000e+00 6.04435246e+01 1.13434782e+02\n",
            "  7.24653258e+01]\n",
            " [3.00000000e+00 6.40000000e+00 1.99603451e+01 4.68555406e+01\n",
            "  4.55058566e+00]\n",
            " [1.50000000e+00 6.40000000e+00 2.37617617e+01 6.13795295e+01\n",
            "  3.20372465e+00]\n",
            " [3.75000000e+00 8.00000000e-01 4.82916870e+01 1.04047672e+02\n",
            "  8.95837174e+01]\n",
            " [4.00000000e+00 9.20000000e+00 3.04614258e+01 4.65786606e+01\n",
            "  1.60089095e+01]\n",
            " [2.00000000e+00 1.60000000e+00 3.45961886e+01 7.19463966e+01\n",
            "  4.96885662e+01]\n",
            " [7.50000000e-01 7.60000000e+00 3.72529718e+01 8.41965736e+01\n",
            "  9.85413987e+00]\n",
            " [2.50000000e+00 6.40000000e+00 1.91999993e+01 4.96115771e+01\n",
            "  0.00000000e+00]\n",
            " [2.50000000e+00 2.40000000e+00 2.18775052e+01 5.29309363e+01\n",
            "  2.61437293e+01]\n",
            " [5.00000000e+00 2.80000000e+00 2.10943737e+01 4.89679815e+01\n",
            "  4.55233276e+01]\n",
            " [1.50000000e+00 4.00000000e-01 1.22725725e+14 9.61050564e+26\n",
            "  1.70156224e+01]\n",
            " [3.50000000e+00 8.40000000e+00 2.66107785e+01 4.66284903e+01\n",
            "  8.43670109e+00]\n",
            " [2.50000000e+00 7.20000000e+00 2.15999919e+01 5.01907991e+01\n",
            "  0.00000000e+00]\n",
            " [5.00000000e-01 8.00000000e-01 8.45459420e+06 1.79230678e+12\n",
            "  0.00000000e+00]\n",
            " [5.75000000e+00 3.20000000e+00 2.56915084e+01 5.43663119e+01\n",
            "  5.22867075e+01]\n",
            " [4.75000000e+00 6.80000000e+00 2.63246241e+01 4.62039077e+01\n",
            "  3.03161590e+01]\n",
            " [5.50000000e+00 5.20000000e+00 2.62386376e+01 5.01722280e+01\n",
            "  4.29366966e+01]\n",
            " [1.25000000e+00 9.20000000e+00 2.76000000e+01 6.98666925e+01\n",
            "  0.00000000e+00]\n",
            " [3.75000000e+00 4.00000000e-01 8.46168387e+09 2.84190092e+18\n",
            "  0.00000000e+00]\n",
            " [5.50000000e+00 4.40000000e+00 2.48433913e+01 5.04728249e+01\n",
            "  4.48260618e+01]\n",
            " [1.00000000e+00 6.40000000e+00 3.20329794e+01 7.36297854e+01\n",
            "  9.68923702e+00]\n",
            " [7.50000000e-01 8.40000000e+00 3.69416900e+01 8.52569030e+01\n",
            "  7.47646822e+00]\n",
            " [2.50000000e+00 8.00000000e-01 1.00492122e+02 1.90298998e+02\n",
            "  9.50185983e+01]\n",
            " [4.25000000e+00 8.00000000e-01 4.48848387e+01 9.90038002e+01\n",
            "  8.96192708e+01]\n",
            " [4.00000000e+00 2.00000000e+00 1.99107254e+01 4.94039905e+01\n",
            "  4.01640322e+01]\n",
            " [3.25000000e+00 4.00000000e-01 5.08698810e+10 1.16534768e+20\n",
            "  0.00000000e+00]\n",
            " [2.25000000e+00 8.00000000e+00 2.39999872e+01 5.29336065e+01\n",
            "  0.00000000e+00]\n",
            " [6.00000000e+00 1.60000000e+00 3.31202043e+01 6.86640363e+01\n",
            "  7.13149683e+01]\n",
            " [5.50000000e+00 4.00000000e+00 2.43309772e+01 5.07763736e+01\n",
            "  4.60535571e+01]\n",
            " [4.50000000e+00 2.40000000e+00 1.97550575e+01 4.80350706e+01\n",
            "  4.17136654e+01]\n",
            " [2.50000000e-01 8.80000000e+00 5.69261591e+01 1.19247439e+02\n",
            "  1.88815875e+01]\n",
            " [6.00000000e+00 2.80000000e+00 2.82635039e+01 5.87390609e+01\n",
            "  5.72837186e+01]\n",
            " [3.75000000e+00 9.60000000e+00 3.07286885e+01 4.70611311e+01\n",
            "  1.12603240e+01]\n",
            " [2.75000000e+00 4.00000000e+00 1.70491906e+01 4.75985384e+01\n",
            "  1.06995553e+01]\n",
            " [2.00000000e+00 8.80000000e+00 2.63999857e+01 5.63824591e+01\n",
            "  0.00000000e+00]\n",
            " [5.00000000e-01 7.20000000e+00 4.59146387e+01 9.72171343e+01\n",
            "  1.70755760e+01]\n",
            " [0.00000000e+00 4.00000000e+00 1.08686761e+02 1.85190963e+02\n",
            "  5.85725190e+01]\n",
            " [2.00000000e+00 6.00000000e+00 1.82179666e+01 5.38600253e+01\n",
            "  3.91814297e-01]\n",
            " [1.00000000e+00 4.80000000e+00 3.41348497e+01 7.37031928e+01\n",
            "  1.78919961e+01]\n",
            " [2.50000000e-01 6.00000000e+00 6.12305836e+01 1.18435142e+02\n",
            "  3.10404819e+01]\n",
            " [1.50000000e+00 7.60000000e+00 2.31491845e+01 6.24879330e+01\n",
            "  2.07820167e-01]\n",
            " [3.50000000e+00 8.00000000e+00 2.55221565e+01 4.63451730e+01\n",
            "  8.88106072e+00]\n",
            " [6.00000000e+00 5.20000000e+00 2.97205392e+01 5.52846742e+01\n",
            "  5.06546564e+01]\n",
            " [2.50000000e+00 9.60000000e+00 2.87992130e+01 5.24111927e+01\n",
            "  0.00000000e+00]\n",
            " [6.00000000e+00 8.00000000e+00 3.60284285e+01 5.53220828e+01\n",
            "  4.81775918e+01]\n",
            " [4.75000000e+00 8.80000000e+00 3.17520485e+01 4.71215012e+01\n",
            "  2.84658521e+01]\n",
            " [4.25000000e+00 1.60000000e+00 2.20968686e+01 5.33431890e+01\n",
            "  4.96777218e+01]\n",
            " [5.50000000e+00 9.60000000e+00 3.71319167e+01 5.12208763e+01\n",
            "  3.82545438e+01]\n",
            " [5.25000000e+00 7.20000000e+00 2.95334320e+01 4.85825350e+01\n",
            "  3.68727752e+01]\n",
            " [6.00000000e+00 1.00000000e+01 4.10844097e+01 5.59476155e+01\n",
            "  4.73522718e+01]\n",
            " [1.25000000e+00 1.60000000e+00 5.86819572e+01 1.07501580e+02\n",
            "  6.26781179e+01]\n",
            " [3.50000000e+00 1.20000000e+00 2.74402784e+01 6.42301027e+01\n",
            "  6.02422310e+01]\n",
            " [3.00000000e+00 2.80000000e+00 1.89856289e+01 4.80539742e+01\n",
            "  2.17667576e+01]\n",
            " [2.25000000e+00 2.40000000e+00 2.37282077e+01 5.55271113e+01\n",
            "  2.71381530e+01]\n",
            " [5.00000000e-01 9.20000000e+00 4.48320317e+01 9.99220111e+01\n",
            "  1.05287711e+01]\n",
            " [0.00000000e+00 1.00000000e+01 7.53898610e+01 1.54055297e+02\n",
            "  2.52297123e+01]\n",
            " [2.50000000e-01 5.20000000e+00 6.42465745e+01 1.20827211e+02\n",
            "  3.62234411e+01]\n",
            " [5.50000000e+00 3.60000000e+00 2.39865795e+01 5.12143530e+01\n",
            "  4.75528565e+01]\n",
            " [1.25000000e+00 9.60000000e+00 2.88000000e+01 7.04518560e+01\n",
            "  0.00000000e+00]]\n"
          ]
        }
      ]
    },
    {
      "cell_type": "code",
      "metadata": {
        "colab": {
          "base_uri": "https://localhost:8080/",
          "height": 231
        },
        "id": "f2nQKU4zfTeK",
        "outputId": "f5c9f4f4-0b9e-48cf-839a-3e15d0822fe5"
      },
      "source": [
        "def objective(trial,data=data,target=target):\n",
        "    \n",
        "    param = {\n",
        "        'tree_method':'gpu_hist',  # this parameter means using the GPU when training our model to speedup the training process\n",
        "        'lambda': trial.suggest_loguniform('lambda', 1e-3, 10.0),\n",
        "        'alpha': trial.suggest_loguniform('alpha', 1e-3, 10.0),\n",
        "        'colsample_bytree': trial.suggest_categorical('colsample_bytree', [0.3,0.4,0.5,0.6,0.7,0.8,0.9, 1.0]),\n",
        "        'subsample': trial.suggest_categorical('subsample', [0.4,0.5,0.6,0.7,0.8,1.0]),\n",
        "        'learning_rate': trial.suggest_categorical('learning_rate', [0.008,0.009,0.01,0.012,0.014,0.016,0.018, 0.02]),\n",
        "        'n_estimators': 4000,\n",
        "        'max_depth': trial.suggest_categorical('max_depth', [5,7,9,11,13,15,17,20]),\n",
        "        'random_state': trial.suggest_categorical('random_state', [24, 48,2020]),\n",
        "        'min_child_weight': trial.suggest_int('min_child_weight', 1, 300),\n",
        "    }\n",
        "    model = xgb.XGBClassifier(**param)  \n",
        "    \n",
        "    model.fit(X_train,y_train_y,eval_set=[(X_test,y_test)],early_stopping_rounds=10,verbose=False)\n",
        "    \n",
        "    preds = model.predict(X_test)\n",
        "    \n",
        "    scoring = 'roc_auc'\n",
        "    \n",
        "    return scoring"
      ],
      "execution_count": null,
      "outputs": [
        {
          "output_type": "error",
          "ename": "NameError",
          "evalue": "ignored",
          "traceback": [
            "\u001b[0;31m---------------------------------------------------------------------------\u001b[0m",
            "\u001b[0;31mNameError\u001b[0m                                 Traceback (most recent call last)",
            "\u001b[0;32m<ipython-input-14-5cdc2ba49e29>\u001b[0m in \u001b[0;36m<module>\u001b[0;34m()\u001b[0m\n\u001b[0;32m----> 1\u001b[0;31m \u001b[0;32mdef\u001b[0m \u001b[0mobjective\u001b[0m\u001b[0;34m(\u001b[0m\u001b[0mtrial\u001b[0m\u001b[0;34m,\u001b[0m\u001b[0mdata\u001b[0m\u001b[0;34m=\u001b[0m\u001b[0mdata\u001b[0m\u001b[0;34m,\u001b[0m\u001b[0mtarget\u001b[0m\u001b[0;34m=\u001b[0m\u001b[0mtarget\u001b[0m\u001b[0;34m)\u001b[0m\u001b[0;34m:\u001b[0m\u001b[0;34m\u001b[0m\u001b[0;34m\u001b[0m\u001b[0m\n\u001b[0m\u001b[1;32m      2\u001b[0m \u001b[0;34m\u001b[0m\u001b[0m\n\u001b[1;32m      3\u001b[0m     param = {\n\u001b[1;32m      4\u001b[0m         \u001b[0;34m'tree_method'\u001b[0m\u001b[0;34m:\u001b[0m\u001b[0;34m'gpu_hist'\u001b[0m\u001b[0;34m,\u001b[0m  \u001b[0;31m# this parameter means using the GPU when training our model to speedup the training process\u001b[0m\u001b[0;34m\u001b[0m\u001b[0;34m\u001b[0m\u001b[0m\n\u001b[1;32m      5\u001b[0m         \u001b[0;34m'lambda'\u001b[0m\u001b[0;34m:\u001b[0m \u001b[0mtrial\u001b[0m\u001b[0;34m.\u001b[0m\u001b[0msuggest_loguniform\u001b[0m\u001b[0;34m(\u001b[0m\u001b[0;34m'lambda'\u001b[0m\u001b[0;34m,\u001b[0m \u001b[0;36m1e-3\u001b[0m\u001b[0;34m,\u001b[0m \u001b[0;36m10.0\u001b[0m\u001b[0;34m)\u001b[0m\u001b[0;34m,\u001b[0m\u001b[0;34m\u001b[0m\u001b[0;34m\u001b[0m\u001b[0m\n",
            "\u001b[0;31mNameError\u001b[0m: name 'data' is not defined"
          ]
        }
      ]
    },
    {
      "cell_type": "markdown",
      "metadata": {
        "id": "1Y89ctGZ7Mcx"
      },
      "source": [
        "## Training XGBoost on the Training set"
      ]
    },
    {
      "cell_type": "code",
      "metadata": {
        "id": "ude1J0E47SKN",
        "colab": {
          "base_uri": "https://localhost:8080/"
        },
        "outputId": "d053054b-769b-48de-8568-cc16a8a647d9"
      },
      "source": [
        "from xgboost import XGBClassifier\n",
        "classifier = XGBClassifier(base_score=0.5, booster='gbtree', colsample_bylevel=1,\n",
        "              colsample_bynode=1, colsample_bytree=1, gamma=0.001,\n",
        "              learning_rate=1, max_delta_step=5, max_depth=3,\n",
        "              min_child_weight=1, n_estimators=150, n_jobs=1,\n",
        "              nthread=None, objective='multi:softprob', random_state=0,\n",
        "              reg_alpha=0, reg_lambda=8.6, scale_pos_weight=1, seed=42,\n",
        "              silent=None, subsample=1, verbosity=1)\n",
        "classifier.fit(X_train, y_train)"
      ],
      "execution_count": null,
      "outputs": [
        {
          "output_type": "stream",
          "name": "stdout",
          "text": [
            "[13:51:21] WARNING: ../src/learner.cc:573: \n",
            "Parameters: { \"scale_pos_weight\" } might not be used.\n",
            "\n",
            "  This may not be accurate due to some parameters are only used in language bindings but\n",
            "  passed down to XGBoost core.  Or some parameters are not used but slip through this\n",
            "  verification. Please open an issue if you find above cases.\n",
            "\n",
            "\n",
            "[13:51:21] WARNING: ../src/learner.cc:1095: Starting in XGBoost 1.3.0, the default evaluation metric used with the objective 'multi:softprob' was changed from 'merror' to 'mlogloss'. Explicitly set eval_metric if you'd like to restore the old behavior.\n"
          ]
        },
        {
          "output_type": "stream",
          "name": "stderr",
          "text": [
            "/usr/local/lib/python3.7/dist-packages/xgboost/sklearn.py:1146: UserWarning: The use of label encoder in XGBClassifier is deprecated and will be removed in a future release. To remove this warning, do the following: 1) Pass option use_label_encoder=False when constructing XGBClassifier object; and 2) Encode your labels (y) as integers starting with 0, i.e. 0, 1, 2, ..., [num_class - 1].\n",
            "  warnings.warn(label_encoder_deprecation_msg, UserWarning)\n"
          ]
        },
        {
          "output_type": "execute_result",
          "data": {
            "text/plain": [
              "XGBClassifier(base_score=0.5, booster='gbtree', colsample_bylevel=1,\n",
              "              colsample_bynode=1, colsample_bytree=1, gamma=0.001, gpu_id=-1,\n",
              "              importance_type='gain', interaction_constraints='',\n",
              "              learning_rate=1, max_delta_step=5, max_depth=3,\n",
              "              min_child_weight=1, missing=nan, monotone_constraints='()',\n",
              "              n_estimators=150, n_jobs=1, nthread=1, num_parallel_tree=1,\n",
              "              objective='multi:softprob', random_state=0, reg_alpha=0,\n",
              "              reg_lambda=8.6, scale_pos_weight=1, seed=42, silent=None,\n",
              "              subsample=1, tree_method='exact', use_label_encoder=True,\n",
              "              validate_parameters=1, ...)"
            ]
          },
          "metadata": {},
          "execution_count": 9
        }
      ]
    },
    {
      "cell_type": "markdown",
      "metadata": {
        "id": "ivqmubzW7dFJ"
      },
      "source": [
        "## Making the Confusion Matrix"
      ]
    },
    {
      "cell_type": "code",
      "metadata": {
        "id": "SUSZ3zm_7gRD",
        "colab": {
          "base_uri": "https://localhost:8080/",
          "height": 647
        },
        "outputId": "189d9135-f98a-4952-cb6c-c11ce28c042e"
      },
      "source": [
        "from sklearn.metrics import confusion_matrix, accuracy_score\n",
        "from sklearn.metrics import plot_confusion_matrix\n",
        "\n",
        "\n",
        "y_pred = classifier.predict(X_test)\n",
        "cm = confusion_matrix(y_test, y_pred)\n",
        "print(cm)\n",
        "\n",
        "\n",
        "titles_options = [(\"Confusion Matrix\", None),\n",
        "                    (\"Normalised Confusion Matrix\", 'true')]\n",
        "\n",
        "for title, normalize in titles_options:\n",
        "    disp = plot_confusion_matrix(classifier,\n",
        "                      X_test,\n",
        "                      y_test,\n",
        "                      cmap=plt.cm.Blues,\n",
        "                      display_labels=[\"Agressive\",\"Optimised\",\"Sluggish\"],\n",
        "                    normalize=normalize)\n",
        "\n",
        "\n",
        "    print(confusion_matrix)\n",
        "plt.show()\n",
        "print(accuracy_score(y_test, y_pred)*100,\"%\")\n",
        "\n",
        "\n"
      ],
      "execution_count": null,
      "outputs": [
        {
          "output_type": "stream",
          "name": "stdout",
          "text": [
            "[[55  0  1]\n",
            " [ 0 18  0]\n",
            " [ 0  0 51]]\n",
            "<function confusion_matrix at 0x7f8dcd394a70>\n",
            "<function confusion_matrix at 0x7f8dcd394a70>\n"
          ]
        },
        {
          "output_type": "display_data",
          "data": {
            "image/png": "[encoded data removed]",
            "text/plain": [
              "<Figure size 432x288 with 2 Axes>"
            ]
          },
          "metadata": {
            "needs_background": "light"
          }
        },
        {
          "output_type": "display_data",
          "data": {
            "image/png": "[encoded data removed]",
            "text/plain": [
              "<Figure size 432x288 with 2 Axes>"
            ]
          },
          "metadata": {
            "needs_background": "light"
          }
        },
        {
          "output_type": "stream",
          "name": "stdout",
          "text": [
            "99.2 %\n"
          ]
        }
      ]
    },
    {
      "cell_type": "code",
      "metadata": {
        "id": "_N29oXk-61kz"
      },
      "source": [
        ""
      ],
      "execution_count": null,
      "outputs": []
    },
    {
      "cell_type": "code",
      "metadata": {
        "id": "YuaNMWb96dpn"
      },
      "source": [
        ""
      ],
      "execution_count": null,
      "outputs": []
    },
    {
      "cell_type": "markdown",
      "metadata": {
        "id": "EnbCjHgQ8XPn"
      },
      "source": [
        "## Applying k-Fold Cross Validation"
      ]
    },
    {
      "cell_type": "code",
      "metadata": {
        "id": "yYbfiITD8ZAz",
        "colab": {
          "base_uri": "https://localhost:8080/",
          "height": 1000
        },
        "outputId": "f3b9b610-674d-4c39-d185-e3a112484bd6"
      },
      "source": [
        "\n",
        "accuracies = cross_val_score(estimator = classifier, X = X_train, y = y_train, cv = 5)\n",
        "print(\"Accuracy: {:.2f} %\".format(accuracies.mean()*100))\n",
        "print(\"Standard Deviation: {:.2f} %\".format(accuracies.std()*100))\n",
        "\n",
        "for title, normalize in titles_options:\n",
        "    disp = plot_confusion_matrix(classifier,\n",
        "                      X_train,\n",
        "                      y_train,\n",
        "                      cmap=plt.cm.Blues,\n",
        "                      display_labels=[\"Agressive\",\"Optimised\",\"Sluggish\"],\n",
        "                    normalize=normalize)\n",
        "\n",
        "    disp.ax_.set_title(title)\n",
        "    print(title)\n",
        "    print(confusion_matrix)\n",
        "plt.show()"
      ],
      "execution_count": null,
      "outputs": [
        {
          "output_type": "stream",
          "name": "stderr",
          "text": [
            "/usr/local/lib/python3.7/dist-packages/xgboost/sklearn.py:1146: UserWarning: The use of label encoder in XGBClassifier is deprecated and will be removed in a future release. To remove this warning, do the following: 1) Pass option use_label_encoder=False when constructing XGBClassifier object; and 2) Encode your labels (y) as integers starting with 0, i.e. 0, 1, 2, ..., [num_class - 1].\n",
            "  warnings.warn(label_encoder_deprecation_msg, UserWarning)\n"
          ]
        },
        {
          "output_type": "stream",
          "name": "stdout",
          "text": [
            "[13:51:32] WARNING: ../src/learner.cc:573: \n",
            "Parameters: { \"scale_pos_weight\" } might not be used.\n",
            "\n",
            "  This may not be accurate due to some parameters are only used in language bindings but\n",
            "  passed down to XGBoost core.  Or some parameters are not used but slip through this\n",
            "  verification. Please open an issue if you find above cases.\n",
            "\n",
            "\n",
            "[13:51:32] WARNING: ../src/learner.cc:1095: Starting in XGBoost 1.3.0, the default evaluation metric used with the objective 'multi:softprob' was changed from 'merror' to 'mlogloss'. Explicitly set eval_metric if you'd like to restore the old behavior.\n",
            "[13:51:32] WARNING: ../src/learner.cc:573: \n",
            "Parameters: { \"scale_pos_weight\" } might not be used.\n",
            "\n",
            "  This may not be accurate due to some parameters are only used in language bindings but\n",
            "  passed down to XGBoost core.  Or some parameters are not used but slip through this\n",
            "  verification. Please open an issue if you find above cases.\n",
            "\n",
            "\n",
            "[13:51:32] WARNING: ../src/learner.cc:1095: Starting in XGBoost 1.3.0, the default evaluation metric used with the objective 'multi:softprob' was changed from 'merror' to 'mlogloss'. Explicitly set eval_metric if you'd like to restore the old behavior.\n",
            "[13:51:32] WARNING: ../src/learner.cc:573: \n",
            "Parameters: { \"scale_pos_weight\" } might not be used.\n",
            "\n",
            "  This may not be accurate due to some parameters are only used in language bindings but\n",
            "  passed down to XGBoost core.  Or some parameters are not used but slip through this\n",
            "  verification. Please open an issue if you find above cases.\n",
            "\n",
            "\n",
            "[13:51:32] WARNING: ../src/learner.cc:1095: Starting in XGBoost 1.3.0, the default evaluation metric used with the objective 'multi:softprob' was changed from 'merror' to 'mlogloss'. Explicitly set eval_metric if you'd like to restore the old behavior.\n",
            "[13:51:32] WARNING: ../src/learner.cc:573: \n",
            "Parameters: { \"scale_pos_weight\" } might not be used.\n",
            "\n",
            "  This may not be accurate due to some parameters are only used in language bindings but\n",
            "  passed down to XGBoost core.  Or some parameters are not used but slip through this\n",
            "  verification. Please open an issue if you find above cases.\n",
            "\n",
            "\n",
            "[13:51:32] WARNING: ../src/learner.cc:1095: Starting in XGBoost 1.3.0, the default evaluation metric used with the objective 'multi:softprob' was changed from 'merror' to 'mlogloss'. Explicitly set eval_metric if you'd like to restore the old behavior.\n",
            "[13:51:33] WARNING: ../src/learner.cc:573: \n",
            "Parameters: { \"scale_pos_weight\" } might not be used.\n",
            "\n",
            "  This may not be accurate due to some parameters are only used in language bindings but\n",
            "  passed down to XGBoost core.  Or some parameters are not used but slip through this\n",
            "  verification. Please open an issue if you find above cases.\n",
            "\n",
            "\n",
            "[13:51:33] WARNING: ../src/learner.cc:1095: Starting in XGBoost 1.3.0, the default evaluation metric used with the objective 'multi:softprob' was changed from 'merror' to 'mlogloss'. Explicitly set eval_metric if you'd like to restore the old behavior.\n",
            "Accuracy: 98.40 %\n",
            "Standard Deviation: 0.80 %\n",
            "Confusion Matrix\n",
            "<function confusion_matrix at 0x7f8dcd394a70>\n",
            "Normalised Confusion Matrix\n",
            "<function confusion_matrix at 0x7f8dcd394a70>\n"
          ]
        },
        {
          "output_type": "display_data",
          "data": {
            "image/png": "[encoded data removed]",
            "text/plain": [
              "<Figure size 432x288 with 2 Axes>"
            ]
          },
          "metadata": {
            "needs_background": "light"
          }
        },
        {
          "output_type": "display_data",
          "data": {
            "image/png": "[encoded data removed]",
            "text/plain": [
              "<Figure size 432x288 with 2 Axes>"
            ]
          },
          "metadata": {
            "needs_background": "light"
          }
        }
      ]
    }
  ]
}